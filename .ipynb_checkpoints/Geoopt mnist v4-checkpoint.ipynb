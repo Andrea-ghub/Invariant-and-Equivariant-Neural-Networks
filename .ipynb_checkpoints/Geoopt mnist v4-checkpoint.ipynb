{
 "cells": [
  {
   "cell_type": "code",
   "execution_count": 1,
   "id": "705e0549",
   "metadata": {},
   "outputs": [],
   "source": [
    "import torch\n",
    "import geoopt\n",
    "from geoopt.optim import RiemannianSGD, RiemannianAdam\n",
    "from tensorflow.keras.datasets import mnist\n",
    "import matplotlib.pyplot as plt\n",
    "from torchvision.transforms.functional import rotate\n",
    "\n",
    "import numpy as np\n",
    "from torch.func import grad\n",
    "from scipy.linalg import lstsq, null_space"
   ]
  },
  {
   "cell_type": "code",
   "execution_count": 2,
   "id": "9ebcac26",
   "metadata": {},
   "outputs": [],
   "source": [
    "## Questo è il notebook dove facciamo le cose sul primo layer\n",
    "## v4 = retraction esatta"
   ]
  },
  {
   "cell_type": "markdown",
   "id": "952f95bf",
   "metadata": {},
   "source": [
    "TODO:\n",
    "* controllare se comb lin di vettori del kernel è in media sempre lo stesso vettore\n",
    "* riuscirci\n",
    "\n",
    "$$P^\\parallel=D(D^tD)^{-1}D^t$$"
   ]
  },
  {
   "cell_type": "code",
   "execution_count": 3,
   "id": "d13bf8da",
   "metadata": {},
   "outputs": [
    {
     "name": "stdout",
     "output_type": "stream",
     "text": [
      "Train: X=(60000, 28, 28), y=(60000,)\n",
      "Test: X=(10000, 28, 28), y=(10000,)\n"
     ]
    },
    {
     "data": {
      "image/png": "[encoded data removed]",
      "text/plain": [
       "<Figure size 640x480 with 9 Axes>"
      ]
     },
     "metadata": {},
     "output_type": "display_data"
    }
   ],
   "source": [
    "# load dataset\n",
    "(trainX, trainy), (testX, testy) = mnist.load_data()\n",
    "trainX = trainX/255\n",
    "# summarize loaded dataset\n",
    "print('Train: X=%s, y=%s' % (trainX.shape, trainy.shape))\n",
    "print('Test: X=%s, y=%s' % (testX.shape, testy.shape))\n",
    "# plot first few images\n",
    "for i in range(9):\n",
    "    # define subplot\n",
    "    plt.subplot(330 + 1 + i)\n",
    "    # plot raw pixel data\n",
    "    plt.imshow(trainX[i], cmap=plt.get_cmap('gray'))\n",
    "# show the figure\n",
    "plt.show()"
   ]
  },
  {
   "cell_type": "code",
   "execution_count": 4,
   "id": "18cc89d7",
   "metadata": {},
   "outputs": [],
   "source": [
    "def G(d): # questa è  rot_mat\n",
    "    mat = np.zeros(d**4).reshape(d**2,d**2)\n",
    "    for j in range(d):\n",
    "        for i in range(d):\n",
    "            k = (i+1)*d-j\n",
    "            h = i+(j)*d+1\n",
    "\n",
    "            mat[h-1][k-1] = 1\n",
    "    return mat\n",
    "\n",
    "def W(output_dim, d = 4):\n",
    "    kernel = null_space((np.identity(d*d) -  G(d)).T).T\n",
    "    W = []\n",
    "    for j in range(output_dim):\n",
    "        vec = np.zeros(d**2)\n",
    "        for k in kernel:\n",
    "            vec = (np.random.random()-0.5)*2*k + vec # kernel[j]\n",
    "        W.append(list(vec/np.linalg.norm(vec)))\n",
    "    W = np.array(W)\n",
    "    return np.array(W)\n",
    "\n",
    "def projector(d = 4):\n",
    "    kernel = null_space((np.identity(d*d) -  G(d)).T)\n",
    "    \n",
    "    return kernel @ kernel.T"
   ]
  },
  {
   "cell_type": "code",
   "execution_count": 5,
   "id": "d5926d61",
   "metadata": {},
   "outputs": [],
   "source": [
    "def NN(x, thetas):\n",
    "    W1, b1, W2, b2 = deflatten(thetas, get_shapes([W1_i, b1_i, W2_i,b2_i]))\n",
    "    out = W2 @ torch.nn.LeakyReLU()(W1 @ x + b1) + b2\n",
    "    return out"
   ]
  },
  {
   "cell_type": "code",
   "execution_count": 6,
   "id": "d9b277c9",
   "metadata": {},
   "outputs": [],
   "source": [
    "# Funzione che definisce la varietà: sfera unitaria centrata in 0\n",
    "def g(thetas):\n",
    "    W1, b1, W2, b2 = deflatten(thetas, get_shapes([W1_i, b1_i, W2_i,b2_i]))\n",
    "    d = int(np.sqrt(W1.shape[1]))\n",
    "    ker_equation = torch.Tensor(W1) @ (torch.eye(d*d) -  torch.Tensor(G(d)))\n",
    "    \n",
    "    norm = (ker_equation.norm())**2\n",
    "    return norm # sfera unitaria\n",
    "\n",
    "# Gradiente di f\n",
    "def dg(thetas):\n",
    "    gradient = grad(g)(thetas)\n",
    "    return gradient #+ 1e-5*(gradient.norm()==0)\n",
    "\n",
    "def flatten(weights_list):\n",
    "    flatten_weights = []\n",
    "    for weight in weights_list:\n",
    "        flatten_weights.append(weight.flatten())\n",
    "        \n",
    "    return torch.cat(flatten_weights)\n",
    "\n",
    "def deflatten(weights_flat, shapes):\n",
    "    weigths_list = []\n",
    "    shape_counter = 0\n",
    "    for shape in shapes:\n",
    "        weight = torch.Tensor(weights_flat[shape_counter: shape_counter + np.prod(shape)])\n",
    "        shape_counter = shape_counter + np.prod(shape)\n",
    "        \n",
    "        weigths_list.append(weight.reshape(shape))\n",
    "            \n",
    "    return weigths_list\n",
    "\n",
    "def get_shapes(weights_list):\n",
    "    shapes = []\n",
    "    for weight in weights_list:\n",
    "        shapes.append(weight.shape)\n",
    "    return(shapes)\n",
    "\n",
    "# Classe LevelSetManifold già implementata sopra\n",
    "class LevelSetManifold(geoopt.manifolds.Manifold):\n",
    "    \n",
    "    ndim = 1\n",
    "    name = \"Caste\"\n",
    "    \n",
    "    def __init__(self, f, df, lr_proj = 1):\n",
    "        super().__init__()\n",
    "        self.f = f\n",
    "        self.df = df\n",
    "        self.lr_proj = lr_proj\n",
    "\n",
    "    def _check_point_on_manifold(self, x, atol=1e-8, rtol=1e-8):\n",
    "        return torch.abs(self.f(x)) < atol\n",
    "\n",
    "    def _check_vector_on_tangent(self, x, u, atol=1e-8, rtol=1e-8):\n",
    "        grad_f = self.df(x)\n",
    "        return torch.abs(u @ grad_f).sum() < atol\n",
    "    \n",
    "    def projx(self, x):\n",
    "        if self._check_point_on_manifold(x):\n",
    "            return x\n",
    "        W1, b1, W2, b2 = deflatten(x, get_shapes([W1_i, b1_i, W2_i,b2_i]))\n",
    "        W1_invariant = (torch.Tensor(projector(d = 28)) @ W1.T).T\n",
    "        x = torch.Tensor(flatten([W1_invariant, b1, W2, b2]))\n",
    "\n",
    "        return x \n",
    "    \n",
    "#     def projx(self,x):\n",
    "#         if self._check_point_on_manifold(x):\n",
    "#             return x\n",
    "#         for r in range(100):\n",
    "#             x = self.single_projx(x)\n",
    "# #             print(\"g: \", self.f(x))\n",
    "# #             print(\"dg: \", self.df(x).norm())\n",
    "#             if r == 99:\n",
    "#                 print(f\"Retraction applied {r + 1} times\")\n",
    "#             if self._check_point_on_manifold(x):\n",
    "# #                 print(f\"Retraction applied {r + 1} times\")\n",
    "#                 break\n",
    "#         return x\n",
    "    \n",
    "    def single_projx(self, x):\n",
    "        grad_f = self.df(x)\n",
    "        f_val = self.f(x)\n",
    "        return x - self.lr_proj*(f_val / grad_f.norm()**2 * grad_f)\n",
    "\n",
    "    def proju(self, x, u):\n",
    "        if self._check_point_on_manifold(u):\n",
    "            return x\n",
    "        W1, b1, W2, b2 = deflatten(u, get_shapes([W1_i, b1_i, W2_i,b2_i]))\n",
    "        W1_invariant = (torch.Tensor(projector(d = 28)) @ W1.T).T\n",
    "        u = torch.Tensor(flatten([W1_invariant, b1, W2, b2]))\n",
    "#         print(\"Norma gradiente: \", u.norm())\n",
    "        return u\n",
    "#         grad_f = self.df(x)\n",
    "#         print(\"andrea\")\n",
    "#         return u - (u @ grad_f) / grad_f.norm()**2 * grad_f\n",
    "\n",
    "    def inner(self, x, u, v=None):\n",
    "        if v is None:\n",
    "            v = u\n",
    "        return (u * v).sum()\n",
    "\n",
    "    def expmap(self, x, u):\n",
    "        return self.retr(x, u)\n",
    "\n",
    "    def egrad2rgrad(self, x, u):\n",
    "        return self.proju(x, u)\n",
    "\n",
    "    def retr(self, x, u):\n",
    "        x_new = x + u\n",
    "        return self.projx(x_new)\n",
    "\n"
   ]
  },
  {
   "cell_type": "code",
   "execution_count": 50,
   "id": "3cde28a2",
   "metadata": {},
   "outputs": [],
   "source": [
    "quale = [151,180, 210, 440] #range(100)\n",
    "\n",
    "mnist_vector = torch.Tensor(trainX) #torch.randint(0, 256, (1,28,28)).float()/256\n",
    "mnist_vector_rotated_90 = rotate(img=mnist_vector, angle=90)[quale].reshape(len(quale),784).T\n",
    "mnist_vector_rotated_180 = rotate(img=mnist_vector, angle=180)[quale].reshape(len(quale),784).T\n",
    "mnist_vector_rotated_270 = rotate(img=mnist_vector, angle=270)[quale].reshape(len(quale),784).T\n",
    "mnist_vector = mnist_vector[quale].reshape(len(quale),784).T"
   ]
  },
  {
   "cell_type": "code",
   "execution_count": 51,
   "id": "8c500b07",
   "metadata": {},
   "outputs": [
    {
     "data": {
      "text/plain": [
       "<matplotlib.image.AxesImage at 0x177045c7fd0>"
      ]
     },
     "execution_count": 51,
     "metadata": {},
     "output_type": "execute_result"
    },
    {
     "data": {
      "image/png": "[encoded data removed]",
      "text/plain": [
       "<Figure size 640x480 with 1 Axes>"
      ]
     },
     "metadata": {},
     "output_type": "display_data"
    }
   ],
   "source": [
    "plt.imshow(mnist_vector.detach().numpy().T[0].reshape(28,28))"
   ]
  },
  {
   "cell_type": "code",
   "execution_count": 56,
   "id": "f24e22e0",
   "metadata": {},
   "outputs": [],
   "source": [
    "W1_i = (torch.rand((16,784)).float() - 0.5)*2 # W(64, d = 28) \n",
    "b1_i = (torch.rand((16,1)).float() - 0.5)*2\n",
    "\n",
    "W2_i = (torch.rand((10,16)).float() - 0.5)*2\n",
    "b2_i = (torch.rand((10,1)).float() - 0.5)*2"
   ]
  },
  {
   "cell_type": "code",
   "execution_count": 57,
   "id": "aaed2286",
   "metadata": {},
   "outputs": [
    {
     "data": {
      "text/plain": [
       "tensor(8349.4600, grad_fn=<PowBackward0>)"
      ]
     },
     "execution_count": 57,
     "metadata": {},
     "output_type": "execute_result"
    }
   ],
   "source": [
    "# Creiamo la varietà\n",
    "manifold = LevelSetManifold(g, dg, 1)\n",
    "# Test del parametro manifold\n",
    "\n",
    "theta = flatten([W1_i, b1_i, W2_i, b2_i])\n",
    "theta = geoopt.ManifoldParameter(theta , manifold=manifold)\n",
    "g(theta)"
   ]
  },
  {
   "cell_type": "code",
   "execution_count": 58,
   "id": "35913e15",
   "metadata": {},
   "outputs": [
    {
     "data": {
      "text/plain": [
       "tensor(317.2309, grad_fn=<LinalgVectorNormBackward0>)"
      ]
     },
     "execution_count": 58,
     "metadata": {},
     "output_type": "execute_result"
    }
   ],
   "source": [
    "torch.norm(dg(theta))"
   ]
  },
  {
   "cell_type": "code",
   "execution_count": 59,
   "id": "725c30ea",
   "metadata": {},
   "outputs": [
    {
     "name": "stdout",
     "output_type": "stream",
     "text": [
      "\n",
      "\n",
      "\n",
      "############## Training phase ################\n",
      "Norma gradiente:  tensor(13.4065)\n",
      "Epoch 1 \n",
      " Loss: 11.597160339355469 \n",
      " Acc: 0.0 \n",
      " g(theta): 2.5e-14 \n",
      " Invariance:  0.16666666666666666 \n",
      "\n",
      "Norma gradiente:  tensor(8.0223)\n",
      "Norma gradiente:  tensor(7.6761)\n",
      "Norma gradiente:  tensor(7.3692)\n",
      "Norma gradiente:  tensor(7.0906)\n",
      "Norma gradiente:  tensor(6.8292)\n",
      "Norma gradiente:  tensor(6.5737)\n",
      "Norma gradiente:  tensor(6.3129)\n",
      "Norma gradiente:  tensor(6.0390)\n",
      "Norma gradiente:  tensor(5.7526)\n",
      "Norma gradiente:  tensor(5.4660)\n",
      "Norma gradiente:  tensor(5.1988)\n",
      "Norma gradiente:  tensor(4.9673)\n",
      "Norma gradiente:  tensor(4.7774)\n",
      "Norma gradiente:  tensor(4.7353)\n",
      "Norma gradiente:  tensor(4.6061)\n",
      "Norma gradiente:  tensor(4.5015)\n",
      "Norma gradiente:  tensor(4.4134)\n",
      "Norma gradiente:  tensor(4.3362)\n",
      "Norma gradiente:  tensor(4.2662)\n",
      "Norma gradiente:  tensor(4.2009)\n",
      "Epoch 21 \n",
      " Loss: 2.5494885444641113 \n",
      " Acc: 0.5 \n",
      " g(theta): 2.5e-14 \n",
      " Invariance:  1.0 \n",
      "\n",
      "Norma gradiente:  tensor(4.1388)\n",
      "Norma gradiente:  tensor(4.0788)\n",
      "Norma gradiente:  tensor(4.0201)\n",
      "Norma gradiente:  tensor(3.9622)\n",
      "Norma gradiente:  tensor(3.9045)\n",
      "Norma gradiente:  tensor(3.8466)\n",
      "Norma gradiente:  tensor(3.7881)\n",
      "Norma gradiente:  tensor(3.7287)\n",
      "Norma gradiente:  tensor(3.6682)\n",
      "Norma gradiente:  tensor(3.6062)\n",
      "Norma gradiente:  tensor(3.5427)\n",
      "Norma gradiente:  tensor(3.4777)\n",
      "Norma gradiente:  tensor(3.4112)\n",
      "Norma gradiente:  tensor(3.3434)\n",
      "Norma gradiente:  tensor(3.2746)\n",
      "Norma gradiente:  tensor(3.2051)\n",
      "Norma gradiente:  tensor(3.1354)\n",
      "Norma gradiente:  tensor(2.8796)\n",
      "Norma gradiente:  tensor(2.8039)\n",
      "Norma gradiente:  tensor(2.7308)\n",
      "Epoch 41 \n",
      " Loss: 1.2546486854553223 \n",
      " Acc: 0.5 \n",
      " g(theta): 2.5e-14 \n",
      " Invariance:  1.0 \n",
      "\n",
      "Norma gradiente:  tensor(2.6607)\n",
      "Norma gradiente:  tensor(2.5937)\n",
      "Norma gradiente:  tensor(2.5299)\n",
      "Norma gradiente:  tensor(2.4694)\n",
      "Norma gradiente:  tensor(2.4119)\n",
      "Norma gradiente:  tensor(2.3574)\n",
      "Norma gradiente:  tensor(2.3057)\n",
      "Norma gradiente:  tensor(2.5303)\n",
      "Norma gradiente:  tensor(2.2101)\n",
      "Norma gradiente:  tensor(2.1656)\n",
      "Norma gradiente:  tensor(2.1232)\n",
      "Norma gradiente:  tensor(2.0825)\n",
      "Norma gradiente:  tensor(2.0436)\n",
      "Norma gradiente:  tensor(2.0062)\n",
      "Norma gradiente:  tensor(1.9702)\n",
      "Norma gradiente:  tensor(1.9355)\n",
      "Norma gradiente:  tensor(1.9020)\n",
      "Norma gradiente:  tensor(1.8696)\n",
      "Norma gradiente:  tensor(2.1418)\n",
      "Norma gradiente:  tensor(1.8082)\n",
      "Epoch 61 \n",
      " Loss: 0.7599014639854431 \n",
      " Acc: 0.75 \n",
      " g(theta): 2.5e-14 \n",
      " Invariance:  1.0 \n",
      "\n",
      "Norma gradiente:  tensor(1.7788)\n",
      "Norma gradiente:  tensor(1.7502)\n",
      "Norma gradiente:  tensor(1.7224)\n",
      "Norma gradiente:  tensor(1.6953)\n",
      "Norma gradiente:  tensor(1.6690)\n",
      "Norma gradiente:  tensor(1.6434)\n",
      "Norma gradiente:  tensor(1.6185)\n",
      "Norma gradiente:  tensor(1.5942)\n",
      "Norma gradiente:  tensor(1.5706)\n",
      "Norma gradiente:  tensor(1.5475)\n",
      "Norma gradiente:  tensor(1.8233)\n",
      "Norma gradiente:  tensor(1.5041)\n",
      "Norma gradiente:  tensor(1.4827)\n",
      "Norma gradiente:  tensor(1.4619)\n",
      "Norma gradiente:  tensor(1.4415)\n",
      "Norma gradiente:  tensor(1.4217)\n",
      "Norma gradiente:  tensor(1.4023)\n",
      "Norma gradiente:  tensor(1.3833)\n",
      "Norma gradiente:  tensor(1.3648)\n",
      "\n",
      "\n",
      "\n",
      "Punto finale: Parameter on Caste manifold containing:\n",
      "Parameter(ManifoldParameter([ 0.5400,  0.0438,  0.1052,  ..., -0.1847,  0.0241,\n",
      "                   -0.9842], requires_grad=True))\n",
      "Appartiene alla varietà? tensor(True)\n"
     ]
    },
    {
     "data": {
      "image/png": "[encoded data removed]",
      "text/plain": [
       "<Figure size 640x480 with 1 Axes>"
      ]
     },
     "metadata": {},
     "output_type": "display_data"
    }
   ],
   "source": [
    "print(\"\\n\\n\")\n",
    "\n",
    "# # Verifica che il parametro iniziale appartenga alla varietà\n",
    "# assert manifold._check_point_on_manifold(theta.data), \"Il punto iniziale non è sulla varietà\"\n",
    "\n",
    "def loss_fn(mnist_vector, theta):\n",
    "    return torch.nn.CrossEntropyLoss()(NN(mnist_vector, theta).T, torch.Tensor(trainy[quale]).long())\n",
    "\n",
    "# Ottimizzatore Riemanniano\n",
    "optimizer = RiemannianSGD([theta], lr=0.005)\n",
    "\n",
    "# Ciclo di ottimizzazione\n",
    "g_during_train = []\n",
    "loss_history = []\n",
    "acc_history = []\n",
    "inv_history = []\n",
    "print(\"############## Training phase ################\")\n",
    "for epoch in range(80):\n",
    "    outputs = NN(mnist_vector,theta)\n",
    "    _, predicted = torch.max(outputs.data, 0)\n",
    "    correct = (predicted == torch.Tensor(trainy[quale])).sum().item()\n",
    "    \n",
    "    _, pred_90 = torch.max(NN(mnist_vector_rotated_90, theta), 0)\n",
    "    _, pred_180 = torch.max(NN(mnist_vector_rotated_180, theta), 0)\n",
    "    _, pred_270 = torch.max(NN(mnist_vector_rotated_270, theta), 0)\n",
    "    \n",
    "    inv1 = (predicted == pred_90).sum().item()\n",
    "    inv2 = (predicted == pred_180).sum().item()\n",
    "    inv3 = (predicted == pred_270).sum().item()\n",
    "    \n",
    "    inv = (inv1 + inv2 + inv3)/(3*len(quale))\n",
    "    \n",
    "    acc = correct/len(quale)\n",
    "    optimizer.zero_grad()\n",
    "    loss = loss_fn(mnist_vector, theta)\n",
    "    loss.backward()\n",
    "    optimizer.step()\n",
    "    if epoch%20 == 0:\n",
    "        print(\"Epoch\",  epoch + 1, \"\\n\",\n",
    "              \"Loss:\", loss.item(), \"\\n\",\n",
    "              \"Acc:\", acc, \"\\n\",\n",
    "              \"g(theta):\", round(float(g(theta).data.numpy()),15), \"\\n\",\n",
    "              \"Invariance: \", inv, \"\\n\",)\n",
    "    loss_history.append(loss.item())\n",
    "    g_during_train.append(g(theta).data.numpy())\n",
    "    acc_history.append(acc)\n",
    "    inv_history.append(inv)\n",
    "    \n",
    "# plt.plot(g_during_train)\n",
    "plt.plot(acc_history, label = \"acc\")\n",
    "plt.plot(np.array(loss_history)/np.max(loss_history), label = \"loss\")\n",
    "plt.plot(inv_history, \"Inv\")\n",
    "print(\"\\n\\n\")\n",
    "\n",
    "# Risultato finale\n",
    "print(\"Punto finale:\", theta)\n",
    "print(\"Appartiene alla varietà?\", manifold._check_point_on_manifold(theta))"
   ]
  },
  {
   "cell_type": "code",
   "execution_count": null,
   "id": "b2843525",
   "metadata": {
    "scrolled": false
   },
   "outputs": [],
   "source": [
    "# for x,y in zip(NN(mnist_vector,theta).T, trainy[quale]):\n",
    "#     print(x,y)"
   ]
  },
  {
   "cell_type": "code",
   "execution_count": 26,
   "id": "c8851222",
   "metadata": {},
   "outputs": [
    {
     "data": {
      "text/plain": [
       "tensor([-0.5236,  3.9900,  6.5515,  0.5178, -0.8619, 10.4275, -7.5598,  6.1933,\n",
       "         3.8006, -7.1645], grad_fn=<SelectBackward0>)"
      ]
     },
     "execution_count": 26,
     "metadata": {},
     "output_type": "execute_result"
    }
   ],
   "source": [
    "NN(mnist_vector, theta).T[0]"
   ]
  },
  {
   "cell_type": "code",
   "execution_count": 27,
   "id": "ac5707a6",
   "metadata": {},
   "outputs": [
    {
     "data": {
      "text/plain": [
       "tensor([-0.5236,  3.9900,  6.5515,  0.5178, -0.8619, 10.4275, -7.5598,  6.1933,\n",
       "         3.8006, -7.1645], grad_fn=<SelectBackward0>)"
      ]
     },
     "execution_count": 27,
     "metadata": {},
     "output_type": "execute_result"
    }
   ],
   "source": [
    "NN(mnist_vector_rotated_90, theta).T[0]"
   ]
  },
  {
   "cell_type": "code",
   "execution_count": 28,
   "id": "bc542633",
   "metadata": {
    "scrolled": true
   },
   "outputs": [
    {
     "data": {
      "text/plain": [
       "tensor([-0.5236,  3.9900,  6.5515,  0.5178, -0.8619, 10.4275, -7.5598,  6.1933,\n",
       "         3.8006, -7.1645], grad_fn=<SelectBackward0>)"
      ]
     },
     "execution_count": 28,
     "metadata": {},
     "output_type": "execute_result"
    }
   ],
   "source": [
    "NN(mnist_vector_rotated_180, theta).T[0]"
   ]
  },
  {
   "cell_type": "code",
   "execution_count": 29,
   "id": "022923d5",
   "metadata": {},
   "outputs": [
    {
     "data": {
      "text/plain": [
       "tensor([-0.5236,  3.9900,  6.5515,  0.5179, -0.8619, 10.4275, -7.5598,  6.1933,\n",
       "         3.8006, -7.1645], grad_fn=<SelectBackward0>)"
      ]
     },
     "execution_count": 29,
     "metadata": {},
     "output_type": "execute_result"
    }
   ],
   "source": [
    "NN(mnist_vector_rotated_270, theta).T[0]"
   ]
  },
  {
   "cell_type": "code",
   "execution_count": 30,
   "id": "ccbb17b8",
   "metadata": {},
   "outputs": [],
   "source": [
    "W1, b1, W2, b2 = deflatten(theta, get_shapes([W1_i, b1_i, W2_i,b2_i]))"
   ]
  },
  {
   "cell_type": "code",
   "execution_count": 31,
   "id": "0586ee8d",
   "metadata": {},
   "outputs": [
    {
     "data": {
      "text/plain": [
       "1.5240717615430531e-07"
      ]
     },
     "execution_count": 31,
     "metadata": {},
     "output_type": "execute_result"
    }
   ],
   "source": [
    "condition = W1.detach().numpy() @ (np.identity(28*28) -  G(28))\n",
    "np.linalg.norm(condition)"
   ]
  },
  {
   "cell_type": "code",
   "execution_count": 32,
   "id": "0ce9594c",
   "metadata": {},
   "outputs": [
    {
     "data": {
      "text/plain": [
       "3.684131297977548e-07"
      ]
     },
     "execution_count": 32,
     "metadata": {},
     "output_type": "execute_result"
    }
   ],
   "source": [
    "np.linalg.norm(condition @ np.random.randint(0,10,28*28))"
   ]
  },
  {
   "cell_type": "code",
   "execution_count": 34,
   "id": "e17a12f4",
   "metadata": {},
   "outputs": [
    {
     "data": {
      "text/plain": [
       "8.288577081875617e-08"
      ]
     },
     "execution_count": 34,
     "metadata": {},
     "output_type": "execute_result"
    }
   ],
   "source": [
    "np.linalg.norm(condition @ mnist_vector.detach().numpy().T[0])"
   ]
  },
  {
   "cell_type": "code",
   "execution_count": 38,
   "id": "81e61e40",
   "metadata": {},
   "outputs": [
    {
     "data": {
      "text/plain": [
       "<matplotlib.image.AxesImage at 0x1770468fee0>"
      ]
     },
     "execution_count": 38,
     "metadata": {},
     "output_type": "execute_result"
    },
    {
     "data": {
      "image/png": "[encoded data removed]",
      "text/plain": [
       "<Figure size 640x480 with 1 Axes>"
      ]
     },
     "metadata": {},
     "output_type": "display_data"
    }
   ],
   "source": [
    "plt.imshow(mnist_vector.detach().numpy().T[0].reshape(28,28))"
   ]
  },
  {
   "cell_type": "code",
   "execution_count": null,
   "id": "21a3a9fc",
   "metadata": {},
   "outputs": [],
   "source": [
    "np.max(condition)"
   ]
  },
  {
   "cell_type": "code",
   "execution_count": null,
   "id": "b75d0a7f",
   "metadata": {},
   "outputs": [],
   "source": [
    "(W1.detach().numpy() @ mnist_vector.detach().numpy() )[0]"
   ]
  },
  {
   "cell_type": "code",
   "execution_count": null,
   "id": "80e1abbc",
   "metadata": {},
   "outputs": [],
   "source": [
    "(W1.detach().numpy() @ G(28) @ mnist_vector )[0]"
   ]
  },
  {
   "cell_type": "code",
   "execution_count": null,
   "id": "a7b63750",
   "metadata": {},
   "outputs": [],
   "source": [
    "W1.detach().numpy() @ G(28)"
   ]
  },
  {
   "cell_type": "code",
   "execution_count": null,
   "id": "44bcda41",
   "metadata": {},
   "outputs": [],
   "source": [
    "plt.imshow(mnist_vector[2].reshape(28,28))"
   ]
  },
  {
   "cell_type": "code",
   "execution_count": null,
   "id": "f7e441ad",
   "metadata": {},
   "outputs": [],
   "source": [
    "W1 @ mnist_vector @ mnist_vector[0]"
   ]
  },
  {
   "cell_type": "code",
   "execution_count": null,
   "id": "ab39e2a9",
   "metadata": {},
   "outputs": [],
   "source": [
    "W1 @ torch.Tensor(G(28))  @ mnist_vector"
   ]
  },
  {
   "cell_type": "code",
   "execution_count": null,
   "id": "af97d272",
   "metadata": {},
   "outputs": [],
   "source": [
    "(torch.Tensor(G(28))  @ mnist_vector.T[0] - mnist_vector_rotated_90[0]).norm()"
   ]
  },
  {
   "cell_type": "code",
   "execution_count": null,
   "id": "b4f45af5",
   "metadata": {},
   "outputs": [],
   "source": [
    "torch.nn.LeakyReLU()(W1 @ mnist_vector + b1)"
   ]
  },
  {
   "cell_type": "code",
   "execution_count": null,
   "id": "b3fa26ca",
   "metadata": {},
   "outputs": [],
   "source": [
    "torch.nn.LeakyReLU()(W1 @ mnist_vector_rotated_90 + b1)"
   ]
  },
  {
   "cell_type": "code",
   "execution_count": null,
   "id": "e6416d5f",
   "metadata": {},
   "outputs": [],
   "source": [
    "thet = manifold.projx( theta)\n",
    "W1_p, b1, W2, b2 = deflatten(thet, get_shapes([W1_i, b1_i, W2_i,b2_i]))"
   ]
  },
  {
   "cell_type": "code",
   "execution_count": null,
   "id": "0f1c12ae",
   "metadata": {},
   "outputs": [],
   "source": [
    "np.linalg.norm((W1.detach().numpy() @ (np.identity(28*28) -  G(28))))"
   ]
  },
  {
   "cell_type": "code",
   "execution_count": null,
   "id": "6d24e7a2",
   "metadata": {},
   "outputs": [],
   "source": [
    "np.linalg.norm(W1_p.detach().numpy() @ (np.identity(28*28) -  G(28)))"
   ]
  },
  {
   "cell_type": "code",
   "execution_count": null,
   "id": "ae382004",
   "metadata": {},
   "outputs": [],
   "source": [
    "W1 @ mnist_vector_rotated_180"
   ]
  },
  {
   "cell_type": "code",
   "execution_count": null,
   "id": "5b2ff962",
   "metadata": {},
   "outputs": [],
   "source": [
    "W1 @ mnist_vector_rotated_90"
   ]
  },
  {
   "cell_type": "code",
   "execution_count": null,
   "id": "19736639",
   "metadata": {},
   "outputs": [],
   "source": [
    "W1, b1, W2, b2 = deflatten(thetas, get_shapes([W1_i, b1_i, W2_i,b2_i]))\n",
    "out = W2 @ torch.nn.LeakyReLU()(W1 @ x + b1) + b2"
   ]
  },
  {
   "cell_type": "code",
   "execution_count": null,
   "id": "25ec4674",
   "metadata": {},
   "outputs": [],
   "source": [
    "torch.nn.LeakyReLU()(W1 @ mnist_vector_rotated_90 + b1)"
   ]
  },
  {
   "cell_type": "code",
   "execution_count": null,
   "id": "a75173d1",
   "metadata": {},
   "outputs": [],
   "source": [
    "torch.nn.LeakyReLU()(W1 @ mnist_vector + b1)"
   ]
  },
  {
   "cell_type": "code",
   "execution_count": null,
   "id": "dd0e9d86",
   "metadata": {},
   "outputs": [],
   "source": []
  },
  {
   "cell_type": "code",
   "execution_count": null,
   "id": "f5977a90",
   "metadata": {},
   "outputs": [],
   "source": []
  },
  {
   "cell_type": "code",
   "execution_count": null,
   "id": "2a347d20",
   "metadata": {},
   "outputs": [],
   "source": []
  },
  {
   "cell_type": "code",
   "execution_count": null,
   "id": "a526a767",
   "metadata": {},
   "outputs": [],
   "source": [
    "W1_p @ mnist_vector"
   ]
  },
  {
   "cell_type": "code",
   "execution_count": null,
   "id": "58ae5802",
   "metadata": {},
   "outputs": [],
   "source": [
    "W1_p @ mnist_vector_rotated_90"
   ]
  }
 ],
 "metadata": {
  "kernelspec": {
   "display_name": "Python 3 (ipykernel)",
   "language": "python",
   "name": "python3"
  },
  "language_info": {
   "codemirror_mode": {
    "name": "ipython",
    "version": 3
   },
   "file_extension": ".py",
   "mimetype": "text/x-python",
   "name": "python",
   "nbconvert_exporter": "python",
   "pygments_lexer": "ipython3",
   "version": "3.9.13"
  }
 },
 "nbformat": 4,
 "nbformat_minor": 5
}
