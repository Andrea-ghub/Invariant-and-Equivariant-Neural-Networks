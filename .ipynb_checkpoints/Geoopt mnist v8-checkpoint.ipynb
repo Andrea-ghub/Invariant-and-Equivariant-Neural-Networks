{
 "cells": [
  {
   "cell_type": "code",
   "execution_count": 1,
   "id": "705e0549",
   "metadata": {},
   "outputs": [],
   "source": [
    "import torch\n",
    "import geoopt\n",
    "from geoopt.optim import RiemannianSGD, RiemannianAdam\n",
    "from tensorflow.keras.datasets import mnist\n",
    "import matplotlib.pyplot as plt\n",
    "from torchvision.transforms.functional import rotate\n",
    "\n",
    "import numpy as np\n",
    "from torch.func import grad\n",
    "from scipy.linalg import lstsq, null_space"
   ]
  },
  {
   "cell_type": "code",
   "execution_count": 2,
   "id": "9ebcac26",
   "metadata": {},
   "outputs": [],
   "source": [
    "## Questo è il notebook dove facciamo le cose sul primo layer\n",
    "## + layer retraction non esatta"
   ]
  },
  {
   "cell_type": "markdown",
   "id": "952f95bf",
   "metadata": {},
   "source": [
    "TODO:\n",
    "* controllare se comb lin di vettori del kernel è in media sempre lo stesso vettore\n",
    "* riuscirci\n",
    "\n",
    "$$P^\\parallel=D(D^tD)^{-1}D^t$$"
   ]
  },
  {
   "cell_type": "code",
   "execution_count": 2,
   "id": "d13bf8da",
   "metadata": {},
   "outputs": [
    {
     "name": "stdout",
     "output_type": "stream",
     "text": [
      "Train: X=(60000, 28, 28), y=(60000,)\n",
      "Test: X=(10000, 28, 28), y=(10000,)\n"
     ]
    },
    {
     "data": {
      "image/png": "[encoded data removed]",
      "text/plain": [
       "<Figure size 640x480 with 9 Axes>"
      ]
     },
     "metadata": {},
     "output_type": "display_data"
    }
   ],
   "source": [
    "# load dataset\n",
    "(trainX, trainy), (testX, testy) = mnist.load_data()\n",
    "trainX = trainX/255\n",
    "# summarize loaded dataset\n",
    "print('Train: X=%s, y=%s' % (trainX.shape, trainy.shape))\n",
    "print('Test: X=%s, y=%s' % (testX.shape, testy.shape))\n",
    "# plot first few images\n",
    "for i in range(9):\n",
    "    # define subplot\n",
    "    plt.subplot(330 + 1 + i)\n",
    "    # plot raw pixel data\n",
    "    plt.imshow(trainX[i], cmap=plt.get_cmap('gray'))\n",
    "# show the figure\n",
    "plt.show()"
   ]
  },
  {
   "cell_type": "code",
   "execution_count": 3,
   "id": "18cc89d7",
   "metadata": {},
   "outputs": [],
   "source": [
    "def G(d): # questa è  rot_mat\n",
    "    mat = np.zeros(d**4).reshape(d**2,d**2)\n",
    "    for j in range(d):\n",
    "        for i in range(d):\n",
    "            k = (i+1)*d-j\n",
    "            h = i+(j)*d+1\n",
    "\n",
    "            mat[h-1][k-1] = 1\n",
    "    return mat\n",
    "\n",
    "def W(output_dim, d = 4):\n",
    "    kernel = null_space((np.identity(d*d) -  G(d)).T).T\n",
    "    W = []\n",
    "    for j in range(output_dim):\n",
    "        vec = np.zeros(d**2)\n",
    "        for k in kernel:\n",
    "            vec = (np.random.random()-0.5)*2*k + vec # kernel[j]\n",
    "        W.append(list(vec/np.linalg.norm(vec)))\n",
    "    W = np.array(W)\n",
    "    return np.array(W)\n",
    "\n",
    "def projector(d = 4):\n",
    "    kernel = null_space((np.identity(d*d) -  G(d)).T)\n",
    "    \n",
    "    return kernel @ kernel.T"
   ]
  },
  {
   "cell_type": "code",
   "execution_count": 4,
   "id": "d9b277c9",
   "metadata": {},
   "outputs": [],
   "source": [
    "# Funzione che definisce la varietà: sfera unitaria centrata in 0\n",
    "def g(thetas):\n",
    "    W1, b1, W2, b2 = deflatten(thetas, get_shapes([W1_i, b1_i, W2_i,b2_i]))\n",
    "    d = int(np.sqrt(W1.shape[1]))\n",
    "    ker_equation = torch.Tensor(W1) @ (torch.eye(d*d) -  torch.Tensor(G(d)))\n",
    "    \n",
    "    norm = (ker_equation.norm())**2\n",
    "    return norm # sfera unitaria\n",
    "\n",
    "# Gradiente di f\n",
    "def dg(thetas):\n",
    "    gradient = grad(g)(thetas)\n",
    "    return gradient #+ 1e-5*(gradient.norm()==0)\n",
    "\n",
    "def flatten(weights_list):\n",
    "    flatten_weights = []\n",
    "    for weight in weights_list:\n",
    "        flatten_weights.append(weight.flatten())\n",
    "        \n",
    "    return torch.cat(flatten_weights)\n",
    "\n",
    "def deflatten(weights_flat, shapes):\n",
    "    weigths_list = []\n",
    "    shape_counter = 0\n",
    "    for shape in shapes:\n",
    "        weight = torch.Tensor(weights_flat[shape_counter: shape_counter + np.prod(shape)])\n",
    "        shape_counter = shape_counter + np.prod(shape)\n",
    "        \n",
    "        weigths_list.append(weight.reshape(shape))\n",
    "            \n",
    "    return weigths_list\n",
    "\n",
    "def get_shapes(weights_list):\n",
    "    shapes = []\n",
    "    for weight in weights_list:\n",
    "        shapes.append(weight.shape)\n",
    "    return(shapes)\n",
    "\n",
    "# Classe LevelSetManifold già implementata sopra\n",
    "class LevelSetManifold(geoopt.manifolds.Manifold):\n",
    "    \n",
    "    ndim = 1\n",
    "    name = \"Caste\"\n",
    "    \n",
    "    def __init__(self, f, df, lr_proj = 1):\n",
    "        super().__init__()\n",
    "        self.f = f\n",
    "        self.df = df\n",
    "        self.lr_proj = lr_proj\n",
    "\n",
    "    def _check_point_on_manifold(self, x, atol=1e-8, rtol=1e-8):\n",
    "        return torch.abs(self.f(x)) < atol\n",
    "\n",
    "    def _check_vector_on_tangent(self, x, u, atol=1e-8, rtol=1e-8):\n",
    "        grad_f = self.df(x)\n",
    "        return torch.abs(u @ grad_f).sum() < atol\n",
    "    \n",
    "#     def projx(self, x):\n",
    "#         if self._check_point_on_manifold(x):\n",
    "#             return x\n",
    "#         W1, b1, W2, b2 = deflatten(x, get_shapes([W1_i, b1_i, W2_i,b2_i]))\n",
    "#         W1_invariant = (torch.Tensor(projector(d = 28)) @ W1.T).T\n",
    "#         x = torch.Tensor(flatten([W1_invariant, b1, W2, b2]))\n",
    "\n",
    "#         return x \n",
    "    \n",
    "    def projx(self,x):\n",
    "        if self._check_point_on_manifold(x):\n",
    "            return x\n",
    "        for r in range(100):\n",
    "            x = self.single_projx(x)\n",
    "#             print(\"g: \", self.f(x))\n",
    "#             print(\"dg: \", self.df(x).norm())\n",
    "            if r == 99:\n",
    "                print(f\"Retraction applied {r + 1} times\")\n",
    "            if self._check_point_on_manifold(x):\n",
    "#                 print(f\"Retraction applied {r + 1} times\")\n",
    "                break\n",
    "        return x\n",
    "    \n",
    "    def single_projx(self, x):\n",
    "        grad_f = self.df(x)\n",
    "        f_val = self.f(x)\n",
    "        return x - self.lr_proj*(f_val / grad_f.norm()**2 * grad_f)\n",
    "\n",
    "    def proju(self, x, u):\n",
    "        if self._check_point_on_manifold(u):\n",
    "            return u\n",
    "#         W1, b1, W2, b2 = deflatten(u, get_shapes([W1_i, b1_i, W2_i,b2_i]))\n",
    "#         W1_invariant = (torch.Tensor(projector(d = 28)) @ W1.T).T\n",
    "#         u = torch.Tensor(flatten([W1_invariant, b1, W2, b2]))\n",
    "#         print(\"Norma gradiente: \", u.norm())\n",
    "#         return u\n",
    "        grad_f = self.df(x)\n",
    "#         print(\"andrea\")\n",
    "        return u - (u @ grad_f) / grad_f.norm()**2 * grad_f\n",
    "\n",
    "    def inner(self, x, u, v=None):\n",
    "        if v is None:\n",
    "            v = u\n",
    "        return (u * v).sum()\n",
    "\n",
    "    def expmap(self, x, u):\n",
    "        return self.retr(x, u)\n",
    "\n",
    "    def egrad2rgrad(self, x, u):\n",
    "        return self.proju(x, u)\n",
    "\n",
    "    def retr(self, x, u):\n",
    "        x_new = x + u\n",
    "        return self.projx(x_new)\n",
    "\n"
   ]
  },
  {
   "cell_type": "code",
   "execution_count": 6,
   "id": "3cde28a2",
   "metadata": {},
   "outputs": [],
   "source": [
    "quale = range(len(trainX)) #[151,180, 210, 440, 450, 700, 458, 777, 890] #\n",
    "\n",
    "mnist_vector = torch.Tensor(trainX) #torch.randint(0, 256, (1,28,28)).float()/256\n",
    "mnist_vector_rotated_90 = rotate(img=mnist_vector, angle=90)[quale].reshape(len(quale),784).T\n",
    "mnist_vector_rotated_180 = rotate(img=mnist_vector, angle=180)[quale].reshape(len(quale),784).T\n",
    "mnist_vector_rotated_270 = rotate(img=mnist_vector, angle=270)[quale].reshape(len(quale),784).T\n",
    "mnist_vector = mnist_vector[quale].reshape(len(quale),784).T"
   ]
  },
  {
   "cell_type": "code",
   "execution_count": 14,
   "id": "da28b4d8",
   "metadata": {},
   "outputs": [
    {
     "data": {
      "text/plain": [
       "<matplotlib.image.AxesImage at 0x2346a285580>"
      ]
     },
     "execution_count": 14,
     "metadata": {},
     "output_type": "execute_result"
    },
    {
     "data": {
      "image/png": "[encoded data removed]",
      "text/plain": [
       "<Figure size 640x480 with 1 Axes>"
      ]
     },
     "metadata": {},
     "output_type": "display_data"
    }
   ],
   "source": [
    "plt.imshow(mnist_vector.detach().numpy().T[6001].reshape(28,28))"
   ]
  },
  {
   "cell_type": "code",
   "execution_count": 15,
   "id": "7aac0156",
   "metadata": {},
   "outputs": [],
   "source": [
    "def NN(x, thetas):\n",
    "    W1, b1, W2, b2, W3, b3 = deflatten(thetas, get_shapes([W1_i, b1_i, W2_i,b2_i,W3_i, b3_i]))\n",
    "    out = W3 @ torch.nn.LeakyReLU()(W2 @ torch.nn.LeakyReLU()(W1 @ x + b1) + b2) + b3\n",
    "    return out"
   ]
  },
  {
   "cell_type": "code",
   "execution_count": 20,
   "id": "f24e22e0",
   "metadata": {},
   "outputs": [],
   "source": [
    "W1_i = (torch.rand((256,784)).float() - 0.5)*2 # W(64, d = 28) \n",
    "b1_i = (torch.rand((256,1)).float() - 0.5)*2\n",
    "\n",
    "W2_i = (torch.rand((256,256)).float() - 0.5)*2\n",
    "b2_i = (torch.rand((256,1)).float() - 0.5)*2\n",
    "\n",
    "W3_i = (torch.rand((10,256)).float() - 0.5)*2\n",
    "b3_i = (torch.rand((10,1)).float() - 0.5)*2"
   ]
  },
  {
   "cell_type": "code",
   "execution_count": 21,
   "id": "aaed2286",
   "metadata": {},
   "outputs": [
    {
     "data": {
      "text/plain": [
       "tensor(133968.9062, grad_fn=<PowBackward0>)"
      ]
     },
     "execution_count": 21,
     "metadata": {},
     "output_type": "execute_result"
    }
   ],
   "source": [
    "# Creiamo la varietà\n",
    "manifold = LevelSetManifold(g, dg, 1)\n",
    "# Test del parametro manifold\n",
    "\n",
    "theta = flatten([W1_i, b1_i, W2_i,b2_i,W3_i, b3_i])\n",
    "theta = geoopt.ManifoldParameter(theta , manifold=manifold)\n",
    "g(theta)"
   ]
  },
  {
   "cell_type": "code",
   "execution_count": 22,
   "id": "35913e15",
   "metadata": {},
   "outputs": [
    {
     "data": {
      "text/plain": [
       "tensor(1267.7810, grad_fn=<LinalgVectorNormBackward0>)"
      ]
     },
     "execution_count": 22,
     "metadata": {},
     "output_type": "execute_result"
    }
   ],
   "source": [
    "torch.norm(dg(theta))"
   ]
  },
  {
   "cell_type": "code",
   "execution_count": 23,
   "id": "318826f5",
   "metadata": {},
   "outputs": [
    {
     "data": {
      "text/plain": [
       "(10000, 28, 28)"
      ]
     },
     "execution_count": 23,
     "metadata": {},
     "output_type": "execute_result"
    }
   ],
   "source": [
    "testX.shape"
   ]
  },
  {
   "cell_type": "code",
   "execution_count": 24,
   "id": "725c30ea",
   "metadata": {},
   "outputs": [
    {
     "name": "stdout",
     "output_type": "stream",
     "text": [
      "\n",
      "\n",
      "\n",
      "############## Training phase ################\n",
      "Epoch 1 \n",
      " Loss: 406.820068359375 \n",
      " Acc: 0.07676666666666666 \n",
      " g(theta): 2.685795e-09 \n",
      " Invariance:  0.42780555555555555 \n",
      " Validation Acc:  0.0788 \n",
      "\n",
      "Epoch 51 \n",
      " Loss: 29.864673614501953 \n",
      " Acc: 0.43816666666666665 \n",
      " g(theta): 7.517904e-09 \n",
      " Invariance:  0.9999777777777777 \n",
      " Validation Acc:  0.4118 \n",
      "\n",
      "Epoch 101 \n",
      " Loss: 21.477096557617188 \n",
      " Acc: 0.49743333333333334 \n",
      " g(theta): 4.253737e-09 \n",
      " Invariance:  0.9999777777777777 \n",
      " Validation Acc:  0.4614 \n",
      "\n",
      "Epoch 151 \n",
      " Loss: 17.6823787689209 \n",
      " Acc: 0.5245166666666666 \n",
      " g(theta): 3.029218e-09 \n",
      " Invariance:  0.9999944444444444 \n",
      " Validation Acc:  0.4736 \n",
      "\n",
      "Epoch 201 \n",
      " Loss: 15.419507026672363 \n",
      " Acc: 0.5433833333333333 \n",
      " g(theta): 9.103485e-09 \n",
      " Invariance:  1.0 \n",
      " Validation Acc:  0.4867 \n",
      "\n",
      "Epoch 251 \n",
      " Loss: 14.522480010986328 \n",
      " Acc: 0.5541166666666667 \n",
      " g(theta): 2.780902e-09 \n",
      " Invariance:  0.9999944444444444 \n",
      " Validation Acc:  0.4928 \n",
      "\n",
      "Epoch 301 \n",
      " Loss: 12.63504695892334 \n",
      " Acc: 0.5721833333333334 \n",
      " g(theta): 6.764511e-09 \n",
      " Invariance:  0.9999833333333333 \n",
      " Validation Acc:  0.5059 \n",
      "\n",
      "Epoch 351 \n",
      " Loss: 11.512758255004883 \n",
      " Acc: 0.5834166666666667 \n",
      " g(theta): 5.531476e-09 \n",
      " Invariance:  0.9999833333333333 \n",
      " Validation Acc:  0.5132 \n",
      "\n",
      "Epoch 401 \n",
      " Loss: 10.899537086486816 \n",
      " Acc: 0.58425 \n",
      " g(theta): 5.244963e-09 \n",
      " Invariance:  0.9999444444444444 \n",
      " Validation Acc:  0.5265 \n",
      "\n",
      "Epoch 451 \n",
      " Loss: 10.11386489868164 \n",
      " Acc: 0.5934666666666667 \n",
      " g(theta): 4.468555e-09 \n",
      " Invariance:  1.0 \n",
      " Validation Acc:  0.5315 \n",
      "\n",
      "Epoch 501 \n",
      " Loss: 9.52043628692627 \n",
      " Acc: 0.6001333333333333 \n",
      " g(theta): 4.326151e-09 \n",
      " Invariance:  0.9999944444444444 \n",
      " Validation Acc:  0.5326 \n",
      "\n",
      "Epoch 551 \n",
      " Loss: 9.00587272644043 \n",
      " Acc: 0.6056333333333334 \n",
      " g(theta): 3.853781e-09 \n",
      " Invariance:  1.0 \n",
      " Validation Acc:  0.5345 \n",
      "\n",
      "Epoch 601 \n",
      " Loss: 8.585365295410156 \n",
      " Acc: 0.6099333333333333 \n",
      " g(theta): 3.532593e-09 \n",
      " Invariance:  1.0 \n",
      " Validation Acc:  0.533 \n",
      "\n",
      "Epoch 651 \n",
      " Loss: 8.168174743652344 \n",
      " Acc: 0.6168 \n",
      " g(theta): 3.292286e-09 \n",
      " Invariance:  1.0 \n",
      " Validation Acc:  0.5334 \n",
      "\n",
      "Epoch 701 \n",
      " Loss: 7.912269115447998 \n",
      " Acc: 0.6224666666666666 \n",
      " g(theta): 3.347307e-09 \n",
      " Invariance:  0.9999888888888889 \n",
      " Validation Acc:  0.5271 \n",
      "\n",
      "Epoch 751 \n",
      " Loss: 7.59976863861084 \n",
      " Acc: 0.62555 \n",
      " g(theta): 3.089508e-09 \n",
      " Invariance:  0.9999777777777777 \n",
      " Validation Acc:  0.5276 \n",
      "\n",
      "Epoch 801 \n",
      " Loss: 7.276877403259277 \n",
      " Acc: 0.6295 \n",
      " g(theta): 2.748049e-09 \n",
      " Invariance:  0.9999444444444444 \n",
      " Validation Acc:  0.5326 \n",
      "\n",
      "Epoch 851 \n",
      " Loss: 6.999019145965576 \n",
      " Acc: 0.63225 \n",
      " g(theta): 9.604687e-09 \n",
      " Invariance:  0.9999833333333333 \n",
      " Validation Acc:  0.536 \n",
      "\n"
     ]
    },
    {
     "ename": "KeyboardInterrupt",
     "evalue": "",
     "output_type": "error",
     "traceback": [
      "\u001b[1;31m---------------------------------------------------------------------------\u001b[0m",
      "\u001b[1;31mKeyboardInterrupt\u001b[0m                         Traceback (most recent call last)",
      "Input \u001b[1;32mIn [24]\u001b[0m, in \u001b[0;36m<cell line: 21>\u001b[1;34m()\u001b[0m\n\u001b[0;32m     41\u001b[0m optimizer\u001b[38;5;241m.\u001b[39mzero_grad()\n\u001b[0;32m     42\u001b[0m loss \u001b[38;5;241m=\u001b[39m loss_fn(mnist_vector, theta)\n\u001b[1;32m---> 43\u001b[0m \u001b[43mloss\u001b[49m\u001b[38;5;241;43m.\u001b[39;49m\u001b[43mbackward\u001b[49m\u001b[43m(\u001b[49m\u001b[43m)\u001b[49m\n\u001b[0;32m     44\u001b[0m optimizer\u001b[38;5;241m.\u001b[39mstep()\n\u001b[0;32m     45\u001b[0m \u001b[38;5;28;01mif\u001b[39;00m epoch\u001b[38;5;241m%\u001b[39m\u001b[38;5;241m50\u001b[39m \u001b[38;5;241m==\u001b[39m \u001b[38;5;241m0\u001b[39m:\n",
      "File \u001b[1;32m~\\anaconda3\\envs\\geo\\lib\\site-packages\\torch\\_tensor.py:522\u001b[0m, in \u001b[0;36mTensor.backward\u001b[1;34m(self, gradient, retain_graph, create_graph, inputs)\u001b[0m\n\u001b[0;32m    512\u001b[0m \u001b[38;5;28;01mif\u001b[39;00m has_torch_function_unary(\u001b[38;5;28mself\u001b[39m):\n\u001b[0;32m    513\u001b[0m     \u001b[38;5;28;01mreturn\u001b[39;00m handle_torch_function(\n\u001b[0;32m    514\u001b[0m         Tensor\u001b[38;5;241m.\u001b[39mbackward,\n\u001b[0;32m    515\u001b[0m         (\u001b[38;5;28mself\u001b[39m,),\n\u001b[1;32m   (...)\u001b[0m\n\u001b[0;32m    520\u001b[0m         inputs\u001b[38;5;241m=\u001b[39minputs,\n\u001b[0;32m    521\u001b[0m     )\n\u001b[1;32m--> 522\u001b[0m \u001b[43mtorch\u001b[49m\u001b[38;5;241;43m.\u001b[39;49m\u001b[43mautograd\u001b[49m\u001b[38;5;241;43m.\u001b[39;49m\u001b[43mbackward\u001b[49m\u001b[43m(\u001b[49m\n\u001b[0;32m    523\u001b[0m \u001b[43m    \u001b[49m\u001b[38;5;28;43mself\u001b[39;49m\u001b[43m,\u001b[49m\u001b[43m \u001b[49m\u001b[43mgradient\u001b[49m\u001b[43m,\u001b[49m\u001b[43m \u001b[49m\u001b[43mretain_graph\u001b[49m\u001b[43m,\u001b[49m\u001b[43m \u001b[49m\u001b[43mcreate_graph\u001b[49m\u001b[43m,\u001b[49m\u001b[43m \u001b[49m\u001b[43minputs\u001b[49m\u001b[38;5;241;43m=\u001b[39;49m\u001b[43minputs\u001b[49m\n\u001b[0;32m    524\u001b[0m \u001b[43m\u001b[49m\u001b[43m)\u001b[49m\n",
      "File \u001b[1;32m~\\anaconda3\\envs\\geo\\lib\\site-packages\\torch\\autograd\\__init__.py:266\u001b[0m, in \u001b[0;36mbackward\u001b[1;34m(tensors, grad_tensors, retain_graph, create_graph, grad_variables, inputs)\u001b[0m\n\u001b[0;32m    261\u001b[0m     retain_graph \u001b[38;5;241m=\u001b[39m create_graph\n\u001b[0;32m    263\u001b[0m \u001b[38;5;66;03m# The reason we repeat the same comment below is that\u001b[39;00m\n\u001b[0;32m    264\u001b[0m \u001b[38;5;66;03m# some Python versions print out the first line of a multi-line function\u001b[39;00m\n\u001b[0;32m    265\u001b[0m \u001b[38;5;66;03m# calls in the traceback and some print out the last line\u001b[39;00m\n\u001b[1;32m--> 266\u001b[0m \u001b[43mVariable\u001b[49m\u001b[38;5;241;43m.\u001b[39;49m\u001b[43m_execution_engine\u001b[49m\u001b[38;5;241;43m.\u001b[39;49m\u001b[43mrun_backward\u001b[49m\u001b[43m(\u001b[49m\u001b[43m  \u001b[49m\u001b[38;5;66;43;03m# Calls into the C++ engine to run the backward pass\u001b[39;49;00m\n\u001b[0;32m    267\u001b[0m \u001b[43m    \u001b[49m\u001b[43mtensors\u001b[49m\u001b[43m,\u001b[49m\n\u001b[0;32m    268\u001b[0m \u001b[43m    \u001b[49m\u001b[43mgrad_tensors_\u001b[49m\u001b[43m,\u001b[49m\n\u001b[0;32m    269\u001b[0m \u001b[43m    \u001b[49m\u001b[43mretain_graph\u001b[49m\u001b[43m,\u001b[49m\n\u001b[0;32m    270\u001b[0m \u001b[43m    \u001b[49m\u001b[43mcreate_graph\u001b[49m\u001b[43m,\u001b[49m\n\u001b[0;32m    271\u001b[0m \u001b[43m    \u001b[49m\u001b[43minputs\u001b[49m\u001b[43m,\u001b[49m\n\u001b[0;32m    272\u001b[0m \u001b[43m    \u001b[49m\u001b[43mallow_unreachable\u001b[49m\u001b[38;5;241;43m=\u001b[39;49m\u001b[38;5;28;43;01mTrue\u001b[39;49;00m\u001b[43m,\u001b[49m\n\u001b[0;32m    273\u001b[0m \u001b[43m    \u001b[49m\u001b[43maccumulate_grad\u001b[49m\u001b[38;5;241;43m=\u001b[39;49m\u001b[38;5;28;43;01mTrue\u001b[39;49;00m\u001b[43m,\u001b[49m\n\u001b[0;32m    274\u001b[0m \u001b[43m\u001b[49m\u001b[43m)\u001b[49m\n",
      "\u001b[1;31mKeyboardInterrupt\u001b[0m: "
     ]
    }
   ],
   "source": [
    "print(\"\\n\\n\")\n",
    "\n",
    "# # Verifica che il parametro iniziale appartenga alla varietà\n",
    "# assert manifold._check_point_on_manifold(theta.data), \"Il punto iniziale non è sulla varietà\"\n",
    "\n",
    "def loss_fn(mnist_vector, theta):\n",
    "    return torch.nn.CrossEntropyLoss()(NN(mnist_vector, theta).T, torch.Tensor(trainy[quale]).long())\n",
    "\n",
    "# Ottimizzatore Riemanniano\n",
    "optimizer = RiemannianSGD([theta], lr=0.005)\n",
    "\n",
    "# Ciclo di ottimizzazione\n",
    "g_during_train = []\n",
    "loss_history = []\n",
    "acc_history = []\n",
    "inv_history = []\n",
    "test_acc_history = []\n",
    "test_loss_history = []\n",
    "\n",
    "print(\"############## Training phase ################\")\n",
    "for epoch in range(1500):\n",
    "    outputs = NN(mnist_vector,theta)\n",
    "    _, predicted = torch.max(outputs.data, 0)\n",
    "    correct = (predicted == torch.Tensor(trainy[quale])).sum().item()\n",
    "    outputs_val = NN(torch.Tensor(testX).reshape(10000,784).T,theta)\n",
    "    _, predicted_val = torch.max(outputs_val.data, 0)\n",
    "    correct_val = (predicted_val == torch.Tensor(testy)).sum().item()\n",
    "    \n",
    "    _, pred_90 = torch.max(NN(mnist_vector_rotated_90, theta), 0)\n",
    "    _, pred_180 = torch.max(NN(mnist_vector_rotated_180, theta), 0)\n",
    "    _, pred_270 = torch.max(NN(mnist_vector_rotated_270, theta), 0)\n",
    "    \n",
    "    inv1 = (predicted == pred_90).sum().item()\n",
    "    inv2 = (predicted == pred_180).sum().item()\n",
    "    inv3 = (predicted == pred_270).sum().item()\n",
    "    \n",
    "    inv = (inv1 + inv2 + inv3)/(3*len(quale))\n",
    "    \n",
    "    acc = correct/len(quale)\n",
    "    acc_val = correct_val/len(testX)\n",
    "    optimizer.zero_grad()\n",
    "    loss = loss_fn(mnist_vector, theta)\n",
    "    loss.backward()\n",
    "    optimizer.step()\n",
    "    if epoch%50 == 0:\n",
    "        print(\"Epoch\",  epoch + 1, \"\\n\",\n",
    "              \"Loss:\", loss.item(), \"\\n\",\n",
    "              \"Acc:\", acc, \"\\n\",\n",
    "              \"g(theta):\", round(float(g(theta).data.numpy()),15), \"\\n\",\n",
    "              \"Invariance: \", inv, \"\\n\",\n",
    "             \"Validation Acc: \", acc_val, \"\\n\",\n",
    "             )\n",
    "        \n",
    "    loss_history.append(loss.item())\n",
    "    g_during_train.append(g(theta).data.numpy())\n",
    "    acc_history.append(acc)\n",
    "    inv_history.append(inv)\n",
    "    test_acc_history.append(acc_val)\n",
    "    \n",
    "    if epoch > 1000:\n",
    "        optimizer = RiemannianSGD([theta], lr=0.0005)\n",
    "    \n",
    "# plt.plot(g_during_train)\n",
    "plt.plot(acc_history, label = \"acc\")\n",
    "plt.plot(np.array(loss_history)/np.max(loss_history), label = \"loss\")\n",
    "plt.plot(inv_history, label = \"Inv\")\n",
    "plt.plot(test_acc_history, label = \"val_accuracy\")\n",
    "plt.legend()\n",
    "print(\"\\n\\n\")\n",
    "\n",
    "# Risultato finale\n",
    "print(\"Punto finale:\", theta)\n",
    "print(\"Appartiene alla varietà?\", manifold._check_point_on_manifold(theta))"
   ]
  },
  {
   "cell_type": "code",
   "execution_count": 32,
   "id": "c3ad6ee5",
   "metadata": {},
   "outputs": [
    {
     "name": "stdout",
     "output_type": "stream",
     "text": [
      "0.4949\n"
     ]
    }
   ],
   "source": [
    "outputs = NN(mnist_vector,theta)\n",
    "_, predicted = torch.max(outputs.data, 0)\n",
    "correct = (predicted == torch.Tensor(trainy[quale])).sum().item()\n",
    "acc = correct/len(quale)\n",
    "print(acc)"
   ]
  },
  {
   "cell_type": "code",
   "execution_count": 38,
   "id": "b2843525",
   "metadata": {
    "scrolled": false
   },
   "outputs": [
    {
     "name": "stdout",
     "output_type": "stream",
     "text": [
      "6: 108\n",
      "9: 239\n",
      "other: 4704\n",
      "correct:  4949\n"
     ]
    }
   ],
   "source": [
    "_, prediction = torch.max(NN(mnist_vector,theta), 0) #\n",
    "count_6 = 0\n",
    "count_9 = 0\n",
    "count_other = 0\n",
    "\n",
    "for x,y in zip(prediction, trainy[quale]):\n",
    "    if (y==9) and (x==6):\n",
    "        count_6 = count_6 + 1\n",
    "    elif (y==6) and (x==9):\n",
    "        count_9 = count_9 + 1\n",
    "    elif (y!=x):\n",
    "        count_other = count_other +1\n",
    "    #print(x,y)\n",
    "        \n",
    "print(\"6:\" , count_6)\n",
    "print(\"9:\" , count_9)\n",
    "print(\"other:\" , count_other)\n",
    "print(\"correct: \", len(quale) - count_6- count_9- count_other)"
   ]
  },
  {
   "cell_type": "code",
   "execution_count": 40,
   "id": "d6bd494b",
   "metadata": {},
   "outputs": [
    {
     "data": {
      "image/png": "[encoded data removed]",
      "text/plain": [
       "<Figure size 640x480 with 2 Axes>"
      ]
     },
     "metadata": {},
     "output_type": "display_data"
    }
   ],
   "source": [
    "import matplotlib.pyplot as plt\n",
    "from sklearn.datasets import make_classification\n",
    "from sklearn.metrics import confusion_matrix, ConfusionMatrixDisplay\n",
    "from sklearn.model_selection import train_test_split\n",
    "\n",
    "\n",
    "predictions = prediction\n",
    "cm = confusion_matrix(trainy[quale], predictions, labels=range(10))\n",
    "disp = ConfusionMatrixDisplay(confusion_matrix=cm,\n",
    "                              display_labels=range(10))\n",
    "disp.plot()\n",
    "plt.show()"
   ]
  },
  {
   "cell_type": "code",
   "execution_count": 15,
   "id": "c8851222",
   "metadata": {},
   "outputs": [
    {
     "data": {
      "text/plain": [
       "tensor([-11.7272,   0.6615,  -5.3048,  -4.0545,  -7.9079,  -2.5445,  -2.5094,\n",
       "         -8.4527,  -6.6200,  -8.7099], grad_fn=<SelectBackward0>)"
      ]
     },
     "execution_count": 15,
     "metadata": {},
     "output_type": "execute_result"
    }
   ],
   "source": [
    "NN(mnist_vector, theta).T[8]"
   ]
  },
  {
   "cell_type": "code",
   "execution_count": 16,
   "id": "ac5707a6",
   "metadata": {},
   "outputs": [
    {
     "data": {
      "text/plain": [
       "tensor([-11.7271,   0.6614,  -5.3048,  -4.0545,  -7.9078,  -2.5445,  -2.5094,\n",
       "         -8.4526,  -6.6200,  -8.7098], grad_fn=<SelectBackward0>)"
      ]
     },
     "execution_count": 16,
     "metadata": {},
     "output_type": "execute_result"
    }
   ],
   "source": [
    "NN(mnist_vector_rotated_90, theta).T[8]"
   ]
  },
  {
   "cell_type": "code",
   "execution_count": 17,
   "id": "bc542633",
   "metadata": {
    "scrolled": true
   },
   "outputs": [
    {
     "data": {
      "text/plain": [
       "tensor([-11.7271,   0.6614,  -5.3048,  -4.0545,  -7.9078,  -2.5445,  -2.5094,\n",
       "         -8.4527,  -6.6200,  -8.7098], grad_fn=<SelectBackward0>)"
      ]
     },
     "execution_count": 17,
     "metadata": {},
     "output_type": "execute_result"
    }
   ],
   "source": [
    "NN(mnist_vector_rotated_180, theta).T[8]"
   ]
  },
  {
   "cell_type": "code",
   "execution_count": 18,
   "id": "022923d5",
   "metadata": {},
   "outputs": [
    {
     "data": {
      "text/plain": [
       "tensor([-11.7272,   0.6614,  -5.3048,  -4.0545,  -7.9079,  -2.5445,  -2.5094,\n",
       "         -8.4527,  -6.6200,  -8.7099], grad_fn=<SelectBackward0>)"
      ]
     },
     "execution_count": 18,
     "metadata": {},
     "output_type": "execute_result"
    }
   ],
   "source": [
    "NN(mnist_vector_rotated_270, theta).T[8]"
   ]
  },
  {
   "cell_type": "code",
   "execution_count": 19,
   "id": "ccbb17b8",
   "metadata": {},
   "outputs": [],
   "source": [
    "W1, b1, W2, b2 = deflatten(theta, get_shapes([W1_i, b1_i, W2_i,b2_i]))"
   ]
  },
  {
   "cell_type": "code",
   "execution_count": 20,
   "id": "0dbbeb0c",
   "metadata": {},
   "outputs": [
    {
     "data": {
      "text/plain": [
       "8.893302545426792e-05"
      ]
     },
     "execution_count": 20,
     "metadata": {},
     "output_type": "execute_result"
    }
   ],
   "source": [
    "condition = W1.detach().numpy() @ (np.identity(28*28) -  G(28))\n",
    "np.linalg.norm(condition)"
   ]
  },
  {
   "cell_type": "code",
   "execution_count": 21,
   "id": "73b800ac",
   "metadata": {},
   "outputs": [
    {
     "data": {
      "text/plain": [
       "0.00030582923142010116"
      ]
     },
     "execution_count": 21,
     "metadata": {},
     "output_type": "execute_result"
    }
   ],
   "source": [
    "np.linalg.norm(condition @ np.random.randint(0,10,28*28))"
   ]
  },
  {
   "cell_type": "code",
   "execution_count": 22,
   "id": "c0dd2b98",
   "metadata": {},
   "outputs": [
    {
     "data": {
      "text/plain": [
       "3.4795479022061e-05"
      ]
     },
     "execution_count": 22,
     "metadata": {},
     "output_type": "execute_result"
    }
   ],
   "source": [
    "np.linalg.norm(condition @ mnist_vector.detach().numpy().T[0])"
   ]
  },
  {
   "cell_type": "code",
   "execution_count": 23,
   "id": "3fd4c633",
   "metadata": {},
   "outputs": [
    {
     "data": {
      "text/plain": [
       "<matplotlib.image.AxesImage at 0x1b29d6b0be0>"
      ]
     },
     "execution_count": 23,
     "metadata": {},
     "output_type": "execute_result"
    },
    {
     "data": {
      "image/png": "[encoded data removed]",
      "text/plain": [
       "<Figure size 640x480 with 1 Axes>"
      ]
     },
     "metadata": {},
     "output_type": "display_data"
    }
   ],
   "source": [
    "plt.imshow(mnist_vector.detach().numpy().T[0].reshape(28,28))"
   ]
  },
  {
   "cell_type": "code",
   "execution_count": 24,
   "id": "9bde331f",
   "metadata": {},
   "outputs": [
    {
     "data": {
      "text/plain": [
       "2.7418136596679688e-06"
      ]
     },
     "execution_count": 24,
     "metadata": {},
     "output_type": "execute_result"
    }
   ],
   "source": [
    "np.max(condition)"
   ]
  },
  {
   "cell_type": "code",
   "execution_count": 25,
   "id": "b2b85730",
   "metadata": {},
   "outputs": [
    {
     "data": {
      "text/plain": [
       "array([ 2.3589113 , -1.2392657 ,  0.74123764, ..., -1.582979  ,\n",
       "        2.4336698 ,  2.1582737 ], dtype=float32)"
      ]
     },
     "execution_count": 25,
     "metadata": {},
     "output_type": "execute_result"
    }
   ],
   "source": [
    "(W1.detach().numpy() @ mnist_vector.detach().numpy() )[0]"
   ]
  },
  {
   "cell_type": "code",
   "execution_count": 26,
   "id": "d06ca4fe",
   "metadata": {},
   "outputs": [
    {
     "data": {
      "text/plain": [
       "tensor([ 2.3589, -1.2393,  0.7412,  ..., -1.5830,  2.4337,  2.1583],\n",
       "       grad_fn=<SelectBackward0>)"
      ]
     },
     "execution_count": 26,
     "metadata": {},
     "output_type": "execute_result"
    }
   ],
   "source": [
    "(W1 @ torch.Tensor(G(28)) @ mnist_vector )[0]"
   ]
  },
  {
   "cell_type": "code",
   "execution_count": 27,
   "id": "3d61422c",
   "metadata": {},
   "outputs": [
    {
     "data": {
      "text/plain": [
       "array([[-0.26163819, -0.15296951, -0.72599024, ..., -0.72598922,\n",
       "        -0.15296903, -0.2616387 ],\n",
       "       [ 0.33731684, -0.13450362,  0.22214191, ...,  0.22214143,\n",
       "        -0.13450387,  0.33731633],\n",
       "       [-0.316107  , -0.30446464,  0.21900624, ...,  0.21900672,\n",
       "        -0.30446464, -0.31610751],\n",
       "       ...,\n",
       "       [ 0.03125081,  0.1607181 , -0.28720939, ..., -0.28720939,\n",
       "         0.16071858,  0.03125071],\n",
       "       [ 0.03378702,  0.04907757,  0.01136728, ...,  0.01136725,\n",
       "         0.04907769,  0.03378696],\n",
       "       [ 0.40228954, -0.07332046, -0.10033975, ..., -0.10033987,\n",
       "        -0.07332022,  0.40228954]])"
      ]
     },
     "execution_count": 27,
     "metadata": {},
     "output_type": "execute_result"
    }
   ],
   "source": [
    "W1.detach().numpy() @ G(28)"
   ]
  },
  {
   "cell_type": "code",
   "execution_count": 28,
   "id": "2c721e1a",
   "metadata": {},
   "outputs": [
    {
     "data": {
      "text/plain": [
       "tensor([0., 0., 0., 0., 0., 0., 0., 0., 0., 0., 0., 0., 0., 0., 0., 0., 0., 0., 0., 0., 0., 0., 0., 0.,\n",
       "        0., 0., 0., 0., 0., 0., 0., 0., 0., 0., 0., 0., 0., 0., 0., 0., 0., 0., 0., 0., 0., 0., 0., 0.,\n",
       "        0., 0., 0., 0., 0., 0., 0., 0., 0., 0., 0., 0., 0., 0., 0., 0., 0., 0., 0., 0., 0., 0., 0., 0.,\n",
       "        0., 0., 0., 0., 0., 0., 0., 0., 0., 0., 0., 0., 0., 0., 0., 0., 0., 0., 0., 0., 0., 0., 0., 0.,\n",
       "        0., 0., 0., 0., 0., 0., 0., 0., 0., 0., 0., 0., 0., 0., 0., 0., 0., 0., 0., 0., 0., 0., 0., 0.,\n",
       "        0., 0., 0., 0., 0., 0., 0., 0.], grad_fn=<MvBackward0>)"
      ]
     },
     "execution_count": 28,
     "metadata": {},
     "output_type": "execute_result"
    }
   ],
   "source": [
    "W1 @ mnist_vector @ mnist_vector[0]"
   ]
  },
  {
   "cell_type": "code",
   "execution_count": 29,
   "id": "e9e59382",
   "metadata": {},
   "outputs": [
    {
     "data": {
      "text/plain": [
       "tensor([[ 2.3589, -1.2393,  0.7412,  ..., -1.5830,  2.4337,  2.1583],\n",
       "        [-3.5733, -6.2788, -3.3779,  ..., -2.3481, -4.3122, -5.3346],\n",
       "        [-3.9275, -4.4382, -1.6755,  ..., -0.9648, -2.6446, -2.1891],\n",
       "        ...,\n",
       "        [-1.2039, -2.8307, -0.2594,  ..., -6.1672, -3.5077, -5.7014],\n",
       "        [ 2.1378,  4.8004,  2.8786,  ..., -0.4521,  2.4783,  0.9451],\n",
       "        [ 0.0525, -2.1599, -1.0929,  ..., -2.1601,  1.3019, -4.1737]],\n",
       "       grad_fn=<MmBackward0>)"
      ]
     },
     "execution_count": 29,
     "metadata": {},
     "output_type": "execute_result"
    }
   ],
   "source": [
    "W1 @ torch.Tensor(G(28))  @ mnist_vector"
   ]
  },
  {
   "cell_type": "code",
   "execution_count": 30,
   "id": "15da0cc0",
   "metadata": {},
   "outputs": [
    {
     "ename": "RuntimeError",
     "evalue": "The size of tensor a (784) must match the size of tensor b (10000) at non-singleton dimension 0",
     "output_type": "error",
     "traceback": [
      "\u001b[1;31m---------------------------------------------------------------------------\u001b[0m",
      "\u001b[1;31mRuntimeError\u001b[0m                              Traceback (most recent call last)",
      "Input \u001b[1;32mIn [30]\u001b[0m, in \u001b[0;36m<cell line: 1>\u001b[1;34m()\u001b[0m\n\u001b[1;32m----> 1\u001b[0m (\u001b[43mtorch\u001b[49m\u001b[38;5;241;43m.\u001b[39;49m\u001b[43mTensor\u001b[49m\u001b[43m(\u001b[49m\u001b[43mG\u001b[49m\u001b[43m(\u001b[49m\u001b[38;5;241;43m28\u001b[39;49m\u001b[43m)\u001b[49m\u001b[43m)\u001b[49m\u001b[43m  \u001b[49m\u001b[38;5;241;43m@\u001b[39;49m\u001b[43m \u001b[49m\u001b[43mmnist_vector\u001b[49m\u001b[38;5;241;43m.\u001b[39;49m\u001b[43mT\u001b[49m\u001b[43m[\u001b[49m\u001b[38;5;241;43m0\u001b[39;49m\u001b[43m]\u001b[49m\u001b[43m \u001b[49m\u001b[38;5;241;43m-\u001b[39;49m\u001b[43m \u001b[49m\u001b[43mmnist_vector_rotated_90\u001b[49m\u001b[43m[\u001b[49m\u001b[38;5;241;43m0\u001b[39;49m\u001b[43m]\u001b[49m)\u001b[38;5;241m.\u001b[39mnorm()\n",
      "\u001b[1;31mRuntimeError\u001b[0m: The size of tensor a (784) must match the size of tensor b (10000) at non-singleton dimension 0"
     ]
    }
   ],
   "source": [
    "(torch.Tensor(G(28))  @ mnist_vector.T[0] - mnist_vector_rotated_90[0]).norm()"
   ]
  },
  {
   "cell_type": "code",
   "execution_count": null,
   "id": "e9f1f73f",
   "metadata": {},
   "outputs": [],
   "source": [
    "torch.nn.LeakyReLU()(W1 @ mnist_vector + b1)"
   ]
  },
  {
   "cell_type": "code",
   "execution_count": null,
   "id": "d04c711d",
   "metadata": {},
   "outputs": [],
   "source": [
    "torch.nn.LeakyReLU()(W1 @ mnist_vector_rotated_90 + b1)"
   ]
  },
  {
   "cell_type": "code",
   "execution_count": null,
   "id": "e6416d5f",
   "metadata": {},
   "outputs": [],
   "source": [
    "thet = manifold.projx( theta)\n",
    "W1_p, b1, W2, b2 = deflatten(thet, get_shapes([W1_i, b1_i, W2_i,b2_i]))"
   ]
  },
  {
   "cell_type": "code",
   "execution_count": null,
   "id": "0f1c12ae",
   "metadata": {},
   "outputs": [],
   "source": [
    "np.linalg.norm((W1.detach().numpy() @ (np.identity(28*28) -  G(28))))"
   ]
  },
  {
   "cell_type": "code",
   "execution_count": null,
   "id": "6d24e7a2",
   "metadata": {},
   "outputs": [],
   "source": [
    "np.linalg.norm(W1_p.detach().numpy() @ (np.identity(28*28) -  G(28)))"
   ]
  },
  {
   "cell_type": "code",
   "execution_count": null,
   "id": "ae382004",
   "metadata": {},
   "outputs": [],
   "source": [
    "W1 @ mnist_vector_rotated_180"
   ]
  },
  {
   "cell_type": "code",
   "execution_count": null,
   "id": "5b2ff962",
   "metadata": {},
   "outputs": [],
   "source": [
    "W1 @ mnist_vector_rotated_90"
   ]
  },
  {
   "cell_type": "code",
   "execution_count": null,
   "id": "e5772ee7",
   "metadata": {},
   "outputs": [],
   "source": [
    "W1, b1, W2, b2 = deflatten(thetas, get_shapes([W1_i, b1_i, W2_i,b2_i]))\n",
    "out = W2 @ torch.nn.LeakyReLU()(W1 @ x + b1) + b2"
   ]
  },
  {
   "cell_type": "code",
   "execution_count": null,
   "id": "6c090e38",
   "metadata": {},
   "outputs": [],
   "source": [
    "torch.nn.LeakyReLU()(W1 @ mnist_vector_rotated_90 + b1)"
   ]
  },
  {
   "cell_type": "code",
   "execution_count": null,
   "id": "e3c7e1b6",
   "metadata": {},
   "outputs": [],
   "source": [
    "torch.nn.LeakyReLU()(W1 @ mnist_vector + b1)"
   ]
  },
  {
   "cell_type": "code",
   "execution_count": null,
   "id": "3d770e22",
   "metadata": {},
   "outputs": [],
   "source": []
  },
  {
   "cell_type": "code",
   "execution_count": null,
   "id": "3d48eb61",
   "metadata": {},
   "outputs": [],
   "source": []
  },
  {
   "cell_type": "code",
   "execution_count": null,
   "id": "735507a2",
   "metadata": {},
   "outputs": [],
   "source": []
  },
  {
   "cell_type": "code",
   "execution_count": null,
   "id": "a526a767",
   "metadata": {},
   "outputs": [],
   "source": [
    "W1_p @ mnist_vector"
   ]
  },
  {
   "cell_type": "code",
   "execution_count": null,
   "id": "58ae5802",
   "metadata": {},
   "outputs": [],
   "source": [
    "W1_p @ mnist_vector_rotated_90"
   ]
  }
 ],
 "metadata": {
  "kernelspec": {
   "display_name": "Python 3 (ipykernel)",
   "language": "python",
   "name": "python3"
  },
  "language_info": {
   "codemirror_mode": {
    "name": "ipython",
    "version": 3
   },
   "file_extension": ".py",
   "mimetype": "text/x-python",
   "name": "python",
   "nbconvert_exporter": "python",
   "pygments_lexer": "ipython3",
   "version": "3.9.13"
  }
 },
 "nbformat": 4,
 "nbformat_minor": 5
}
