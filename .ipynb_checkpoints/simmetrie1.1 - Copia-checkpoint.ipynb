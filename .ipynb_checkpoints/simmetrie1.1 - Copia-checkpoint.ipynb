{
 "cells": [
  {
   "cell_type": "code",
   "execution_count": 1,
   "id": "9b741526",
   "metadata": {},
   "outputs": [],
   "source": [
    "import torch\n",
    "from tensorflow.keras.datasets import mnist\n",
    "from matplotlib import pyplot as plt\n",
    "from torchvision.transforms.functional import rotate\n",
    "from scipy.linalg import lstsq, null_space\n",
    "\n",
    "import matplotlib.pyplot as plt\n",
    "from sklearn.metrics import confusion_matrix, ConfusionMatrixDisplay\n",
    "import numpy as np"
   ]
  },
  {
   "cell_type": "code",
   "execution_count": 2,
   "id": "442116b5",
   "metadata": {},
   "outputs": [],
   "source": [
    "def G(d): # questa è  rot_mat\n",
    "    mat = np.zeros(d**4).reshape(d**2,d**2)\n",
    "    for j in range(d):\n",
    "        for i in range(d):\n",
    "            k = (i+1)*d-j\n",
    "            h = i+(j)*d+1\n",
    "#             print(h,k)\n",
    "            mat[h-1][k-1] = 1\n",
    "    return mat\n",
    "\n",
    "def W(output_dim, d = 4):\n",
    "    kernel = null_space((np.identity(d*d) -  G(d)).T).T\n",
    "    W = []\n",
    "    for j in range(output_dim):\n",
    "        vec = np.zeros(d**2)\n",
    "        for k in kernel:\n",
    "            vec = np.random.random()*k + vec\n",
    "        W.append(list(vec))\n",
    "    W = np.array(W)/len(kernel)\n",
    "    return np.array(W)"
   ]
  },
  {
   "cell_type": "markdown",
   "id": "4d0a4538",
   "metadata": {},
   "source": [
    "## Load Data"
   ]
  },
  {
   "cell_type": "code",
   "execution_count": 3,
   "id": "bb4c9c13",
   "metadata": {},
   "outputs": [
    {
     "name": "stdout",
     "output_type": "stream",
     "text": [
      "Train: X=(60000, 28, 28), y=(60000,)\n",
      "Test: X=(10000, 28, 28), y=(10000,)\n"
     ]
    },
    {
     "data": {
      "image/png": "[encoded data removed]",
      "text/plain": [
       "<Figure size 640x480 with 9 Axes>"
      ]
     },
     "metadata": {},
     "output_type": "display_data"
    }
   ],
   "source": [
    "# load dataset\n",
    "(trainX, trainy), (testX, testy) = mnist.load_data()\n",
    "# summarize loaded dataset\n",
    "print('Train: X=%s, y=%s' % (trainX.shape, trainy.shape))\n",
    "print('Test: X=%s, y=%s' % (testX.shape, testy.shape))\n",
    "# plot first few images\n",
    "for i in range(9):\n",
    "    # define subplot\n",
    "    plt.subplot(330 + 1 + i)\n",
    "    # plot raw pixel data\n",
    "    plt.imshow(trainX[i], cmap=plt.get_cmap('gray'))\n",
    "# show the figure\n",
    "plt.show()"
   ]
  },
  {
   "cell_type": "markdown",
   "id": "2e555c38",
   "metadata": {},
   "source": [
    "## Define NN"
   ]
  },
  {
   "cell_type": "code",
   "execution_count": 13,
   "id": "1f1d275c",
   "metadata": {},
   "outputs": [
    {
     "name": "stdout",
     "output_type": "stream",
     "text": [
      "Using cuda device\n"
     ]
    }
   ],
   "source": [
    "from torch import nn\n",
    "\n",
    "# Get cpu or gpu device for training.\n",
    "device = \"cuda\"\n",
    "print(f\"Using {device} device\")\n",
    "\n",
    "class InvariantNN(nn.Module):\n",
    "    def __init__(self):\n",
    "        super(InvariantNN, self).__init__()\n",
    "        \n",
    "#         self.softmax = nn.Softmax()\n",
    "        \n",
    "        self.flatten = nn.Flatten(start_dim=1)\n",
    "        self.l1 = nn.Linear(28*28, 64)\n",
    "        self.l2 = nn.Linear(64, 64)\n",
    "        self.l3 = nn.Linear(64, 10)\n",
    "        self.relu = nn.ReLU()\n",
    "        \n",
    "        self.acc_loss = nn.CrossEntropyLoss()\n",
    "        self.inv_loss = nn.MSELoss(reduction='sum')\n",
    "        \n",
    "    def get_gradient(self):\n",
    "        def_grad = {name: param.grad.clone() for name, param in self.named_parameters()}\n",
    "        flatten_def_grad = torch.concatenate([grad.flatten() for grad in def_grad.values()])\n",
    "        return(flatten_def_grad)\n",
    "        \n",
    "    def default_gradient(self, x0, target):\n",
    "        optimizer.zero_grad()\n",
    "        loss = self.acc_loss(self.forward(x0), target)\n",
    "        loss.backward(retain_graph=True)  \n",
    "        def_grad = {name: param.grad.clone() for name, param in self.named_parameters()}\n",
    "        flatten_def_grad = torch.concatenate([grad.flatten() for grad in def_grad.values()])\n",
    "        return def_grad, flatten_def_grad\n",
    "    \n",
    "    def invariance_gradient(self, x0, x0_r, target):\n",
    "        optimizer.zero_grad()\n",
    "        invariance_loss = self.inv_loss(x0, x0_r)\n",
    "        print(invariance_loss)\n",
    "        invariance_loss.requires_grad = True\n",
    "        invariance_loss.backward(retain_graph=True)\n",
    "        inv_grad = {name: param.grad.clone() for name, param in self.named_parameters()}\n",
    "        flatten_inv_grad = torch.concatenate([grad.flatten() for grad in inv_grad.values()])\n",
    "        return inv_grad, flatten_inv_grad\n",
    "\n",
    "    def project_gradient(self, scalar, norm, def_grad, inv_grad):\n",
    "        \n",
    "        with torch.no_grad():\n",
    "            for name, param in self.named_parameters():\n",
    "                if param.grad is not None:\n",
    "                    param.grad = def_grad[name] - (scalar/(norm**2))*inv_grad[name]\n",
    "        return {name: param.grad.clone() for name, param in self.named_parameters()}\n",
    "    \n",
    "    def retraction(self, x0, x0_r):\n",
    "\n",
    "        retraction_loss = (self.inv_loss(x0, x0_r))**2/2\n",
    "        retraction_loss.backward()\n",
    "        norm = self.get_gradient().norm()**2\n",
    "        optimizer_manifold = torch.optim.SGD(model.parameters(), lr=1/(2*norm), momentum=0)\n",
    "        return torch.optim.SGD(model.parameters(), lr=1/(2*norm), momentum=0)\n",
    "        \n",
    "\n",
    "    def forward(self, x):\n",
    "        x = self.flatten(x)\n",
    "        x = self.l1(x)\n",
    "        x = self.relu(x)\n",
    "        x = self.l2(x)    \n",
    "        x = self.relu(x)\n",
    "        x = self.l3(x)\n",
    "        x = self.relu(x)\n",
    "#         x = self.softmax(x)\n",
    "        return  x\n",
    "    \n",
    "    \n",
    "# print(model)"
   ]
  },
  {
   "cell_type": "code",
   "execution_count": 14,
   "id": "8525b02a",
   "metadata": {},
   "outputs": [
    {
     "data": {
      "text/plain": [
       "tensor(4.4614e+11, device='cuda:0')"
      ]
     },
     "execution_count": 14,
     "metadata": {},
     "output_type": "execute_result"
    }
   ],
   "source": [
    "model.inv_loss(x0,rotated_data_90)"
   ]
  },
  {
   "cell_type": "code",
   "execution_count": null,
   "id": "165c04ad",
   "metadata": {},
   "outputs": [],
   "source": [
    "model = InvariantNN().to(device)\n",
    "model.l1.weight.data = torch.Tensor(W(64,d = 28)).to(device)\n",
    "optimizer = torch.optim.SGD(model.parameters(), lr=1e-5, momentum=0)\n",
    "\n",
    "x0 = torch.Tensor(trainX).to(device) # images \n",
    "y0 = torch.Tensor(trainy).to(device) # true labels in form [0,0,0,1,0,0,0,0,0,0]\n",
    "\n",
    "rotated_data_90 = rotate(img = x0, angle = 90)"
   ]
  },
  {
   "cell_type": "markdown",
   "id": "02f6e570",
   "metadata": {},
   "source": [
    "## Gradient projection train"
   ]
  },
  {
   "cell_type": "code",
   "execution_count": 7,
   "id": "f600514e",
   "metadata": {
    "scrolled": true
   },
   "outputs": [
    {
     "name": "stdout",
     "output_type": "stream",
     "text": [
      "tensor(4.4614e+11, device='cuda:0')\n"
     ]
    },
    {
     "ename": "RuntimeError",
     "evalue": "element 0 of tensors does not require grad and does not have a grad_fn",
     "output_type": "error",
     "traceback": [
      "\u001b[1;31m---------------------------------------------------------------------------\u001b[0m",
      "\u001b[1;31mRuntimeError\u001b[0m                              Traceback (most recent call last)",
      "Input \u001b[1;32mIn [7]\u001b[0m, in \u001b[0;36m<cell line: 18>\u001b[1;34m()\u001b[0m\n\u001b[0;32m     45\u001b[0m \u001b[38;5;28;01melse\u001b[39;00m:\n\u001b[0;32m     46\u001b[0m     def_grad, flat_def_grad \u001b[38;5;241m=\u001b[39m model\u001b[38;5;241m.\u001b[39mdefault_gradient(x0, y0\u001b[38;5;241m.\u001b[39mlong())\n\u001b[1;32m---> 47\u001b[0m     inv_grad, flat_inv_grad \u001b[38;5;241m=\u001b[39m \u001b[43mmodel\u001b[49m\u001b[38;5;241;43m.\u001b[39;49m\u001b[43minvariance_gradient\u001b[49m\u001b[43m(\u001b[49m\u001b[43mx0\u001b[49m\u001b[43m,\u001b[49m\u001b[43m \u001b[49m\u001b[43mrotated_data_90\u001b[49m\u001b[43m,\u001b[49m\u001b[43m \u001b[49m\u001b[43my0\u001b[49m\u001b[38;5;241;43m.\u001b[39;49m\u001b[43mlong\u001b[49m\u001b[43m(\u001b[49m\u001b[43m)\u001b[49m\u001b[43m)\u001b[49m\n\u001b[0;32m     49\u001b[0m     scalar \u001b[38;5;241m=\u001b[39m torch\u001b[38;5;241m.\u001b[39mdot(flat_def_grad, flat_inv_grad)\n\u001b[0;32m     50\u001b[0m     norm \u001b[38;5;241m=\u001b[39m torch\u001b[38;5;241m.\u001b[39mnorm(flat_inv_grad)\n",
      "Input \u001b[1;32mIn [6]\u001b[0m, in \u001b[0;36mInvariantNN.invariance_gradient\u001b[1;34m(self, x0, x0_r, target)\u001b[0m\n\u001b[0;32m     37\u001b[0m invariance_loss \u001b[38;5;241m=\u001b[39m \u001b[38;5;28mself\u001b[39m\u001b[38;5;241m.\u001b[39minv_loss(x0, x0_r)\n\u001b[0;32m     38\u001b[0m \u001b[38;5;28mprint\u001b[39m(invariance_loss)\n\u001b[1;32m---> 39\u001b[0m \u001b[43minvariance_loss\u001b[49m\u001b[38;5;241;43m.\u001b[39;49m\u001b[43mbackward\u001b[49m\u001b[43m(\u001b[49m\u001b[43mretain_graph\u001b[49m\u001b[38;5;241;43m=\u001b[39;49m\u001b[38;5;28;43;01mTrue\u001b[39;49;00m\u001b[43m)\u001b[49m\n\u001b[0;32m     40\u001b[0m inv_grad \u001b[38;5;241m=\u001b[39m {name: param\u001b[38;5;241m.\u001b[39mgrad\u001b[38;5;241m.\u001b[39mclone() \u001b[38;5;28;01mfor\u001b[39;00m name, param \u001b[38;5;129;01min\u001b[39;00m \u001b[38;5;28mself\u001b[39m\u001b[38;5;241m.\u001b[39mnamed_parameters()}\n\u001b[0;32m     41\u001b[0m flatten_inv_grad \u001b[38;5;241m=\u001b[39m torch\u001b[38;5;241m.\u001b[39mconcatenate([grad\u001b[38;5;241m.\u001b[39mflatten() \u001b[38;5;28;01mfor\u001b[39;00m grad \u001b[38;5;129;01min\u001b[39;00m inv_grad\u001b[38;5;241m.\u001b[39mvalues()])\n",
      "File \u001b[1;32m~\\anaconda3\\envs\\geo\\lib\\site-packages\\torch\\_tensor.py:522\u001b[0m, in \u001b[0;36mTensor.backward\u001b[1;34m(self, gradient, retain_graph, create_graph, inputs)\u001b[0m\n\u001b[0;32m    512\u001b[0m \u001b[38;5;28;01mif\u001b[39;00m has_torch_function_unary(\u001b[38;5;28mself\u001b[39m):\n\u001b[0;32m    513\u001b[0m     \u001b[38;5;28;01mreturn\u001b[39;00m handle_torch_function(\n\u001b[0;32m    514\u001b[0m         Tensor\u001b[38;5;241m.\u001b[39mbackward,\n\u001b[0;32m    515\u001b[0m         (\u001b[38;5;28mself\u001b[39m,),\n\u001b[1;32m   (...)\u001b[0m\n\u001b[0;32m    520\u001b[0m         inputs\u001b[38;5;241m=\u001b[39minputs,\n\u001b[0;32m    521\u001b[0m     )\n\u001b[1;32m--> 522\u001b[0m \u001b[43mtorch\u001b[49m\u001b[38;5;241;43m.\u001b[39;49m\u001b[43mautograd\u001b[49m\u001b[38;5;241;43m.\u001b[39;49m\u001b[43mbackward\u001b[49m\u001b[43m(\u001b[49m\n\u001b[0;32m    523\u001b[0m \u001b[43m    \u001b[49m\u001b[38;5;28;43mself\u001b[39;49m\u001b[43m,\u001b[49m\u001b[43m \u001b[49m\u001b[43mgradient\u001b[49m\u001b[43m,\u001b[49m\u001b[43m \u001b[49m\u001b[43mretain_graph\u001b[49m\u001b[43m,\u001b[49m\u001b[43m \u001b[49m\u001b[43mcreate_graph\u001b[49m\u001b[43m,\u001b[49m\u001b[43m \u001b[49m\u001b[43minputs\u001b[49m\u001b[38;5;241;43m=\u001b[39;49m\u001b[43minputs\u001b[49m\n\u001b[0;32m    524\u001b[0m \u001b[43m\u001b[49m\u001b[43m)\u001b[49m\n",
      "File \u001b[1;32m~\\anaconda3\\envs\\geo\\lib\\site-packages\\torch\\autograd\\__init__.py:266\u001b[0m, in \u001b[0;36mbackward\u001b[1;34m(tensors, grad_tensors, retain_graph, create_graph, grad_variables, inputs)\u001b[0m\n\u001b[0;32m    261\u001b[0m     retain_graph \u001b[38;5;241m=\u001b[39m create_graph\n\u001b[0;32m    263\u001b[0m \u001b[38;5;66;03m# The reason we repeat the same comment below is that\u001b[39;00m\n\u001b[0;32m    264\u001b[0m \u001b[38;5;66;03m# some Python versions print out the first line of a multi-line function\u001b[39;00m\n\u001b[0;32m    265\u001b[0m \u001b[38;5;66;03m# calls in the traceback and some print out the last line\u001b[39;00m\n\u001b[1;32m--> 266\u001b[0m \u001b[43mVariable\u001b[49m\u001b[38;5;241;43m.\u001b[39;49m\u001b[43m_execution_engine\u001b[49m\u001b[38;5;241;43m.\u001b[39;49m\u001b[43mrun_backward\u001b[49m\u001b[43m(\u001b[49m\u001b[43m  \u001b[49m\u001b[38;5;66;43;03m# Calls into the C++ engine to run the backward pass\u001b[39;49;00m\n\u001b[0;32m    267\u001b[0m \u001b[43m    \u001b[49m\u001b[43mtensors\u001b[49m\u001b[43m,\u001b[49m\n\u001b[0;32m    268\u001b[0m \u001b[43m    \u001b[49m\u001b[43mgrad_tensors_\u001b[49m\u001b[43m,\u001b[49m\n\u001b[0;32m    269\u001b[0m \u001b[43m    \u001b[49m\u001b[43mretain_graph\u001b[49m\u001b[43m,\u001b[49m\n\u001b[0;32m    270\u001b[0m \u001b[43m    \u001b[49m\u001b[43mcreate_graph\u001b[49m\u001b[43m,\u001b[49m\n\u001b[0;32m    271\u001b[0m \u001b[43m    \u001b[49m\u001b[43minputs\u001b[49m\u001b[43m,\u001b[49m\n\u001b[0;32m    272\u001b[0m \u001b[43m    \u001b[49m\u001b[43mallow_unreachable\u001b[49m\u001b[38;5;241;43m=\u001b[39;49m\u001b[38;5;28;43;01mTrue\u001b[39;49;00m\u001b[43m,\u001b[49m\n\u001b[0;32m    273\u001b[0m \u001b[43m    \u001b[49m\u001b[43maccumulate_grad\u001b[49m\u001b[38;5;241;43m=\u001b[39;49m\u001b[38;5;28;43;01mTrue\u001b[39;49;00m\u001b[43m,\u001b[49m\n\u001b[0;32m    274\u001b[0m \u001b[43m\u001b[49m\u001b[43m)\u001b[49m\n",
      "\u001b[1;31mRuntimeError\u001b[0m: element 0 of tensors does not require grad and does not have a grad_fn"
     ]
    }
   ],
   "source": [
    "model = InvariantNN().to(device)\n",
    "model.l1.weight.data = torch.Tensor(W(64,d = 28)).to(device)\n",
    "optimizer = torch.optim.SGD(model.parameters(), lr=1e-5, momentum=0)\n",
    "\n",
    "x0 = torch.Tensor(trainX).to(device) # images \n",
    "y0 = torch.Tensor(trainy).to(device) # true labels in form [0,0,0,1,0,0,0,0,0,0]\n",
    "\n",
    "rotated_data_90 = rotate(img = x0, angle = 90)\n",
    "rotated_data_180 = rotate(img = x0, angle = 180)\n",
    "rotated_data_270 = rotate(img = x0, angle = 270)\n",
    "\n",
    "loss_accuracy = []\n",
    "accuracy = []\n",
    "\n",
    "loss_invariance = []\n",
    "invariance = []\n",
    "\n",
    "for i in range(1000):\n",
    "    \n",
    "    pred1 = model(x0)\n",
    "    pred2 = model(rotated_data_90)\n",
    "    pred3 = model(rotated_data_180)\n",
    "    pred4 = model(rotated_data_270)\n",
    "    \n",
    "    _, pred_label1 = torch.max(pred1,1)\n",
    "    _, pred_label2 = torch.max(pred2,1)\n",
    "    _, pred_label3 = torch.max(pred3,1)\n",
    "    _, pred_label4 = torch.max(pred4,1)\n",
    "    \n",
    "    \n",
    "    acc = (pred_label1 == y0.long()).sum().item()/len(x0)\n",
    "    inv_1 = (pred_label1 == pred_label2).sum().item()/len(x0)\n",
    "    inv_2 = (pred_label1 == pred_label3).sum().item()/len(x0)\n",
    "    inv_3 = (pred_label1 == pred_label4).sum().item()/len(x0)\n",
    "    \n",
    "    inv = (inv_1 +inv_2 + inv_3)/3\n",
    "    \n",
    "    accuracy_loss = model.acc_loss(pred1, y0.long())\n",
    "    invariance_loss = model.inv_loss(pred1, pred2)\n",
    "    \n",
    "    if i%2 == 1:\n",
    "        optimizer.zero_grad()\n",
    "        epsilon = model.retraction(pred1, pred2)\n",
    "        epsilon.step()\n",
    "    else:\n",
    "        def_grad, flat_def_grad = model.default_gradient(x0, y0.long())\n",
    "        inv_grad, flat_inv_grad = model.invariance_gradient(x0, rotated_data_90, y0.long())\n",
    "\n",
    "        scalar = torch.dot(flat_def_grad, flat_inv_grad)\n",
    "        norm = torch.norm(flat_inv_grad)\n",
    "        model.project_gradient(scalar, norm, def_grad, inv_grad)\n",
    "        optimizer.step()\n",
    "\n",
    "\n",
    "    if (i%100 == 0):\n",
    "        print(\"###########\", i, \"############\")\n",
    "        print(\"Accuracy: \" , round(acc, 2))\n",
    "        print(\"Invariance: \", round(inv, 2))\n",
    "        print(\"Loss: \" , accuracy_loss.cpu().detach().numpy())\n",
    "        print(\"Invariance_loss: \" , invariance_loss.cpu().detach().numpy())\n",
    "\n",
    "\n",
    "    loss_accuracy.append(accuracy_loss.cpu().detach().numpy())\n",
    "    loss_invariance.append(invariance_loss.cpu().detach().numpy())\n",
    "    accuracy.append(acc)\n",
    "    invariance.append(inv)"
   ]
  },
  {
   "cell_type": "code",
   "execution_count": null,
   "id": "10d0cfe7",
   "metadata": {},
   "outputs": [],
   "source": [
    "model = InvariantNN().to(device)\n",
    "model.l1.weight.data = torch.Tensor(W(64,d = 28)).to(device)\n",
    "pred1 = model(x0)\n",
    "pred2 = model(rotated_data_90)\n",
    "y0 = torch.Tensor(trainy).to(device)\n",
    "inv_loss = (model.loss(pred1, y0.long()) - model.loss(pred2, y0.long()))**2/2\n",
    "print(inv_loss.cpu().detach().numpy())"
   ]
  },
  {
   "cell_type": "code",
   "execution_count": null,
   "id": "e9f991c5",
   "metadata": {},
   "outputs": [],
   "source": [
    "cm = confusion_matrix(y0.long().cpu(), pred_label1.cpu())\n",
    "disp = ConfusionMatrixDisplay(confusion_matrix=cm)\n",
    "disp.plot()\n",
    "plt.show()"
   ]
  },
  {
   "cell_type": "code",
   "execution_count": null,
   "id": "4ccccde6",
   "metadata": {},
   "outputs": [],
   "source": [
    "rotated_data = rotate(img = x0, angle = 270)\n",
    "\n",
    "pred1 = model(x0)\n",
    "pred2 = model(rotated_data)\n",
    "_, arg1 = torch.max(pred1,1)\n",
    "_, arg2 = torch.max(pred2,1)\n",
    "\n",
    "cm = confusion_matrix(arg1.cpu(), arg2.cpu())\n",
    "disp = ConfusionMatrixDisplay(confusion_matrix=cm)\n",
    "disp.plot()\n",
    "plt.xlabel(\"rotated image\")\n",
    "plt.ylabel(\"default image\")\n",
    "plt.show()"
   ]
  },
  {
   "cell_type": "code",
   "execution_count": null,
   "id": "4ada8008",
   "metadata": {},
   "outputs": [],
   "source": [
    "f = plt.figure(1)\n",
    "# plt.plot(loss_history, label = \"loss\")\n",
    "plt.plot(np.abs(loss_invariance), label = \"invariance_loss\")\n",
    "plt.legend()\n",
    "f.show()\n",
    "g = plt.figure(2)\n",
    "plt.plot(accuracy, label = \"accuracy\")\n",
    "plt.plot(invariance, label = \"invariance\")\n",
    "plt.legend()\n",
    "g.show()"
   ]
  },
  {
   "cell_type": "markdown",
   "id": "8b60c68c",
   "metadata": {},
   "source": [
    "Due obiettivi:\n",
    "* siamo entrati nella manifold (nessuno si è accorto di noi)\n",
    "* "
   ]
  },
  {
   "cell_type": "markdown",
   "id": "c938c96b",
   "metadata": {},
   "source": [
    "## Root finding"
   ]
  },
  {
   "cell_type": "code",
   "execution_count": null,
   "id": "fc427e1e",
   "metadata": {},
   "outputs": [],
   "source": [
    "from scipy import optimize"
   ]
  },
  {
   "cell_type": "code",
   "execution_count": null,
   "id": "7aa24158",
   "metadata": {},
   "outputs": [],
   "source": [
    "plt.imshow((x0[0] - rotate(img = x0, angle = 270))[0])"
   ]
  },
  {
   "cell_type": "code",
   "execution_count": null,
   "id": "cba9f04d",
   "metadata": {},
   "outputs": [],
   "source": [
    "plt.imshow((x0[0] - rotate(img = x0, angle = 45))[0])"
   ]
  },
  {
   "cell_type": "code",
   "execution_count": null,
   "id": "e354e8f1",
   "metadata": {},
   "outputs": [],
   "source": [
    "scipy.linalg.\n",
    "lstsq\n",
    "scipy.linalg.lstsq"
   ]
  },
  {
   "cell_type": "code",
   "execution_count": null,
   "id": "9b176aa2",
   "metadata": {},
   "outputs": [],
   "source": [
    "# Definisci la matrice A\n",
    "A = np.array([[2, 4], [1, 2]])\n",
    "\n",
    "# Calcola il kernel\n",
    "kernel = null_space(A)\n",
    "print(\"Kernel della matrice:\")\n",
    "print(kernel.flatten())\n"
   ]
  },
  {
   "cell_type": "code",
   "execution_count": null,
   "id": "a5cc46ed",
   "metadata": {},
   "outputs": [],
   "source": [
    "Weights = W(5,rot_mat(28))"
   ]
  },
  {
   "cell_type": "code",
   "execution_count": null,
   "id": "5263d0f6",
   "metadata": {},
   "outputs": [],
   "source": [
    "image1 = model.flatten(x0[0:1]).detach().numpy()[0]\n",
    "image1_rot = model.flatten(rotate(img = x0[0:1], angle = 90)).detach().numpy()[0]"
   ]
  },
  {
   "cell_type": "code",
   "execution_count": null,
   "id": "48acff2a",
   "metadata": {},
   "outputs": [],
   "source": [
    "out1 = Weights@image1\n",
    "out2 = Weights@image1_rot"
   ]
  },
  {
   "cell_type": "code",
   "execution_count": null,
   "id": "068406a7",
   "metadata": {},
   "outputs": [],
   "source": [
    "out1"
   ]
  },
  {
   "cell_type": "code",
   "execution_count": null,
   "id": "62fdb8a6",
   "metadata": {},
   "outputs": [],
   "source": [
    "out2"
   ]
  },
  {
   "cell_type": "code",
   "execution_count": null,
   "id": "04198a6d",
   "metadata": {},
   "outputs": [],
   "source": [
    "out1-out2"
   ]
  },
  {
   "cell_type": "code",
   "execution_count": null,
   "id": "df8de32f",
   "metadata": {},
   "outputs": [],
   "source": [
    "x_vec = x.reshape(16)\n",
    "x_r = mat@x_vec\n",
    "x_r_img = x_r.reshape(4,4)\n",
    "plt.imshow(x_r_img)"
   ]
  },
  {
   "cell_type": "code",
   "execution_count": null,
   "id": "3f3dcd85",
   "metadata": {},
   "outputs": [],
   "source": []
  },
  {
   "cell_type": "markdown",
   "id": "157fb4c8",
   "metadata": {},
   "source": [
    "## Train"
   ]
  },
  {
   "cell_type": "markdown",
   "id": "5b2fe8d9",
   "metadata": {},
   "source": [
    "# Standard train"
   ]
  },
  {
   "cell_type": "code",
   "execution_count": null,
   "id": "dd341a61",
   "metadata": {},
   "outputs": [],
   "source": [
    "model = InvariantNN()\n",
    "# model.l1.weight.data = torch.Tensor(W(64,rot_mat(28)))\n",
    "optimizer = torch.optim.SGD(model.parameters(), lr=1e-4, momentum=0.9)\n",
    "\n",
    "x0 = torch.Tensor(trainX)\n",
    "y0 = torch.Tensor(trainy)\n",
    "\n",
    "rotated_data = rotate(img = x0, angle = 110)\n",
    "loss_history = []\n",
    "accuracy = []\n",
    "\n",
    "for i in range(400):\n",
    "    l_inv = 0\n",
    "    l_acc = 1\n",
    "    optimizer.zero_grad()\n",
    "    \n",
    "    pred1 = model(x0)\n",
    "    pred2 = model(rotated_data)\n",
    "    avg_pred = torch.sum(pred1, axis = 0)/6000\n",
    "    \n",
    "    _, arg1 = torch.max(pred1,1)\n",
    "    _, arg2 = torch.max(pred2,1)\n",
    "    \n",
    "    \n",
    "    acc = (arg1 == y0.long()).sum().item()/len(x0)\n",
    "    inv = (arg1 == arg2).sum().item()/len(x0)   \n",
    "    \n",
    "    loss = loss_CE(pred1, y0.long()) #- 0.001*loss_CE( avg_pred , uniform_dist )\n",
    "    \n",
    "    \n",
    "    if i%5 == 1:\n",
    "        print(\"Accuracy: \" , round(acc, 2))\n",
    "        print(\"Invariance: \", round(inv, 2))\n",
    "        print(\"Loss: \" , loss.detach().numpy())\n",
    "          \n",
    "    loss_history.append(loss.detach().numpy())\n",
    "    accuracy.append(acc)\n",
    "    \n",
    "    loss.backward()\n",
    "    optimizer.step()"
   ]
  },
  {
   "cell_type": "code",
   "execution_count": null,
   "id": "d2a61382",
   "metadata": {},
   "outputs": [],
   "source": [
    "model = InvariantNN()\n",
    "model.l1.weight.data = torch.Tensor(W(64,28))\n",
    "\n",
    "x0 = torch.Tensor(trainX)\n",
    "y0 = torch.Tensor(trainy)\n",
    "\n",
    "rotated_data = rotate(img = x0, angle = 270)\n",
    "\n",
    "pred1 = model(x0)\n",
    "pred2 = model(rotated_data)\n",
    "avg_pred = torch.sum(pred1, axis = 0)/6000\n",
    "\n",
    "_, arg1 = torch.max(pred1,1)\n",
    "_, arg2 = torch.max(pred2,1)\n",
    "\n",
    "acc = (arg1 == y0.long()).sum().item()/len(x0)\n",
    "inv = (arg1 == arg2).sum().item()/len(x0) \n",
    "loss = loss_CE(pred1, pred2) + loss_CE(pred1, y0.long()) #- 0.001*loss_CE( avg_pred , uniform_dist )\n",
    "\n",
    "print(\"Accuracy: \" , round(acc, 5))\n",
    "print(\"Invariance: \", round(inv, 9))\n",
    "print(\"Loss: \" , loss.detach().numpy())\n",
    "\n",
    "cm = confusion_matrix(arg1, arg2)\n",
    "disp = ConfusionMatrixDisplay(confusion_matrix=cm)\n",
    "disp.plot()\n",
    "plt.show()"
   ]
  },
  {
   "cell_type": "code",
   "execution_count": null,
   "id": "e3c2ffb8",
   "metadata": {},
   "outputs": [],
   "source": []
  },
  {
   "cell_type": "code",
   "execution_count": null,
   "id": "e4627a21",
   "metadata": {},
   "outputs": [],
   "source": [
    "import torch\n",
    "import torch.nn as nn\n",
    "import torch.optim as optim\n",
    "\n",
    "# Definizione di una rete neurale di esempio\n",
    "class SimpleNN(nn.Module):\n",
    "    def __init__(self):\n",
    "        super(SimpleNN, self).__init__()\n",
    "        self.linear1 = nn.Linear(10, 5)\n",
    "        self.linear2 = nn.Linear(5, 1)\n",
    "    \n",
    "    def forward(self, x):\n",
    "        x = torch.relu(self.linear1(x))\n",
    "        return self.linear2(x)\n",
    "\n",
    "# Funzione per concatenare i gradienti di tutti i parametri in un unico vettore\n",
    "def get_concatenated_gradients(grad_dict):\n",
    "    return torch.cat([g.flatten() for g in grad_dict.values() if g is not None])\n",
    "\n",
    "# Funzione per ricostruire i gradienti dai vettori concatenati\n",
    "def set_gradients_from_vector(model, grad_vector, grad_dict):\n",
    "    offset = 0\n",
    "    for name, param in model.named_parameters():\n",
    "        if grad_dict[name] is not None:\n",
    "            grad_shape = grad_dict[name].shape\n",
    "            grad_size = grad_dict[name].numel()\n",
    "            param.grad = grad_vector[offset:offset + grad_size].view(grad_shape)\n",
    "            offset += grad_size\n",
    "\n",
    "# Inizializziamo il modello e l'ottimizzatore\n",
    "model = SimpleNN()\n",
    "optimizer = optim.SGD(model.parameters(), lr=0.01)\n",
    "\n",
    "# Creiamo due insiemi di input differenti\n",
    "x1 = torch.randn(3, 10)\n",
    "x2 = torch.randn(3, 10)\n",
    "\n",
    "# Creiamo dei target casuali per calcolare la loss\n",
    "target1 = torch.randn(3, 1)\n",
    "target2 = torch.randn(3, 1)\n",
    "\n",
    "# STEP 1: Calcolo dei gradienti rispetto ai pesi per il primo input `x1`\n",
    "output1 = model(x1)\n",
    "loss1 = nn.functional.mse_loss(output1, target1)\n",
    "optimizer.zero_grad()\n",
    "loss1.backward(retain_graph=True)\n",
    "grads1 = {name: param.grad.clone() for name, param in model.named_parameters()}\n",
    "\n",
    "# STEP 2: Calcolo dei gradienti rispetto ai pesi per il secondo input `x2`\n",
    "output2 = model(x2)\n",
    "loss2 = nn.functional.mse_loss(output2, target2)\n",
    "optimizer.zero_grad()\n",
    "loss2.backward()\n",
    "grads2 = {name: param.grad.clone() for name, param in model.named_parameters()}\n",
    "\n",
    "# Concateniamo i gradienti in un unico vettore\n",
    "grad1_vec = get_concatenated_gradients(grads1)\n",
    "grad2_vec = get_concatenated_gradients(grads2)\n",
    "\n",
    "# STEP 3: Calcolo della componente ortogonale di `grad1_vec` rispetto a `grad2_vec`\n",
    "with torch.no_grad():\n",
    "    dot_product = torch.dot(grad1_vec, grad2_vec)\n",
    "    norm_grad2_sq = torch.norm(grad2_vec) ** 2\n",
    "\n",
    "    # Evitiamo la divisione per zero\n",
    "    if norm_grad2_sq > 0:\n",
    "        # Calcoliamo la proiezione di `grad1_vec` su `grad2_vec`\n",
    "        projection = (dot_product / norm_grad2_sq) * grad2_vec\n",
    "        # Calcoliamo la componente ortogonale\n",
    "        ortho_component = grad1_vec - projection\n",
    "    else:\n",
    "        ortho_component = grad1_vec\n",
    "\n",
    "    # Ricostruiamo i gradienti nel modello usando la componente ortogonale\n",
    "    set_gradients_from_vector(model, ortho_component, grads1)\n",
    "\n",
    "# STEP 4: Eseguiamo l'aggiornamento dei pesi usando la componente ortogonale\n",
    "optimizer.step()\n",
    "\n",
    "# Stampa dei pesi aggiornati (opzionale)\n",
    "print(\"Pesi aggiornati:\")\n",
    "for name, param in model.named_parameters():\n",
    "    print(f\"{name}: {param.data}\")\n"
   ]
  }
 ],
 "metadata": {
  "kernelspec": {
   "display_name": "Python 3 (ipykernel)",
   "language": "python",
   "name": "python3"
  },
  "language_info": {
   "codemirror_mode": {
    "name": "ipython",
    "version": 3
   },
   "file_extension": ".py",
   "mimetype": "text/x-python",
   "name": "python",
   "nbconvert_exporter": "python",
   "pygments_lexer": "ipython3",
   "version": "3.9.13"
  }
 },
 "nbformat": 4,
 "nbformat_minor": 5
}
