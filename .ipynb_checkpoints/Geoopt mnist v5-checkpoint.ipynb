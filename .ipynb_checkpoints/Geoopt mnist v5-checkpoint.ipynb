{
 "cells": [
  {
   "cell_type": "code",
   "execution_count": 1,
   "id": "705e0549",
   "metadata": {},
   "outputs": [],
   "source": [
    "import torch\n",
    "import geoopt\n",
    "from geoopt.optim import RiemannianSGD, RiemannianAdam\n",
    "from tensorflow.keras.datasets import mnist\n",
    "import matplotlib.pyplot as plt\n",
    "from torchvision.transforms.functional import rotate\n",
    "\n",
    "import numpy as np\n",
    "from torch.func import grad\n",
    "from scipy.linalg import lstsq, null_space"
   ]
  },
  {
   "cell_type": "code",
   "execution_count": 2,
   "id": "9ebcac26",
   "metadata": {},
   "outputs": [],
   "source": [
    "## Questo è il notebook dove facciamo le cose sul primo layer\n",
    "## v4 = retraction esatta"
   ]
  },
  {
   "cell_type": "markdown",
   "id": "952f95bf",
   "metadata": {},
   "source": [
    "TODO:\n",
    "* controllare se comb lin di vettori del kernel è in media sempre lo stesso vettore\n",
    "* riuscirci\n",
    "\n",
    "$$P^\\parallel=D(D^tD)^{-1}D^t$$"
   ]
  },
  {
   "cell_type": "code",
   "execution_count": 3,
   "id": "d13bf8da",
   "metadata": {},
   "outputs": [
    {
     "name": "stdout",
     "output_type": "stream",
     "text": [
      "Train: X=(60000, 28, 28), y=(60000,)\n",
      "Test: X=(10000, 28, 28), y=(10000,)\n"
     ]
    },
    {
     "data": {
      "image/png": "[encoded data removed]",
      "text/plain": [
       "<Figure size 640x480 with 9 Axes>"
      ]
     },
     "metadata": {},
     "output_type": "display_data"
    }
   ],
   "source": [
    "# load dataset\n",
    "(trainX, trainy), (testX, testy) = mnist.load_data()\n",
    "trainX = trainX/255\n",
    "# summarize loaded dataset\n",
    "print('Train: X=%s, y=%s' % (trainX.shape, trainy.shape))\n",
    "print('Test: X=%s, y=%s' % (testX.shape, testy.shape))\n",
    "# plot first few images\n",
    "for i in range(9):\n",
    "    # define subplot\n",
    "    plt.subplot(330 + 1 + i)\n",
    "    # plot raw pixel data\n",
    "    plt.imshow(trainX[i], cmap=plt.get_cmap('gray'))\n",
    "# show the figure\n",
    "plt.show()"
   ]
  },
  {
   "cell_type": "code",
   "execution_count": 4,
   "id": "18cc89d7",
   "metadata": {},
   "outputs": [],
   "source": [
    "def G(d): # questa è  rot_mat\n",
    "    mat = np.zeros(d**4).reshape(d**2,d**2)\n",
    "    for j in range(d):\n",
    "        for i in range(d):\n",
    "            k = (i+1)*d-j\n",
    "            h = i+(j)*d+1\n",
    "\n",
    "            mat[h-1][k-1] = 1\n",
    "    return mat\n",
    "\n",
    "def W(output_dim, d = 4):\n",
    "    kernel = null_space((np.identity(d*d) -  G(d)).T).T\n",
    "    W = []\n",
    "    for j in range(output_dim):\n",
    "        vec = np.zeros(d**2)\n",
    "        for k in kernel:\n",
    "            vec = (np.random.random()-0.5)*2*k + vec # kernel[j]\n",
    "        W.append(list(vec/np.linalg.norm(vec)))\n",
    "    W = np.array(W)\n",
    "    return np.array(W)\n",
    "\n",
    "def projector(d = 4):\n",
    "    kernel = null_space((np.identity(d*d) -  G(d)).T)\n",
    "    \n",
    "    return kernel @ kernel.T"
   ]
  },
  {
   "cell_type": "code",
   "execution_count": 5,
   "id": "d5926d61",
   "metadata": {},
   "outputs": [],
   "source": [
    "def NN(x, thetas):\n",
    "    W1, b1, W2, b2 = deflatten(thetas, get_shapes([W1_i, b1_i, W2_i,b2_i]))\n",
    "    out = W2 @ torch.nn.LeakyReLU()(W1 @ x + b1) + b2\n",
    "    return out"
   ]
  },
  {
   "cell_type": "code",
   "execution_count": 6,
   "id": "d9b277c9",
   "metadata": {},
   "outputs": [],
   "source": [
    "# Funzione che definisce la varietà: sfera unitaria centrata in 0\n",
    "def g(thetas):\n",
    "    W1, b1, W2, b2 = deflatten(thetas, get_shapes([W1_i, b1_i, W2_i,b2_i]))\n",
    "    d = int(np.sqrt(W1.shape[1]))\n",
    "    ker_equation = torch.Tensor(W1) @ (torch.eye(d*d) -  torch.Tensor(G(d)))\n",
    "    \n",
    "    norm = (ker_equation.norm())**2\n",
    "    return norm # sfera unitaria\n",
    "\n",
    "# Gradiente di f\n",
    "def dg(thetas):\n",
    "    gradient = grad(g)(thetas)\n",
    "    return gradient #+ 1e-5*(gradient.norm()==0)\n",
    "\n",
    "def flatten(weights_list):\n",
    "    flatten_weights = []\n",
    "    for weight in weights_list:\n",
    "        flatten_weights.append(weight.flatten())\n",
    "        \n",
    "    return torch.cat(flatten_weights)\n",
    "\n",
    "def deflatten(weights_flat, shapes):\n",
    "    weigths_list = []\n",
    "    shape_counter = 0\n",
    "    for shape in shapes:\n",
    "        weight = torch.Tensor(weights_flat[shape_counter: shape_counter + np.prod(shape)])\n",
    "        shape_counter = shape_counter + np.prod(shape)\n",
    "        \n",
    "        weigths_list.append(weight.reshape(shape))\n",
    "            \n",
    "    return weigths_list\n",
    "\n",
    "def get_shapes(weights_list):\n",
    "    shapes = []\n",
    "    for weight in weights_list:\n",
    "        shapes.append(weight.shape)\n",
    "    return(shapes)\n",
    "\n",
    "# Classe LevelSetManifold già implementata sopra\n",
    "class LevelSetManifold(geoopt.manifolds.Manifold):\n",
    "    \n",
    "    ndim = 1\n",
    "    name = \"Caste\"\n",
    "    \n",
    "    def __init__(self, f, df, lr_proj = 1):\n",
    "        super().__init__()\n",
    "        self.f = f\n",
    "        self.df = df\n",
    "        self.lr_proj = lr_proj\n",
    "\n",
    "    def _check_point_on_manifold(self, x, atol=1e-8, rtol=1e-8):\n",
    "        return torch.abs(self.f(x)) < atol\n",
    "\n",
    "    def _check_vector_on_tangent(self, x, u, atol=1e-8, rtol=1e-8):\n",
    "        grad_f = self.df(x)\n",
    "        return torch.abs(u @ grad_f).sum() < atol\n",
    "    \n",
    "    def projx(self, x):\n",
    "        if self._check_point_on_manifold(x):\n",
    "            return x\n",
    "        W1, b1, W2, b2 = deflatten(x, get_shapes([W1_i, b1_i, W2_i,b2_i]))\n",
    "        W1_invariant = (torch.Tensor(projector(d = 28)) @ W1.T).T\n",
    "        x = torch.Tensor(flatten([W1_invariant, b1, W2, b2]))\n",
    "\n",
    "        return x \n",
    "    \n",
    "#     def projx(self,x):\n",
    "#         if self._check_point_on_manifold(x):\n",
    "#             return x\n",
    "#         for r in range(100):\n",
    "#             x = self.single_projx(x)\n",
    "# #             print(\"g: \", self.f(x))\n",
    "# #             print(\"dg: \", self.df(x).norm())\n",
    "#             if r == 99:\n",
    "#                 print(f\"Retraction applied {r + 1} times\")\n",
    "#             if self._check_point_on_manifold(x):\n",
    "# #                 print(f\"Retraction applied {r + 1} times\")\n",
    "#                 break\n",
    "#         return x\n",
    "    \n",
    "    def single_projx(self, x):\n",
    "        grad_f = self.df(x)\n",
    "        f_val = self.f(x)\n",
    "        return x - self.lr_proj*(f_val / grad_f.norm()**2 * grad_f)\n",
    "\n",
    "    def proju(self, x, u):\n",
    "        if self._check_point_on_manifold(u):\n",
    "            return u\n",
    "        W1, b1, W2, b2 = deflatten(u, get_shapes([W1_i, b1_i, W2_i,b2_i]))\n",
    "        W1_invariant = (torch.Tensor(projector(d = 28)) @ W1.T).T\n",
    "        u = torch.Tensor(flatten([W1_invariant, b1, W2, b2]))\n",
    "#         print(\"Norma gradiente: \", u.norm())\n",
    "        return u\n",
    "#         grad_f = self.df(x)\n",
    "#         print(\"andrea\")\n",
    "#         return u - (u @ grad_f) / grad_f.norm()**2 * grad_f\n",
    "\n",
    "    def inner(self, x, u, v=None):\n",
    "        if v is None:\n",
    "            v = u\n",
    "        return (u * v).sum()\n",
    "\n",
    "    def expmap(self, x, u):\n",
    "        return self.retr(x, u)\n",
    "\n",
    "    def egrad2rgrad(self, x, u):\n",
    "        return self.proju(x, u)\n",
    "\n",
    "    def retr(self, x, u):\n",
    "        x_new = x + u\n",
    "        return self.projx(x_new)\n",
    "\n"
   ]
  },
  {
   "cell_type": "code",
   "execution_count": 7,
   "id": "3cde28a2",
   "metadata": {},
   "outputs": [],
   "source": [
    "quale = range(200) #[151,180, 210, 440, 450, 700, 458, 777, 890] #\n",
    "\n",
    "mnist_vector = torch.Tensor(trainX) #torch.randint(0, 256, (1,28,28)).float()/256\n",
    "mnist_vector_rotated_90 = rotate(img=mnist_vector, angle=90)[quale].reshape(len(quale),784).T\n",
    "mnist_vector_rotated_180 = rotate(img=mnist_vector, angle=180)[quale].reshape(len(quale),784).T\n",
    "mnist_vector_rotated_270 = rotate(img=mnist_vector, angle=270)[quale].reshape(len(quale),784).T\n",
    "mnist_vector = mnist_vector[quale].reshape(len(quale),784).T"
   ]
  },
  {
   "cell_type": "code",
   "execution_count": 8,
   "id": "da28b4d8",
   "metadata": {},
   "outputs": [
    {
     "data": {
      "text/plain": [
       "<matplotlib.image.AxesImage at 0x20d2eb1c640>"
      ]
     },
     "execution_count": 8,
     "metadata": {},
     "output_type": "execute_result"
    },
    {
     "data": {
      "image/png": "[encoded data removed]",
      "text/plain": [
       "<Figure size 640x480 with 1 Axes>"
      ]
     },
     "metadata": {},
     "output_type": "display_data"
    }
   ],
   "source": [
    "plt.imshow(mnist_vector.detach().numpy().T[6].reshape(28,28))"
   ]
  },
  {
   "cell_type": "code",
   "execution_count": 9,
   "id": "f24e22e0",
   "metadata": {},
   "outputs": [],
   "source": [
    "W1_i = (torch.rand((48,784)).float() - 0.5)*2 # W(64, d = 28) \n",
    "b1_i = (torch.rand((48,1)).float() - 0.5)*2\n",
    "\n",
    "W2_i = (torch.rand((10,48)).float() - 0.5)*2\n",
    "b2_i = (torch.rand((10,1)).float() - 0.5)*2"
   ]
  },
  {
   "cell_type": "code",
   "execution_count": 10,
   "id": "aaed2286",
   "metadata": {},
   "outputs": [
    {
     "data": {
      "text/plain": [
       "tensor(25133.0039, grad_fn=<PowBackward0>)"
      ]
     },
     "execution_count": 10,
     "metadata": {},
     "output_type": "execute_result"
    }
   ],
   "source": [
    "# Creiamo la varietà\n",
    "manifold = LevelSetManifold(g, dg, 1)\n",
    "# Test del parametro manifold\n",
    "\n",
    "theta = flatten([W1_i, b1_i, W2_i, b2_i])\n",
    "theta = geoopt.ManifoldParameter(theta , manifold=manifold)\n",
    "g(theta)"
   ]
  },
  {
   "cell_type": "code",
   "execution_count": 11,
   "id": "35913e15",
   "metadata": {},
   "outputs": [
    {
     "data": {
      "text/plain": [
       "tensor(549.4396, grad_fn=<LinalgVectorNormBackward0>)"
      ]
     },
     "execution_count": 11,
     "metadata": {},
     "output_type": "execute_result"
    }
   ],
   "source": [
    "torch.norm(dg(theta))"
   ]
  },
  {
   "cell_type": "code",
   "execution_count": 13,
   "id": "318826f5",
   "metadata": {},
   "outputs": [
    {
     "data": {
      "text/plain": [
       "(10000, 28, 28)"
      ]
     },
     "execution_count": 13,
     "metadata": {},
     "output_type": "execute_result"
    }
   ],
   "source": [
    "testX.shape"
   ]
  },
  {
   "cell_type": "code",
   "execution_count": 18,
   "id": "725c30ea",
   "metadata": {},
   "outputs": [
    {
     "name": "stdout",
     "output_type": "stream",
     "text": [
      "\n",
      "\n",
      "\n",
      "############## Training phase ################\n",
      "Epoch 1 \n",
      " Loss: 23.994098663330078 \n",
      " Acc: 0.08 \n",
      " g(theta): 1.37e-13 \n",
      " Invariance:  0.415 \n",
      " Validation Acc:  0.0949 \n",
      "\n",
      "Epoch 51 \n",
      " Loss: 7.599400043487549 \n",
      " Acc: 0.13 \n",
      " g(theta): 1.44e-13 \n",
      " Invariance:  1.0 \n",
      " Validation Acc:  0.1533 \n",
      "\n",
      "Epoch 101 \n",
      " Loss: 4.903393745422363 \n",
      " Acc: 0.18 \n",
      " g(theta): 1.46e-13 \n",
      " Invariance:  1.0 \n",
      " Validation Acc:  0.1818 \n",
      "\n",
      "Epoch 151 \n",
      " Loss: 3.6389036178588867 \n",
      " Acc: 0.265 \n",
      " g(theta): 1.47e-13 \n",
      " Invariance:  1.0 \n",
      " Validation Acc:  0.2395 \n",
      "\n",
      "Epoch 201 \n",
      " Loss: 2.9756662845611572 \n",
      " Acc: 0.365 \n",
      " g(theta): 1.48e-13 \n",
      " Invariance:  1.0 \n",
      " Validation Acc:  0.2821 \n",
      "\n",
      "Epoch 251 \n",
      " Loss: 2.5673108100891113 \n",
      " Acc: 0.405 \n",
      " g(theta): 1.48e-13 \n",
      " Invariance:  1.0 \n",
      " Validation Acc:  0.3118 \n",
      "\n",
      "Epoch 301 \n",
      " Loss: 2.3005053997039795 \n",
      " Acc: 0.44 \n",
      " g(theta): 1.48e-13 \n",
      " Invariance:  1.0 \n",
      " Validation Acc:  0.3278 \n",
      "\n",
      "Epoch 351 \n",
      " Loss: 2.102825880050659 \n",
      " Acc: 0.485 \n",
      " g(theta): 1.48e-13 \n",
      " Invariance:  1.0 \n",
      " Validation Acc:  0.3403 \n",
      "\n",
      "Epoch 401 \n",
      " Loss: 1.9455856084823608 \n",
      " Acc: 0.53 \n",
      " g(theta): 1.48e-13 \n",
      " Invariance:  1.0 \n",
      " Validation Acc:  0.3503 \n",
      "\n",
      "Epoch 451 \n",
      " Loss: 1.8142216205596924 \n",
      " Acc: 0.565 \n",
      " g(theta): 1.48e-13 \n",
      " Invariance:  1.0 \n",
      " Validation Acc:  0.3585 \n",
      "\n",
      "Epoch 501 \n",
      " Loss: 1.7007640600204468 \n",
      " Acc: 0.59 \n",
      " g(theta): 1.48e-13 \n",
      " Invariance:  1.0 \n",
      " Validation Acc:  0.3628 \n",
      "\n",
      "Epoch 551 \n",
      " Loss: 1.602156639099121 \n",
      " Acc: 0.625 \n",
      " g(theta): 1.48e-13 \n",
      " Invariance:  1.0 \n",
      " Validation Acc:  0.369 \n",
      "\n",
      "Epoch 601 \n",
      " Loss: 1.5157597064971924 \n",
      " Acc: 0.64 \n",
      " g(theta): 1.49e-13 \n",
      " Invariance:  1.0 \n",
      " Validation Acc:  0.3734 \n",
      "\n",
      "Epoch 651 \n",
      " Loss: 1.4366977214813232 \n",
      " Acc: 0.65 \n",
      " g(theta): 1.49e-13 \n",
      " Invariance:  1.0 \n",
      " Validation Acc:  0.3766 \n",
      "\n",
      "Epoch 701 \n",
      " Loss: 1.3662023544311523 \n",
      " Acc: 0.665 \n",
      " g(theta): 1.49e-13 \n",
      " Invariance:  1.0 \n",
      " Validation Acc:  0.3794 \n",
      "\n",
      "Epoch 751 \n",
      " Loss: 1.3029484748840332 \n",
      " Acc: 0.675 \n",
      " g(theta): 1.5e-13 \n",
      " Invariance:  1.0 \n",
      " Validation Acc:  0.3828 \n",
      "\n",
      "Epoch 801 \n",
      " Loss: 1.2450900077819824 \n",
      " Acc: 0.695 \n",
      " g(theta): 1.51e-13 \n",
      " Invariance:  1.0 \n",
      " Validation Acc:  0.3859 \n",
      "\n",
      "Epoch 851 \n",
      " Loss: 1.1916946172714233 \n",
      " Acc: 0.705 \n",
      " g(theta): 1.51e-13 \n",
      " Invariance:  1.0 \n",
      " Validation Acc:  0.3878 \n",
      "\n",
      "Epoch 901 \n",
      " Loss: 1.1413829326629639 \n",
      " Acc: 0.71 \n",
      " g(theta): 1.51e-13 \n",
      " Invariance:  1.0 \n",
      " Validation Acc:  0.3904 \n",
      "\n",
      "Epoch 951 \n",
      " Loss: 1.094954252243042 \n",
      " Acc: 0.735 \n",
      " g(theta): 1.51e-13 \n",
      " Invariance:  1.0 \n",
      " Validation Acc:  0.3912 \n",
      "\n"
     ]
    },
    {
     "ename": "NameError",
     "evalue": "name 'plot' is not defined",
     "output_type": "error",
     "traceback": [
      "\u001b[1;31m---------------------------------------------------------------------------\u001b[0m",
      "\u001b[1;31mNameError\u001b[0m                                 Traceback (most recent call last)",
      "Input \u001b[1;32mIn [18]\u001b[0m, in \u001b[0;36m<cell line: 64>\u001b[1;34m()\u001b[0m\n\u001b[0;32m     62\u001b[0m plt\u001b[38;5;241m.\u001b[39mplot(np\u001b[38;5;241m.\u001b[39marray(loss_history)\u001b[38;5;241m/\u001b[39mnp\u001b[38;5;241m.\u001b[39mmax(loss_history), label \u001b[38;5;241m=\u001b[39m \u001b[38;5;124m\"\u001b[39m\u001b[38;5;124mloss\u001b[39m\u001b[38;5;124m\"\u001b[39m)\n\u001b[0;32m     63\u001b[0m plt\u001b[38;5;241m.\u001b[39mplot(inv_history, label \u001b[38;5;241m=\u001b[39m \u001b[38;5;124m\"\u001b[39m\u001b[38;5;124mInv\u001b[39m\u001b[38;5;124m\"\u001b[39m)\n\u001b[1;32m---> 64\u001b[0m plt\u001b[38;5;241m-\u001b[39m\u001b[43mplot\u001b[49m(test_acc_history, \u001b[38;5;124m\"\u001b[39m\u001b[38;5;124mval_accuracy\u001b[39m\u001b[38;5;124m\"\u001b[39m)\n\u001b[0;32m     65\u001b[0m plt\u001b[38;5;241m.\u001b[39mlegend()\n\u001b[0;32m     66\u001b[0m \u001b[38;5;28mprint\u001b[39m(\u001b[38;5;124m\"\u001b[39m\u001b[38;5;130;01m\\n\u001b[39;00m\u001b[38;5;130;01m\\n\u001b[39;00m\u001b[38;5;124m\"\u001b[39m)\n",
      "\u001b[1;31mNameError\u001b[0m: name 'plot' is not defined"
     ]
    },
    {
     "data": {
      "image/png": "[encoded data removed]",
      "text/plain": [
       "<Figure size 640x480 with 1 Axes>"
      ]
     },
     "metadata": {},
     "output_type": "display_data"
    }
   ],
   "source": [
    "print(\"\\n\\n\")\n",
    "\n",
    "# # Verifica che il parametro iniziale appartenga alla varietà\n",
    "# assert manifold._check_point_on_manifold(theta.data), \"Il punto iniziale non è sulla varietà\"\n",
    "\n",
    "def loss_fn(mnist_vector, theta):\n",
    "    return torch.nn.CrossEntropyLoss()(NN(mnist_vector, theta).T, torch.Tensor(trainy[quale]).long())\n",
    "\n",
    "# Ottimizzatore Riemanniano\n",
    "optimizer = RiemannianSGD([theta], lr=0.005)\n",
    "\n",
    "# Ciclo di ottimizzazione\n",
    "g_during_train = []\n",
    "loss_history = []\n",
    "acc_history = []\n",
    "inv_history = []\n",
    "test_acc_history = []\n",
    "test_loss_history = []\n",
    "\n",
    "print(\"############## Training phase ################\")\n",
    "for epoch in range(1000):\n",
    "    outputs = NN(mnist_vector,theta)\n",
    "    _, predicted = torch.max(outputs.data, 0)\n",
    "    correct = (predicted == torch.Tensor(trainy[quale])).sum().item()\n",
    "    outputs_val = NN(torch.Tensor(testX).reshape(10000,784).T,theta)\n",
    "    _, predicted_val = torch.max(outputs_val.data, 0)\n",
    "    correct_val = (predicted_val == torch.Tensor(testy)).sum().item()\n",
    "    \n",
    "    _, pred_90 = torch.max(NN(mnist_vector_rotated_90, theta), 0)\n",
    "    _, pred_180 = torch.max(NN(mnist_vector_rotated_180, theta), 0)\n",
    "    _, pred_270 = torch.max(NN(mnist_vector_rotated_270, theta), 0)\n",
    "    \n",
    "    inv1 = (predicted == pred_90).sum().item()\n",
    "    inv2 = (predicted == pred_180).sum().item()\n",
    "    inv3 = (predicted == pred_270).sum().item()\n",
    "    \n",
    "    inv = (inv1 + inv2 + inv3)/(3*len(quale))\n",
    "    \n",
    "    acc = correct/len(quale)\n",
    "    acc_val = correct_val/len(testX)\n",
    "    optimizer.zero_grad()\n",
    "    loss = loss_fn(mnist_vector, theta)\n",
    "    loss.backward()\n",
    "    optimizer.step()\n",
    "    if epoch%50 == 0:\n",
    "        print(\"Epoch\",  epoch + 1, \"\\n\",\n",
    "              \"Loss:\", loss.item(), \"\\n\",\n",
    "              \"Acc:\", acc, \"\\n\",\n",
    "              \"g(theta):\", round(float(g(theta).data.numpy()),15), \"\\n\",\n",
    "              \"Invariance: \", inv, \"\\n\",\n",
    "             \"Validation Acc: \", acc_val, \"\\n\",\n",
    "             )\n",
    "        \n",
    "    loss_history.append(loss.item())\n",
    "    g_during_train.append(g(theta).data.numpy())\n",
    "    acc_history.append(acc)\n",
    "    inv_history.append(inv)\n",
    "    test_acc_history.append(acc_val)\n",
    "    \n",
    "# plt.plot(g_during_train)\n",
    "plt.plot(acc_history, label = \"acc\")\n",
    "plt.plot(np.array(loss_history)/np.max(loss_history), label = \"loss\")\n",
    "plt.plot(inv_history, label = \"Inv\")\n",
    "plt.plot(test_acc_history, \"val_accuracy\")\n",
    "plt.legend()\n",
    "print(\"\\n\\n\")\n",
    "\n",
    "# Risultato finale\n",
    "print(\"Punto finale:\", theta)\n",
    "print(\"Appartiene alla varietà?\", manifold._check_point_on_manifold(theta))"
   ]
  },
  {
   "cell_type": "code",
   "execution_count": 20,
   "id": "ce1c8348",
   "metadata": {},
   "outputs": [
    {
     "name": "stdout",
     "output_type": "stream",
     "text": [
      "\n",
      "\n",
      "\n"
     ]
    },
    {
     "data": {
      "image/png": "[encoded data removed]",
      "text/plain": [
       "<Figure size 640x480 with 1 Axes>"
      ]
     },
     "metadata": {},
     "output_type": "display_data"
    }
   ],
   "source": [
    "plt.plot(acc_history, label = \"acc\")\n",
    "plt.plot(np.array(loss_history)/np.max(loss_history), label = \"loss\")\n",
    "plt.plot(inv_history, label = \"Inv\")\n",
    "plt.plot(test_acc_history, label = \"val_accuracy\")\n",
    "plt.legend()\n",
    "print(\"\\n\\n\")"
   ]
  },
  {
   "cell_type": "code",
   "execution_count": null,
   "id": "b2843525",
   "metadata": {
    "scrolled": false
   },
   "outputs": [],
   "source": [
    "_, prediction = torch.max(NN(mnist_vector,theta), 0) #\n",
    "for x,y in zip(prediction, trainy[quale]):\n",
    "    print(x,y)"
   ]
  },
  {
   "cell_type": "code",
   "execution_count": null,
   "id": "c8851222",
   "metadata": {},
   "outputs": [],
   "source": [
    "NN(mnist_vector, theta).T[8]"
   ]
  },
  {
   "cell_type": "code",
   "execution_count": null,
   "id": "ac5707a6",
   "metadata": {},
   "outputs": [],
   "source": [
    "NN(mnist_vector_rotated_90, theta).T[8]"
   ]
  },
  {
   "cell_type": "code",
   "execution_count": null,
   "id": "bc542633",
   "metadata": {
    "scrolled": true
   },
   "outputs": [],
   "source": [
    "NN(mnist_vector_rotated_180, theta).T[8]"
   ]
  },
  {
   "cell_type": "code",
   "execution_count": null,
   "id": "022923d5",
   "metadata": {},
   "outputs": [],
   "source": [
    "NN(mnist_vector_rotated_270, theta).T[8]"
   ]
  },
  {
   "cell_type": "code",
   "execution_count": null,
   "id": "ccbb17b8",
   "metadata": {},
   "outputs": [],
   "source": [
    "W1, b1, W2, b2 = deflatten(theta, get_shapes([W1_i, b1_i, W2_i,b2_i]))"
   ]
  },
  {
   "cell_type": "code",
   "execution_count": null,
   "id": "0dbbeb0c",
   "metadata": {},
   "outputs": [],
   "source": [
    "condition = W1.detach().numpy() @ (np.identity(28*28) -  G(28))\n",
    "np.linalg.norm(condition)"
   ]
  },
  {
   "cell_type": "code",
   "execution_count": null,
   "id": "73b800ac",
   "metadata": {},
   "outputs": [],
   "source": [
    "np.linalg.norm(condition @ np.random.randint(0,10,28*28))"
   ]
  },
  {
   "cell_type": "code",
   "execution_count": null,
   "id": "c0dd2b98",
   "metadata": {},
   "outputs": [],
   "source": [
    "np.linalg.norm(condition @ mnist_vector.detach().numpy().T[0])"
   ]
  },
  {
   "cell_type": "code",
   "execution_count": null,
   "id": "3fd4c633",
   "metadata": {},
   "outputs": [],
   "source": [
    "plt.imshow(mnist_vector.detach().numpy().T[0].reshape(28,28))"
   ]
  },
  {
   "cell_type": "code",
   "execution_count": null,
   "id": "9bde331f",
   "metadata": {},
   "outputs": [],
   "source": [
    "np.max(condition)"
   ]
  },
  {
   "cell_type": "code",
   "execution_count": null,
   "id": "b2b85730",
   "metadata": {},
   "outputs": [],
   "source": [
    "(W1.detach().numpy() @ mnist_vector.detach().numpy() )[0]"
   ]
  },
  {
   "cell_type": "code",
   "execution_count": null,
   "id": "d06ca4fe",
   "metadata": {},
   "outputs": [],
   "source": [
    "(W1 @ torch.Tensor(G(28)) @ mnist_vector )[0]"
   ]
  },
  {
   "cell_type": "code",
   "execution_count": null,
   "id": "3d61422c",
   "metadata": {},
   "outputs": [],
   "source": [
    "W1.detach().numpy() @ G(28)"
   ]
  },
  {
   "cell_type": "code",
   "execution_count": null,
   "id": "2c721e1a",
   "metadata": {},
   "outputs": [],
   "source": [
    "W1 @ mnist_vector @ mnist_vector[0]"
   ]
  },
  {
   "cell_type": "code",
   "execution_count": null,
   "id": "e9e59382",
   "metadata": {},
   "outputs": [],
   "source": [
    "W1 @ torch.Tensor(G(28))  @ mnist_vector"
   ]
  },
  {
   "cell_type": "code",
   "execution_count": null,
   "id": "15da0cc0",
   "metadata": {},
   "outputs": [],
   "source": [
    "(torch.Tensor(G(28))  @ mnist_vector.T[0] - mnist_vector_rotated_90[0]).norm()"
   ]
  },
  {
   "cell_type": "code",
   "execution_count": null,
   "id": "e9f1f73f",
   "metadata": {},
   "outputs": [],
   "source": [
    "torch.nn.LeakyReLU()(W1 @ mnist_vector + b1)"
   ]
  },
  {
   "cell_type": "code",
   "execution_count": null,
   "id": "d04c711d",
   "metadata": {},
   "outputs": [],
   "source": [
    "torch.nn.LeakyReLU()(W1 @ mnist_vector_rotated_90 + b1)"
   ]
  },
  {
   "cell_type": "code",
   "execution_count": null,
   "id": "e6416d5f",
   "metadata": {},
   "outputs": [],
   "source": [
    "thet = manifold.projx( theta)\n",
    "W1_p, b1, W2, b2 = deflatten(thet, get_shapes([W1_i, b1_i, W2_i,b2_i]))"
   ]
  },
  {
   "cell_type": "code",
   "execution_count": null,
   "id": "0f1c12ae",
   "metadata": {},
   "outputs": [],
   "source": [
    "np.linalg.norm((W1.detach().numpy() @ (np.identity(28*28) -  G(28))))"
   ]
  },
  {
   "cell_type": "code",
   "execution_count": null,
   "id": "6d24e7a2",
   "metadata": {},
   "outputs": [],
   "source": [
    "np.linalg.norm(W1_p.detach().numpy() @ (np.identity(28*28) -  G(28)))"
   ]
  },
  {
   "cell_type": "code",
   "execution_count": null,
   "id": "ae382004",
   "metadata": {},
   "outputs": [],
   "source": [
    "W1 @ mnist_vector_rotated_180"
   ]
  },
  {
   "cell_type": "code",
   "execution_count": null,
   "id": "5b2ff962",
   "metadata": {},
   "outputs": [],
   "source": [
    "W1 @ mnist_vector_rotated_90"
   ]
  },
  {
   "cell_type": "code",
   "execution_count": null,
   "id": "e5772ee7",
   "metadata": {},
   "outputs": [],
   "source": [
    "W1, b1, W2, b2 = deflatten(thetas, get_shapes([W1_i, b1_i, W2_i,b2_i]))\n",
    "out = W2 @ torch.nn.LeakyReLU()(W1 @ x + b1) + b2"
   ]
  },
  {
   "cell_type": "code",
   "execution_count": null,
   "id": "6c090e38",
   "metadata": {},
   "outputs": [],
   "source": [
    "torch.nn.LeakyReLU()(W1 @ mnist_vector_rotated_90 + b1)"
   ]
  },
  {
   "cell_type": "code",
   "execution_count": null,
   "id": "e3c7e1b6",
   "metadata": {},
   "outputs": [],
   "source": [
    "torch.nn.LeakyReLU()(W1 @ mnist_vector + b1)"
   ]
  },
  {
   "cell_type": "code",
   "execution_count": null,
   "id": "3d770e22",
   "metadata": {},
   "outputs": [],
   "source": []
  },
  {
   "cell_type": "code",
   "execution_count": null,
   "id": "3d48eb61",
   "metadata": {},
   "outputs": [],
   "source": []
  },
  {
   "cell_type": "code",
   "execution_count": null,
   "id": "735507a2",
   "metadata": {},
   "outputs": [],
   "source": []
  },
  {
   "cell_type": "code",
   "execution_count": null,
   "id": "a526a767",
   "metadata": {},
   "outputs": [],
   "source": [
    "W1_p @ mnist_vector"
   ]
  },
  {
   "cell_type": "code",
   "execution_count": null,
   "id": "58ae5802",
   "metadata": {},
   "outputs": [],
   "source": [
    "W1_p @ mnist_vector_rotated_90"
   ]
  }
 ],
 "metadata": {
  "kernelspec": {
   "display_name": "Python 3 (ipykernel)",
   "language": "python",
   "name": "python3"
  },
  "language_info": {
   "codemirror_mode": {
    "name": "ipython",
    "version": 3
   },
   "file_extension": ".py",
   "mimetype": "text/x-python",
   "name": "python",
   "nbconvert_exporter": "python",
   "pygments_lexer": "ipython3",
   "version": "3.9.13"
  }
 },
 "nbformat": 4,
 "nbformat_minor": 5
}
