{
 "cells": [
  {
   "cell_type": "code",
   "execution_count": 1,
   "id": "705e0549",
   "metadata": {},
   "outputs": [],
   "source": [
    "import torch\n",
    "import geoopt\n",
    "from geoopt.optim import RiemannianSGD, RiemannianAdam\n",
    "import matplotlib.pyplot as plt\n",
    "from torchvision.transforms.functional import rotate\n",
    "\n",
    "import numpy as np\n",
    "from torch.func import grad"
   ]
  },
  {
   "cell_type": "code",
   "execution_count": 2,
   "id": "d13bf8da",
   "metadata": {},
   "outputs": [
    {
     "data": {
      "text/plain": [
       "<matplotlib.image.AxesImage at 0x15f8116f610>"
      ]
     },
     "execution_count": 2,
     "metadata": {},
     "output_type": "execute_result"
    },
    {
     "data": {
      "image/png": "[encoded data removed]",
      "text/plain": [
       "<Figure size 640x480 with 1 Axes>"
      ]
     },
     "metadata": {},
     "output_type": "display_data"
    }
   ],
   "source": [
    "plt.imshow(torch.randint(0, 256, (1,28*28)).reshape(28,28))"
   ]
  },
  {
   "cell_type": "code",
   "execution_count": 3,
   "id": "2bd817d2",
   "metadata": {},
   "outputs": [],
   "source": [
    "W1_i = (torch.rand((64,784)).float() - 0.5)*2\n",
    "b1_i = (torch.rand((64,1)).float() - 0.5)*2\n",
    "\n",
    "W2_i = (torch.rand((10,64)).float() - 0.5)*2\n",
    "b2_i = (torch.rand((10,1)).float() - 0.5)*2"
   ]
  },
  {
   "cell_type": "code",
   "execution_count": 4,
   "id": "d9b277c9",
   "metadata": {},
   "outputs": [],
   "source": [
    "mnist_vector = torch.randint(0, 256, (1,28,28)).float()/256\n",
    "mnist_vector_rotated = rotate(img=mnist_vector, angle=90).reshape(784,1)\n",
    "mnist_vector_rotated_180 = rotate(img=mnist_vector, angle=180).reshape(784,1)\n",
    "mnist_vector_rotated_270 = rotate(img=mnist_vector, angle=270).reshape(784,1)\n",
    "mnist_vector = mnist_vector.reshape(784,1)\n",
    "\n",
    "def NN(x, thetas):\n",
    "    W1, b1, W2, b2 = deflatten(thetas, get_shapes([W1_i, b1_i, W2_i,b2_i]))\n",
    "    out = W2 @ torch.nn.LeakyReLU()(W1 @ x + b1) + b2\n",
    "    return out\n",
    "\n",
    "# Funzione che definisce la varietà: sfera unitaria centrata in 0\n",
    "def g(thetas):\n",
    "    NN1 = NN(mnist_vector, thetas)\n",
    "    NN2 = NN(mnist_vector_rotated, thetas)\n",
    "    Delta_NN = NN1 - NN2\n",
    "    norm = Delta_NN.norm()**2\n",
    "    return norm # sfera unitaria\n",
    "\n",
    "# Gradiente di f\n",
    "def dg(thetas):\n",
    "    gradient = grad(g)(thetas)\n",
    "    return gradient #+ 1e-5*(gradient.norm()==0)\n",
    "\n",
    "def flatten(weights_list):\n",
    "    flatten_weights = []\n",
    "    for weight in weights_list:\n",
    "        flatten_weights.append(weight.flatten())\n",
    "        \n",
    "    return np.concatenate(flatten_weights)\n",
    "\n",
    "def deflatten(weights_flat, shapes):\n",
    "    weigths_list = []\n",
    "    shape_counter = 0\n",
    "    for shape in shapes:\n",
    "        weight = torch.Tensor(weights_flat[shape_counter: shape_counter + np.prod(shape)])\n",
    "        shape_counter = shape_counter + np.prod(shape)\n",
    "        \n",
    "        weigths_list.append(weight.reshape(shape))\n",
    "            \n",
    "    return weigths_list\n",
    "\n",
    "def get_shapes(weights_list):\n",
    "    shapes = []\n",
    "    for weight in weights_list:\n",
    "        shapes.append(weight.shape)\n",
    "    return(shapes)\n",
    "\n",
    "# Classe LevelSetManifold già implementata sopra\n",
    "class LevelSetManifold(geoopt.manifolds.Manifold):\n",
    "    \n",
    "    ndim = 1\n",
    "    name = \"Caste\"\n",
    "    \n",
    "    def __init__(self, f, df, lr_proj = 1):\n",
    "        super().__init__()\n",
    "        self.f = f\n",
    "        self.df = df\n",
    "        self.lr_proj = lr_proj\n",
    "\n",
    "    def _check_point_on_manifold(self, x, atol=1e-7, rtol=1e-7):\n",
    "        return torch.abs(self.f(x)) < atol\n",
    "\n",
    "    def _check_vector_on_tangent(self, x, u, atol=1e-7, rtol=1e-7):\n",
    "        grad_f = self.df(x)\n",
    "        return torch.abs(u @ grad_f).sum() < atol\n",
    "    \n",
    "    def projx(self,x):\n",
    "        if self._check_point_on_manifold(x):\n",
    "            return x\n",
    "        for r in range(50):\n",
    "            x = self.single_projx(x)\n",
    "#             print(\"g: \", self.f(x))\n",
    "#             print(\"dg: \", self.df(x).norm())\n",
    "            if r == 49:\n",
    "                print(f\"Retraction applied {r + 1} times\")\n",
    "            if self._check_point_on_manifold(x):\n",
    "                print(f\"Retraction applied {r + 1} times\")\n",
    "                break\n",
    "        return x\n",
    "    \n",
    "    def single_projx(self, x):\n",
    "        grad_f = self.df(x)\n",
    "        f_val = self.f(x)\n",
    "        return x - self.lr_proj*(f_val / grad_f.norm()**2 * grad_f)\n",
    "\n",
    "    def proju(self, x, u):\n",
    "        grad_f = self.df(x)\n",
    "        return u - (u @ grad_f) / grad_f.norm()**2 * grad_f\n",
    "\n",
    "    def inner(self, x, u, v=None):\n",
    "        if v is None:\n",
    "            v = u\n",
    "        return (u * v).sum()\n",
    "\n",
    "    def expmap(self, x, u):\n",
    "        return self.retr(x, u)\n",
    "\n",
    "    def egrad2rgrad(self, x, u):\n",
    "        return self.proju(x, u)\n",
    "\n",
    "    def retr(self, x, u):\n",
    "        x_new = x + u\n",
    "        return self.projx(x_new)\n",
    "\n"
   ]
  },
  {
   "cell_type": "code",
   "execution_count": 5,
   "id": "725c30ea",
   "metadata": {},
   "outputs": [
    {
     "name": "stdout",
     "output_type": "stream",
     "text": [
      "\n",
      "\n",
      "\n",
      "\n",
      "\n",
      "\n",
      "g:  tensor(3063.6797, grad_fn=<PowBackward0>)\n",
      "############ Landing phase #############\n",
      "Retraction applied 19 times\n",
      "0 g:  4.8756493953305835e-08\n",
      "Landed :)\n",
      "\n",
      "\n",
      "\n",
      "############## Training phase ################\n",
      "Retraction applied 17 times\n",
      "Epoch 1 Loss: 39.65838623046875 g(theta): 4e-08\n",
      "Retraction applied 18 times\n",
      "Epoch 2 Loss: 7.024617671966553 g(theta): 6e-08\n",
      "Epoch 3 Loss: 0.0 g(theta): 6e-08\n",
      "Epoch 4 Loss: 0.0 g(theta): 6e-08\n",
      "Epoch 5 Loss: 0.0 g(theta): 6e-08\n",
      "Epoch 6 Loss: 0.0 g(theta): 6e-08\n",
      "Epoch 7 Loss: 0.0 g(theta): 6e-08\n",
      "Epoch 8 Loss: 0.0 g(theta): 6e-08\n",
      "Epoch 9 Loss: 0.0 g(theta): 6e-08\n",
      "Epoch 10 Loss: 0.0 g(theta): 6e-08\n",
      "\n",
      "\n",
      "\n",
      "Punto finale: Parameter on Caste manifold containing:\n",
      "Parameter(ManifoldParameter([-0.8034, -0.1857,  0.1464,  ..., -0.6957,  0.1094,\n",
      "                   -0.3439], requires_grad=True))\n",
      "Appartiene alla varietà? tensor(True)\n"
     ]
    },
    {
     "data": {
      "image/png": "[encoded data removed]",
      "text/plain": [
       "<Figure size 640x480 with 1 Axes>"
      ]
     },
     "metadata": {},
     "output_type": "display_data"
    }
   ],
   "source": [
    "# Creiamo la varietà\n",
    "manifold = LevelSetManifold(g, dg, 1)\n",
    "# Test del parametro manifold\n",
    "\n",
    "theta = flatten([W1_i, b1_i, W2_i, b2_i])\n",
    "theta = geoopt.ManifoldParameter(theta , manifold=manifold)\n",
    "\n",
    "\n",
    "# Proiettiamo il parametro iniziale sulla varietà\n",
    "print(\"\\n\\n\\n\\n\\n\")\n",
    "# print(\"99\", \"Primo theta: \",  theta.data)\n",
    "print(\"g: \", g(theta))\n",
    "print(\"############ Landing phase #############\")\n",
    "for i in range(10):\n",
    "    theta.data = manifold.projx(theta.data)\n",
    "    if i%5 == 0:\n",
    "        print(i, \"g: \", g(theta).item())\n",
    "\n",
    "    if g(theta)< 1e-7:\n",
    "        print(\"Landed :)\")\n",
    "        break\n",
    "        \n",
    "    \n",
    "print(\"\\n\\n\")\n",
    "\n",
    "# Verifica che il parametro iniziale appartenga alla varietà\n",
    "assert manifold._check_point_on_manifold(theta.data), \"Il punto iniziale non è sulla varietà\"\n",
    "\n",
    "# Definiamo una loss function: minimizziamo la norma quadrata\n",
    "def loss_fn(mnist_vector, theta):\n",
    "    return torch.nn.CrossEntropyLoss()(NN(mnist_vector, theta).T, torch.Tensor([2]).long()  )  # Ad esempio, massimizzare la componente x[0]\n",
    "\n",
    "# Ottimizzatore Riemanniano\n",
    "optimizer = RiemannianSGD([theta], lr=0.005)\n",
    "\n",
    "# Ciclo di ottimizzazione\n",
    "g_during_train = []\n",
    "loss_history = []\n",
    "print(\"############## Training phase ################\")\n",
    "for epoch in range(10):\n",
    "    optimizer.zero_grad()\n",
    "    loss = loss_fn(mnist_vector, theta)\n",
    "    loss.backward()\n",
    "    optimizer.step()\n",
    "    if epoch%1 == 0:\n",
    "        print(\"Epoch\",  epoch + 1, \n",
    "              \"Loss:\", loss.item(),\n",
    "#               \"theta:\", theta.data[1].item(),\n",
    "              \"g(theta):\", round(float(g(theta).data.numpy()),8))\n",
    "    loss_history.append(loss.item())\n",
    "    g_during_train.append(g(theta).data.numpy())\n",
    "# plt.plot(g_during_train)\n",
    "plt.plot(loss_history)\n",
    "print(\"\\n\\n\")\n",
    "\n",
    "# Risultato finale\n",
    "print(\"Punto finale:\", theta)\n",
    "print(\"Appartiene alla varietà?\", manifold._check_point_on_manifold(theta))"
   ]
  },
  {
   "cell_type": "code",
   "execution_count": 6,
   "id": "b2843525",
   "metadata": {
    "scrolled": false
   },
   "outputs": [
    {
     "data": {
      "text/plain": [
       "tensor([[ -5.4612],\n",
       "        [ 31.1775],\n",
       "        [ 54.3888],\n",
       "        [-14.6865],\n",
       "        [-16.5829],\n",
       "        [-12.4351],\n",
       "        [-21.4484],\n",
       "        [-31.3337],\n",
       "        [ 11.2241],\n",
       "        [ 24.5159]], grad_fn=<AddBackward0>)"
      ]
     },
     "execution_count": 6,
     "metadata": {},
     "output_type": "execute_result"
    }
   ],
   "source": [
    "# x = torch.randint(0, 256, (1,28,28)).float()\n",
    "# x_90 = rotate(img=x, angle=90).reshape(784,1)\n",
    "# x_180 = rotate(img=x, angle=180).reshape(784,1)\n",
    "# x = x.reshape(784,1)\n",
    "\n",
    "NN(mnist_vector,theta)"
   ]
  },
  {
   "cell_type": "code",
   "execution_count": 7,
   "id": "ac5707a6",
   "metadata": {},
   "outputs": [
    {
     "data": {
      "text/plain": [
       "tensor([[ -5.4611],\n",
       "        [ 31.1775],\n",
       "        [ 54.3888],\n",
       "        [-14.6865],\n",
       "        [-16.5830],\n",
       "        [-12.4351],\n",
       "        [-21.4484],\n",
       "        [-31.3336],\n",
       "        [ 11.2242],\n",
       "        [ 24.5160]], grad_fn=<AddBackward0>)"
      ]
     },
     "execution_count": 7,
     "metadata": {},
     "output_type": "execute_result"
    }
   ],
   "source": [
    "NN(mnist_vector_rotated, theta)"
   ]
  },
  {
   "cell_type": "code",
   "execution_count": 11,
   "id": "bc542633",
   "metadata": {},
   "outputs": [
    {
     "data": {
      "text/plain": [
       "tensor([[-13.0654],\n",
       "        [ 33.4997],\n",
       "        [ 64.7408],\n",
       "        [-30.1263],\n",
       "        [-28.0009],\n",
       "        [-11.3514],\n",
       "        [-25.9165],\n",
       "        [-26.8458],\n",
       "        [ 16.4583],\n",
       "        [ 11.0306]], grad_fn=<AddBackward0>)"
      ]
     },
     "execution_count": 11,
     "metadata": {},
     "output_type": "execute_result"
    }
   ],
   "source": [
    "NN(mnist_vector_rotated_180, theta)"
   ]
  },
  {
   "cell_type": "code",
   "execution_count": 12,
   "id": "022923d5",
   "metadata": {},
   "outputs": [
    {
     "data": {
      "text/plain": [
       "tensor([[ 11.0358],\n",
       "        [ 34.6899],\n",
       "        [ 49.4026],\n",
       "        [-21.6047],\n",
       "        [-25.0090],\n",
       "        [-16.8957],\n",
       "        [-29.1625],\n",
       "        [-62.2878],\n",
       "        [-14.7283],\n",
       "        [ 13.0199]], grad_fn=<AddBackward0>)"
      ]
     },
     "execution_count": 12,
     "metadata": {},
     "output_type": "execute_result"
    }
   ],
   "source": [
    "NN(mnist_vector_rotated_270, theta)"
   ]
  },
  {
   "cell_type": "code",
   "execution_count": 8,
   "id": "3a2de1f2",
   "metadata": {},
   "outputs": [
    {
     "data": {
      "text/plain": [
       "[torch.Size([64, 784]),\n",
       " torch.Size([64, 1]),\n",
       " torch.Size([10, 64]),\n",
       " torch.Size([10, 1])]"
      ]
     },
     "execution_count": 8,
     "metadata": {},
     "output_type": "execute_result"
    }
   ],
   "source": [
    "get_shapes([W1_i, b1_i, W2_i,b2_i])"
   ]
  },
  {
   "cell_type": "code",
   "execution_count": 9,
   "id": "8e886413",
   "metadata": {},
   "outputs": [
    {
     "ename": "NameError",
     "evalue": "name 'x' is not defined",
     "output_type": "error",
     "traceback": [
      "\u001b[1;31m---------------------------------------------------------------------------\u001b[0m",
      "\u001b[1;31mNameError\u001b[0m                                 Traceback (most recent call last)",
      "Input \u001b[1;32mIn [9]\u001b[0m, in \u001b[0;36m<cell line: 2>\u001b[1;34m()\u001b[0m\n\u001b[0;32m      1\u001b[0m W1, b1, W2, b2 \u001b[38;5;241m=\u001b[39m deflatten(theta, get_shapes([W1_i, b1_i, W2_i,b2_i]))\n\u001b[1;32m----> 2\u001b[0m y \u001b[38;5;241m=\u001b[39m \u001b[43mx\u001b[49m\u001b[38;5;241m.\u001b[39mflatten()\n\u001b[0;32m      3\u001b[0m y \u001b[38;5;241m=\u001b[39m y\u001b[38;5;241m.\u001b[39mreshape(\u001b[38;5;241m784\u001b[39m,\u001b[38;5;241m1\u001b[39m)\n\u001b[0;32m      4\u001b[0m \u001b[38;5;28mprint\u001b[39m(y\u001b[38;5;241m.\u001b[39mshape)\n",
      "\u001b[1;31mNameError\u001b[0m: name 'x' is not defined"
     ]
    }
   ],
   "source": [
    "W1, b1, W2, b2 = deflatten(theta, get_shapes([W1_i, b1_i, W2_i,b2_i]))\n",
    "y = x.flatten()\n",
    "y = y.reshape(784,1)\n",
    "print(y.shape)\n",
    "N0 = (W1 @ y + b1)\n",
    "print(N0.shape)\n",
    "N1 =  torch.nn.LeakyReLU()(N0)\n",
    "N2 = W2 @ N1 + b2\n",
    "print(N2.shape)"
   ]
  },
  {
   "cell_type": "code",
   "execution_count": null,
   "id": "a79d1cd1",
   "metadata": {},
   "outputs": [],
   "source": [
    "def NN(x, thetas):\n",
    "    W1, b1, W2, b2 = deflatten(thetas, get_shapes([W1_i, b1_i, W2_i,b2_i]))\n",
    "    out = W2 @ torch.nn.LeakyReLU()(W1 @ x + b1) + b2\n",
    "    return out"
   ]
  }
 ],
 "metadata": {
  "kernelspec": {
   "display_name": "Python 3 (ipykernel)",
   "language": "python",
   "name": "python3"
  },
  "language_info": {
   "codemirror_mode": {
    "name": "ipython",
    "version": 3
   },
   "file_extension": ".py",
   "mimetype": "text/x-python",
   "name": "python",
   "nbconvert_exporter": "python",
   "pygments_lexer": "ipython3",
   "version": "3.9.13"
  }
 },
 "nbformat": 4,
 "nbformat_minor": 5
}
