{
 "cells": [
  {
   "cell_type": "code",
   "execution_count": 1,
   "id": "9b741526",
   "metadata": {},
   "outputs": [],
   "source": [
    "import torch\n",
    "from tensorflow.keras.datasets import mnist\n",
    "from matplotlib import pyplot as plt\n",
    "from torchvision.transforms.functional import rotate\n",
    "from scipy.linalg import lstsq, null_space\n",
    "\n",
    "import matplotlib.pyplot as plt\n",
    "from sklearn.metrics import confusion_matrix, ConfusionMatrixDisplay\n",
    "import numpy as np"
   ]
  },
  {
   "cell_type": "code",
   "execution_count": 2,
   "id": "442116b5",
   "metadata": {},
   "outputs": [],
   "source": [
    "def rot_mat(d): # questa è G\n",
    "    mat = np.zeros(d**4).reshape(d**2,d**2)\n",
    "    for j in range(d):\n",
    "        for i in range(d):\n",
    "            k = (i+1)*d-j\n",
    "            h = i+(j)*d+1\n",
    "#             print(h,k)\n",
    "            mat[h-1][k-1] = 1\n",
    "    return mat\n",
    "\n",
    "def id_minus(mat): # questa è I - G\n",
    "    d = len(mat)\n",
    "    iden = np.identity(d)\n",
    "    \n",
    "    return (iden - mat)\n",
    "\n",
    "def mat_sum(mat,s_d = 4):\n",
    "    n = len(mat)\n",
    "    out = np.zeros(n**2).reshape(n,n)\n",
    "    for j in range(s_d):\n",
    "        out = out + np.linalg.matrix_power(mat, j)\n",
    "    return out\n",
    "\n",
    "def W(output_dim, d = 4):\n",
    "    kernel = null_space(id_minus(rot_mat(d)).T).T\n",
    "    W = []\n",
    "    for j in range(output_dim):\n",
    "        vec = np.zeros(d**2)\n",
    "        for k in kernel:\n",
    "            vec = np.random.random()*k + vec\n",
    "        W.append(list(vec))\n",
    "    W = np.array(W)/len(kernel)\n",
    "    return np.array(W)\n",
    "\n",
    "def W_old(output_dim, mat, s_d=4):\n",
    "    n = len(mat)\n",
    "    positions = mat_sum(mat,s_d = 4)\n",
    "    \n",
    "    W = []\n",
    "    for k in range(output_dim):\n",
    "        vec = np.zeros(n)\n",
    "        for j in positions[0:n//2+1]:\n",
    "            vec = j*np.random.random()/(n/2) + vec\n",
    "        W.append(list(vec))\n",
    "        \n",
    "    return np.array(W)"
   ]
  },
  {
   "cell_type": "code",
   "execution_count": 3,
   "id": "4a876033",
   "metadata": {},
   "outputs": [],
   "source": [
    "def project_grad(loss, rotated_loss, model):\n",
    "    \n",
    "    optimizer.zero_grad()  \n",
    "    loss.backward(retain_graph=True)  \n",
    "\n",
    "    grads1 = {name: param.grad.clone() for name, param in model.named_parameters()}\n",
    "\n",
    "    optimizer.zero_grad()\n",
    "    rotated_loss.backward(retain_graph=True)\n",
    "    grads2 = {name: param.grad.clone() for name, param in model.named_parameters()}\n",
    "\n",
    "    scalars = []\n",
    "    norms = []\n",
    "    with torch.no_grad():\n",
    "        for name, param in model.named_parameters():\n",
    "            if param.grad is not None:\n",
    "                scalars.append(torch.dot(torch.flatten(grads1[name]), torch.flatten(grads2[name])))\n",
    "                norms.append(torch.norm(grads2[name]**2))\n",
    "\n",
    "    scalar = torch.sum(torch.Tensor(scalars))\n",
    "    norm = torch.sum(torch.Tensor(norms))\n",
    "    proj = scalar/norm\n",
    "\n",
    "    with torch.no_grad():\n",
    "        for name, param in model.named_parameters():\n",
    "            if param.grad is not None:\n",
    "                param.grad = grads1[name] - proj*grads2[name]\n",
    "\n"
   ]
  },
  {
   "cell_type": "markdown",
   "id": "4d0a4538",
   "metadata": {},
   "source": [
    "## Load Data"
   ]
  },
  {
   "cell_type": "code",
   "execution_count": 3,
   "id": "bb4c9c13",
   "metadata": {},
   "outputs": [
    {
     "name": "stdout",
     "output_type": "stream",
     "text": [
      "Train: X=(60000, 28, 28), y=(60000,)\n",
      "Test: X=(10000, 28, 28), y=(10000,)\n"
     ]
    },
    {
     "data": {
      "image/png": "[encoded data removed]",
      "text/plain": [
       "<Figure size 640x480 with 9 Axes>"
      ]
     },
     "metadata": {},
     "output_type": "display_data"
    }
   ],
   "source": [
    "# load dataset\n",
    "(trainX, trainy), (testX, testy) = mnist.load_data()\n",
    "# summarize loaded dataset\n",
    "print('Train: X=%s, y=%s' % (trainX.shape, trainy.shape))\n",
    "print('Test: X=%s, y=%s' % (testX.shape, testy.shape))\n",
    "# plot first few images\n",
    "for i in range(9):\n",
    "    # define subplot\n",
    "    plt.subplot(330 + 1 + i)\n",
    "    # plot raw pixel data\n",
    "    plt.imshow(trainX[i], cmap=plt.get_cmap('gray'))\n",
    "# show the figure\n",
    "plt.show()"
   ]
  },
  {
   "cell_type": "markdown",
   "id": "2e555c38",
   "metadata": {},
   "source": [
    "## Define NN"
   ]
  },
  {
   "cell_type": "code",
   "execution_count": 4,
   "id": "1f1d275c",
   "metadata": {},
   "outputs": [
    {
     "name": "stdout",
     "output_type": "stream",
     "text": [
      "Using cuda device\n"
     ]
    }
   ],
   "source": [
    "from torch import nn\n",
    "\n",
    "# Get cpu or gpu device for training.\n",
    "device = \"cuda\"\n",
    "print(f\"Using {device} device\")\n",
    "\n",
    "class InvariantNN(nn.Module):\n",
    "    def __init__(self):\n",
    "        super(InvariantNN, self).__init__()\n",
    "        \n",
    "        self.softmax = nn.Softmax()\n",
    "        \n",
    "        self.flatten = nn.Flatten(start_dim=1)\n",
    "        self.l1 = nn.Linear(28*28, 64)\n",
    "        self.l2 = nn.Linear(64, 64)\n",
    "        self.l3 = nn.Linear(64, 10)\n",
    "        self.relu = nn.ReLU()\n",
    "        \n",
    "        self.loss = nn.CrossEntropyLoss()\n",
    "        \n",
    "    def default_gradient(self, x0, target):\n",
    "        optimizer.zero_grad()\n",
    "        loss = self.loss(self.forward(x0), target)\n",
    "        loss.backward(retain_graph=True)  \n",
    "        grads1 = {name: param.grad.clone() for name, param in self.named_parameters()}\n",
    "        flatten_gradient1 = torch.concatenate([grad.flatten() for grad in grads1.values()])\n",
    "        return grads1, flatten_gradient1\n",
    "    \n",
    "    def invariance_gradient(self, x0, x0_r, target):\n",
    "        optimizer.zero_grad()\n",
    "        invariance_loss = self.loss(self.forward(x0), target) - self.loss(self.forward(x0_r), target)\n",
    "        invariance_loss.backward(retain_graph=True)\n",
    "        grads2 = {name: param.grad.clone() for name, param in self.named_parameters()}\n",
    "        flatten_gradient2 = torch.concatenate([grad.flatten() for grad in grads2.values()])\n",
    "        return grads2, flatten_gradient2\n",
    "\n",
    "    def project_gradient(self, scalar, norm, grads1, grads2):\n",
    "        \n",
    "        with torch.no_grad():\n",
    "            for name, param in self.named_parameters():\n",
    "                if param.grad is not None:\n",
    "                    param.grad = grads1[name] - (scalar/(norm**2))*grads2[name]\n",
    "        return {name: param.grad.clone() for name, param in self.named_parameters()}\n",
    "\n",
    "\n",
    "    def forward(self, x):\n",
    "        x = self.flatten(x)\n",
    "        x = self.l1(x)\n",
    "        x = self.relu(x)\n",
    "        x = self.l2(x)    \n",
    "        x = self.relu(x)\n",
    "        x = self.l3(x)\n",
    "        x = self.relu(x)\n",
    "#         x = self.softmax(x)\n",
    "        return  x\n",
    "    \n",
    "    \n",
    "# print(model)"
   ]
  },
  {
   "cell_type": "code",
   "execution_count": 5,
   "id": "7e40dea9",
   "metadata": {},
   "outputs": [
    {
     "ename": "NameError",
     "evalue": "name 'projected_gradient_flat' is not defined",
     "output_type": "error",
     "traceback": [
      "\u001b[1;31m---------------------------------------------------------------------------\u001b[0m",
      "\u001b[1;31mNameError\u001b[0m                                 Traceback (most recent call last)",
      "Input \u001b[1;32mIn [5]\u001b[0m, in \u001b[0;36m<cell line: 1>\u001b[1;34m()\u001b[0m\n\u001b[1;32m----> 1\u001b[0m torch\u001b[38;5;241m.\u001b[39mnorm(\u001b[43mprojected_gradient_flat\u001b[49m)\n",
      "\u001b[1;31mNameError\u001b[0m: name 'projected_gradient_flat' is not defined"
     ]
    }
   ],
   "source": [
    "torch.norm(projected_gradient_flat)"
   ]
  },
  {
   "cell_type": "code",
   "execution_count": 6,
   "id": "257bd8fd",
   "metadata": {},
   "outputs": [
    {
     "ename": "NameError",
     "evalue": "name 'projected_gradient_flat' is not defined",
     "output_type": "error",
     "traceback": [
      "\u001b[1;31m---------------------------------------------------------------------------\u001b[0m",
      "\u001b[1;31mNameError\u001b[0m                                 Traceback (most recent call last)",
      "Input \u001b[1;32mIn [6]\u001b[0m, in \u001b[0;36m<cell line: 1>\u001b[1;34m()\u001b[0m\n\u001b[1;32m----> 1\u001b[0m torch\u001b[38;5;241m.\u001b[39mdot(\u001b[43mprojected_gradient_flat\u001b[49m, flat_grad2)\u001b[38;5;241m/\u001b[39m(torch\u001b[38;5;241m.\u001b[39mnorm(projected_gradient_flat)\u001b[38;5;241m*\u001b[39m torch\u001b[38;5;241m.\u001b[39mnorm(flat_grad2))\n",
      "\u001b[1;31mNameError\u001b[0m: name 'projected_gradient_flat' is not defined"
     ]
    }
   ],
   "source": [
    "torch.dot(projected_gradient_flat, flat_grad2)/(torch.norm(projected_gradient_flat)* torch.norm(flat_grad2))"
   ]
  },
  {
   "cell_type": "markdown",
   "id": "02f6e570",
   "metadata": {},
   "source": [
    "## Gradient projection train"
   ]
  },
  {
   "cell_type": "code",
   "execution_count": 40,
   "id": "f600514e",
   "metadata": {},
   "outputs": [
    {
     "name": "stdout",
     "output_type": "stream",
     "text": [
      "########### 0 ############\n",
      "Accuracy:  0.11\n",
      "Invariance:  1.0\n",
      "Loss:  2.3366148\n",
      "Invariance_loss:  0.0\n",
      "Difference between predictions:  tensor(3.1117e-05, device='cuda:0', grad_fn=<AddBackward0>)\n",
      "########### 100 ############\n",
      "Accuracy:  0.08\n",
      "Invariance:  0.77\n",
      "Loss:  2.30359\n",
      "Invariance_loss:  0.00082182884\n",
      "Difference between predictions:  tensor(-2477.3079, device='cuda:0', grad_fn=<AddBackward0>)\n",
      "########### 200 ############\n",
      "Accuracy:  0.09\n",
      "Invariance:  0.8\n",
      "Loss:  2.3028846\n",
      "Invariance_loss:  0.00074124336\n",
      "Difference between predictions:  tensor(-2112.4004, device='cuda:0', grad_fn=<AddBackward0>)\n",
      "########### 300 ############\n",
      "Accuracy:  0.09\n",
      "Invariance:  0.81\n",
      "Loss:  2.3023963\n",
      "Invariance_loss:  0.00069737434\n",
      "Difference between predictions:  tensor(-1891.3037, device='cuda:0', grad_fn=<AddBackward0>)\n",
      "########### 400 ############\n",
      "Accuracy:  0.1\n",
      "Invariance:  0.82\n",
      "Loss:  2.30184\n",
      "Invariance_loss:  0.0006611347\n",
      "Difference between predictions:  tensor(-1731.1523, device='cuda:0', grad_fn=<AddBackward0>)\n",
      "########### 500 ############\n",
      "Accuracy:  0.1\n",
      "Invariance:  0.82\n",
      "Loss:  2.3010066\n",
      "Invariance_loss:  0.0005950928\n",
      "Difference between predictions:  tensor(-1641.9393, device='cuda:0', grad_fn=<AddBackward0>)\n",
      "########### 600 ############\n",
      "Accuracy:  0.11\n",
      "Invariance:  0.82\n",
      "Loss:  2.299669\n",
      "Invariance_loss:  0.00044894218\n",
      "Difference between predictions:  tensor(-1672.9109, device='cuda:0', grad_fn=<AddBackward0>)\n",
      "########### 700 ############\n",
      "Accuracy:  0.12\n",
      "Invariance:  0.8\n",
      "Loss:  2.297265\n",
      "Invariance_loss:  0.00012207031\n",
      "Difference between predictions:  tensor(-1931.1913, device='cuda:0', grad_fn=<AddBackward0>)\n",
      "########### 800 ############\n",
      "Accuracy:  0.13\n",
      "Invariance:  0.75\n",
      "Loss:  2.2923584\n",
      "Invariance_loss:  -0.0007531643\n",
      "Difference between predictions:  tensor(-2674.7339, device='cuda:0', grad_fn=<AddBackward0>)\n",
      "########### 900 ############\n",
      "Accuracy:  0.14\n",
      "Invariance:  0.71\n",
      "Loss:  2.2826667\n",
      "Invariance_loss:  -0.003100872\n",
      "Difference between predictions:  tensor(-4390.7158, device='cuda:0', grad_fn=<AddBackward0>)\n"
     ]
    }
   ],
   "source": [
    "model = InvariantNN().to(device)\n",
    "model.l1.weight.data = torch.Tensor(W(64,d = 28)).to(device)\n",
    "optimizer = torch.optim.SGD(model.parameters(), lr=1e-5, momentum=0)\n",
    "\n",
    "x0 = torch.Tensor(trainX).to(device)\n",
    "y0 = torch.Tensor(trainy).to(device)\n",
    "\n",
    "rotated_data_90 = rotate(img = x0, angle = 90)\n",
    "rotated_data_180 = rotate(img = x0, angle = 180)\n",
    "rotated_data_270 = rotate(img = x0, angle = 270)\n",
    "loss_history = []\n",
    "accuracy = []\n",
    "invariance = []\n",
    "loss_r = []\n",
    "\n",
    "for i in range(1000):\n",
    "    \n",
    "    pred1 = model(x0)\n",
    "    pred2 = model(rotated_data_90)\n",
    "    pred3 = model(rotated_data_180)\n",
    "    pred4 = model(rotated_data_270)\n",
    "    \n",
    "    _, arg1 = torch.max(pred1,1)\n",
    "    _, arg2 = torch.max(pred2,1)\n",
    "    _, arg3 = torch.max(pred3,1)\n",
    "    _, arg4 = torch.max(pred4,1)\n",
    "    \n",
    "    \n",
    "    acc = (arg1 == y0.long()).sum().item()/len(x0)\n",
    "    inv_1 = (arg1 == arg2).sum().item()/len(x0)\n",
    "    inv_2 = (arg1 == arg2).sum().item()/len(x0)\n",
    "    inv_3 = (arg1 == arg3).sum().item()/len(x0)\n",
    "    \n",
    "    inv = (inv_1 +inv_2 + inv_3)/3\n",
    "    \n",
    "    loss = model.loss(pred1, y0.long())\n",
    "    rotated_loss = model.loss(pred2, y0.long()) - model.loss(pred1, y0.long())\n",
    "    \n",
    "    if i%100 in np.arange(20):\n",
    "        optimizer.zero_grad()\n",
    "#         inv_loss = (model.loss(pred2, y0.long()) - model.loss(pred1, y0.long()))**2\n",
    "#         inv_loss = (model.loss(pred2, pred1)**2 # - model.loss(pred1, y0.long()))**2\n",
    "        inv_loss = (model.loss(pred2, pred1))**2\n",
    "        inv_loss.backward()\n",
    "    else:\n",
    "        grads1, flat_grad1 = model.default_gradient(x0, y0.long())\n",
    "        grads2, flat_grad2 = model.invariance_gradient(x0, rotated_data_90, y0.long())\n",
    "\n",
    "        scalar = torch.dot(flat_grad1, flat_grad2)\n",
    "        norm = torch.norm(flat_grad2)\n",
    "\n",
    "        projected_gradient = model.project_gradient(scalar, norm, grads1, grads2)\n",
    "        inv_loss = (model.loss(pred2, pred1))**2\n",
    "\n",
    "\n",
    "    if (i%100 == 0):\n",
    "        print(\"###########\", i, \"############\")\n",
    "        print(\"Accuracy: \" , round(acc, 2))\n",
    "        print(\"Invariance: \", round(inv, 2))\n",
    "        print(\"Loss: \" , loss.cpu().detach().numpy())\n",
    "        print(\"Invariance_loss: \" , rotated_loss.cpu().detach().numpy())\n",
    "        print(\"Difference between predictions: \" ,sum(sum(abs(pred1 - pred2))))\n",
    "          \n",
    "    loss_history.append(loss.cpu().detach().numpy())\n",
    "    loss_r.append(rotated_loss.cpu().detach().numpy())\n",
    "    accuracy.append(acc)\n",
    "    invariance.append(inv)\n",
    "    \n",
    "    optimizer.step()"
   ]
  },
  {
   "cell_type": "code",
   "execution_count": 33,
   "id": "e9f991c5",
   "metadata": {},
   "outputs": [
    {
     "data": {
      "image/png": "[encoded data removed]",
      "text/plain": [
       "<Figure size 640x480 with 2 Axes>"
      ]
     },
     "metadata": {},
     "output_type": "display_data"
    }
   ],
   "source": [
    "cm = confusion_matrix(arg1.cpu(), y0.long().cpu())\n",
    "disp = ConfusionMatrixDisplay(confusion_matrix=cm)\n",
    "disp.plot()\n",
    "plt.show()"
   ]
  },
  {
   "cell_type": "code",
   "execution_count": 41,
   "id": "4ccccde6",
   "metadata": {},
   "outputs": [
    {
     "data": {
      "image/png": "[encoded data removed]",
      "text/plain": [
       "<Figure size 640x480 with 2 Axes>"
      ]
     },
     "metadata": {},
     "output_type": "display_data"
    }
   ],
   "source": [
    "rotated_data = rotate(img = x0, angle = 270)\n",
    "\n",
    "pred1 = model(x0)\n",
    "pred2 = model(rotated_data)\n",
    "_, arg1 = torch.max(pred1,1)\n",
    "_, arg2 = torch.max(pred2,1)\n",
    "\n",
    "cm = confusion_matrix(arg1.cpu(), arg2.cpu())\n",
    "disp = ConfusionMatrixDisplay(confusion_matrix=cm)\n",
    "disp.plot()\n",
    "plt.xlabel(\"rotated image\")\n",
    "plt.ylabel(\"default image\")\n",
    "plt.show()"
   ]
  },
  {
   "cell_type": "code",
   "execution_count": 42,
   "id": "4ada8008",
   "metadata": {},
   "outputs": [
    {
     "name": "stderr",
     "output_type": "stream",
     "text": [
      "C:\\Users\\scanu\\AppData\\Local\\Temp\\ipykernel_7468\\2261418131.py:5: UserWarning: Matplotlib is currently using module://matplotlib_inline.backend_inline, which is a non-GUI backend, so cannot show the figure.\n",
      "  f.show()\n",
      "C:\\Users\\scanu\\AppData\\Local\\Temp\\ipykernel_7468\\2261418131.py:10: UserWarning: Matplotlib is currently using module://matplotlib_inline.backend_inline, which is a non-GUI backend, so cannot show the figure.\n",
      "  g.show()\n"
     ]
    },
    {
     "data": {
      "image/png": "[encoded data removed]",
      "text/plain": [
       "<Figure size 640x480 with 1 Axes>"
      ]
     },
     "metadata": {},
     "output_type": "display_data"
    },
    {
     "data": {
      "image/png": "[encoded data removed]",
      "text/plain": [
       "<Figure size 640x480 with 1 Axes>"
      ]
     },
     "metadata": {},
     "output_type": "display_data"
    }
   ],
   "source": [
    "f = plt.figure(1)\n",
    "# plt.plot(loss_history, label = \"loss\")\n",
    "plt.plot(np.abs(loss_r), label = \"invariance_loss\")\n",
    "plt.legend()\n",
    "f.show()\n",
    "g = plt.figure(2)\n",
    "plt.plot(accuracy, label = \"accuracy\")\n",
    "plt.plot(invariance, label = \"invariance\")\n",
    "plt.legend()\n",
    "g.show()"
   ]
  },
  {
   "cell_type": "markdown",
   "id": "8b60c68c",
   "metadata": {},
   "source": [
    "Due obiettivi:\n",
    "* siamo entrati nella manifold (nessuno si è accorto di noi)\n",
    "* "
   ]
  },
  {
   "cell_type": "markdown",
   "id": "c938c96b",
   "metadata": {},
   "source": [
    "## Root finding"
   ]
  },
  {
   "cell_type": "code",
   "execution_count": 238,
   "id": "fc427e1e",
   "metadata": {},
   "outputs": [],
   "source": [
    "from scipy import optimize"
   ]
  },
  {
   "cell_type": "code",
   "execution_count": 5,
   "id": "7aa24158",
   "metadata": {},
   "outputs": [
    {
     "data": {
      "text/plain": [
       "<matplotlib.image.AxesImage at 0x2a04574f4f0>"
      ]
     },
     "execution_count": 5,
     "metadata": {},
     "output_type": "execute_result"
    },
    {
     "data": {
      "image/png": "[encoded data removed]",
      "text/plain": [
       "<Figure size 640x480 with 1 Axes>"
      ]
     },
     "metadata": {},
     "output_type": "display_data"
    }
   ],
   "source": [
    "plt.imshow((x0[0] - rotate(img = x0, angle = 270))[0])"
   ]
  },
  {
   "cell_type": "code",
   "execution_count": 29,
   "id": "cba9f04d",
   "metadata": {},
   "outputs": [
    {
     "data": {
      "text/plain": [
       "<matplotlib.image.AxesImage at 0x2a046c03fd0>"
      ]
     },
     "execution_count": 29,
     "metadata": {},
     "output_type": "execute_result"
    },
    {
     "data": {
      "image/png": "[encoded data removed]",
      "text/plain": [
       "<Figure size 640x480 with 1 Axes>"
      ]
     },
     "metadata": {},
     "output_type": "display_data"
    }
   ],
   "source": [
    "plt.imshow((x0[0] - rotate(img = x0, angle = 45))[0])"
   ]
  },
  {
   "cell_type": "code",
   "execution_count": null,
   "id": "e354e8f1",
   "metadata": {},
   "outputs": [],
   "source": [
    "scipy.linalg.\n",
    "lstsq\n",
    "scipy.linalg.lstsq"
   ]
  },
  {
   "cell_type": "code",
   "execution_count": 29,
   "id": "9b176aa2",
   "metadata": {},
   "outputs": [
    {
     "name": "stdout",
     "output_type": "stream",
     "text": [
      "Kernel della matrice:\n",
      "[-0.89442719  0.4472136 ]\n"
     ]
    }
   ],
   "source": [
    "# Definisci la matrice A\n",
    "A = np.array([[2, 4], [1, 2]])\n",
    "\n",
    "# Calcola il kernel\n",
    "kernel = null_space(A)\n",
    "print(\"Kernel della matrice:\")\n",
    "print(kernel.flatten())\n"
   ]
  },
  {
   "cell_type": "code",
   "execution_count": 81,
   "id": "a5cc46ed",
   "metadata": {},
   "outputs": [],
   "source": [
    "Weights = W(5,rot_mat(28))"
   ]
  },
  {
   "cell_type": "code",
   "execution_count": 82,
   "id": "5263d0f6",
   "metadata": {},
   "outputs": [],
   "source": [
    "image1 = model.flatten(x0[0:1]).detach().numpy()[0]\n",
    "image1_rot = model.flatten(rotate(img = x0[0:1], angle = 90)).detach().numpy()[0]"
   ]
  },
  {
   "cell_type": "code",
   "execution_count": 83,
   "id": "48acff2a",
   "metadata": {},
   "outputs": [],
   "source": [
    "out1 = Weights@image1\n",
    "out2 = Weights@image1_rot"
   ]
  },
  {
   "cell_type": "code",
   "execution_count": 84,
   "id": "068406a7",
   "metadata": {},
   "outputs": [
    {
     "data": {
      "text/plain": [
       "array([858675., 844117., 863484., 805784., 751304.])"
      ]
     },
     "execution_count": 84,
     "metadata": {},
     "output_type": "execute_result"
    }
   ],
   "source": [
    "out1"
   ]
  },
  {
   "cell_type": "code",
   "execution_count": 86,
   "id": "62fdb8a6",
   "metadata": {},
   "outputs": [
    {
     "data": {
      "text/plain": [
       "array([858675., 844117., 863484., 805784., 751304.])"
      ]
     },
     "execution_count": 86,
     "metadata": {},
     "output_type": "execute_result"
    }
   ],
   "source": [
    "out2"
   ]
  },
  {
   "cell_type": "code",
   "execution_count": 85,
   "id": "04198a6d",
   "metadata": {},
   "outputs": [
    {
     "data": {
      "text/plain": [
       "array([0., 0., 0., 0., 0.])"
      ]
     },
     "execution_count": 85,
     "metadata": {},
     "output_type": "execute_result"
    }
   ],
   "source": [
    "out1-out2"
   ]
  },
  {
   "cell_type": "code",
   "execution_count": 15,
   "id": "df8de32f",
   "metadata": {},
   "outputs": [
    {
     "ename": "NameError",
     "evalue": "name 'mat' is not defined",
     "output_type": "error",
     "traceback": [
      "\u001b[1;31m---------------------------------------------------------------------------\u001b[0m",
      "\u001b[1;31mNameError\u001b[0m                                 Traceback (most recent call last)",
      "Input \u001b[1;32mIn [15]\u001b[0m, in \u001b[0;36m<cell line: 2>\u001b[1;34m()\u001b[0m\n\u001b[0;32m      1\u001b[0m x_vec \u001b[38;5;241m=\u001b[39m x\u001b[38;5;241m.\u001b[39mreshape(\u001b[38;5;241m16\u001b[39m)\n\u001b[1;32m----> 2\u001b[0m x_r \u001b[38;5;241m=\u001b[39m \u001b[43mmat\u001b[49m\u001b[38;5;129m@x_vec\u001b[39m\n\u001b[0;32m      3\u001b[0m x_r_img \u001b[38;5;241m=\u001b[39m x_r\u001b[38;5;241m.\u001b[39mreshape(\u001b[38;5;241m4\u001b[39m,\u001b[38;5;241m4\u001b[39m)\n\u001b[0;32m      4\u001b[0m plt\u001b[38;5;241m.\u001b[39mimshow(x_r_img)\n",
      "\u001b[1;31mNameError\u001b[0m: name 'mat' is not defined"
     ]
    }
   ],
   "source": [
    "x_vec = x.reshape(16)\n",
    "x_r = mat@x_vec\n",
    "x_r_img = x_r.reshape(4,4)\n",
    "plt.imshow(x_r_img)"
   ]
  },
  {
   "cell_type": "code",
   "execution_count": null,
   "id": "3f3dcd85",
   "metadata": {},
   "outputs": [],
   "source": []
  },
  {
   "cell_type": "markdown",
   "id": "157fb4c8",
   "metadata": {},
   "source": [
    "## Train"
   ]
  },
  {
   "cell_type": "markdown",
   "id": "5b2fe8d9",
   "metadata": {},
   "source": [
    "# Standard train"
   ]
  },
  {
   "cell_type": "code",
   "execution_count": 18,
   "id": "dd341a61",
   "metadata": {},
   "outputs": [
    {
     "name": "stdout",
     "output_type": "stream",
     "text": [
      "Accuracy:  0.11\n",
      "Invariance:  0.4\n",
      "Loss:  9.002374\n",
      "Accuracy:  0.1\n",
      "Invariance:  0.16\n",
      "Loss:  4.0445075\n",
      "Accuracy:  0.1\n",
      "Invariance:  0.1\n",
      "Loss:  2.7000878\n",
      "Accuracy:  0.13\n",
      "Invariance:  0.13\n",
      "Loss:  2.363183\n",
      "Accuracy:  0.16\n",
      "Invariance:  0.2\n",
      "Loss:  2.2700348\n",
      "Accuracy:  0.18\n",
      "Invariance:  0.27\n",
      "Loss:  2.2112734\n",
      "Accuracy:  0.2\n",
      "Invariance:  0.34\n",
      "Loss:  2.1408384\n",
      "Accuracy:  0.22\n",
      "Invariance:  0.39\n",
      "Loss:  2.081108\n",
      "Accuracy:  0.24\n",
      "Invariance:  0.39\n",
      "Loss:  2.0376077\n",
      "Accuracy:  0.26\n",
      "Invariance:  0.35\n",
      "Loss:  1.986369\n",
      "Accuracy:  0.29\n",
      "Invariance:  0.3\n",
      "Loss:  1.9362472\n",
      "Accuracy:  0.3\n",
      "Invariance:  0.28\n",
      "Loss:  1.896615\n",
      "Accuracy:  0.31\n",
      "Invariance:  0.29\n",
      "Loss:  1.8545204\n",
      "Accuracy:  0.32\n",
      "Invariance:  0.31\n",
      "Loss:  1.8167752\n",
      "Accuracy:  0.33\n",
      "Invariance:  0.32\n",
      "Loss:  1.7863309\n",
      "Accuracy:  0.34\n",
      "Invariance:  0.32\n",
      "Loss:  1.7606807\n",
      "Accuracy:  0.34\n",
      "Invariance:  0.31\n",
      "Loss:  1.7393464\n",
      "Accuracy:  0.35\n",
      "Invariance:  0.31\n",
      "Loss:  1.7207524\n",
      "Accuracy:  0.36\n",
      "Invariance:  0.3\n",
      "Loss:  1.7038072\n",
      "Accuracy:  0.36\n",
      "Invariance:  0.3\n",
      "Loss:  1.6879773\n",
      "Accuracy:  0.37\n",
      "Invariance:  0.29\n",
      "Loss:  1.6725218\n",
      "Accuracy:  0.38\n",
      "Invariance:  0.28\n",
      "Loss:  1.6566521\n",
      "Accuracy:  0.39\n",
      "Invariance:  0.26\n",
      "Loss:  1.6399888\n",
      "Accuracy:  0.4\n",
      "Invariance:  0.25\n",
      "Loss:  1.6221217\n",
      "Accuracy:  0.42\n",
      "Invariance:  0.24\n",
      "Loss:  1.6027071\n",
      "Accuracy:  0.43\n",
      "Invariance:  0.23\n",
      "Loss:  1.581113\n",
      "Accuracy:  0.44\n",
      "Invariance:  0.22\n",
      "Loss:  1.5576714\n",
      "Accuracy:  0.46\n",
      "Invariance:  0.22\n",
      "Loss:  1.532461\n",
      "Accuracy:  0.47\n",
      "Invariance:  0.21\n",
      "Loss:  1.5069504\n",
      "Accuracy:  0.48\n",
      "Invariance:  0.21\n",
      "Loss:  1.48244\n",
      "Accuracy:  0.49\n",
      "Invariance:  0.21\n",
      "Loss:  1.4592942\n",
      "Accuracy:  0.5\n",
      "Invariance:  0.2\n",
      "Loss:  1.4376168\n",
      "Accuracy:  0.5\n",
      "Invariance:  0.19\n",
      "Loss:  1.4176683\n",
      "Accuracy:  0.51\n",
      "Invariance:  0.19\n",
      "Loss:  1.3990164\n",
      "Accuracy:  0.52\n",
      "Invariance:  0.19\n",
      "Loss:  1.3810391\n",
      "Accuracy:  0.52\n",
      "Invariance:  0.18\n",
      "Loss:  1.3639188\n",
      "Accuracy:  0.53\n",
      "Invariance:  0.18\n",
      "Loss:  1.3477905\n",
      "Accuracy:  0.53\n",
      "Invariance:  0.18\n",
      "Loss:  1.33265\n",
      "Accuracy:  0.54\n",
      "Invariance:  0.18\n",
      "Loss:  1.3184124\n",
      "Accuracy:  0.54\n",
      "Invariance:  0.18\n",
      "Loss:  1.305016\n",
      "Accuracy:  0.54\n",
      "Invariance:  0.18\n",
      "Loss:  1.292463\n",
      "Accuracy:  0.55\n",
      "Invariance:  0.17\n",
      "Loss:  1.2806984\n",
      "Accuracy:  0.55\n",
      "Invariance:  0.17\n",
      "Loss:  1.2696418\n",
      "Accuracy:  0.55\n",
      "Invariance:  0.17\n",
      "Loss:  1.2592676\n",
      "Accuracy:  0.56\n",
      "Invariance:  0.17\n",
      "Loss:  1.2495553\n",
      "Accuracy:  0.56\n",
      "Invariance:  0.17\n",
      "Loss:  1.2404333\n",
      "Accuracy:  0.56\n",
      "Invariance:  0.17\n",
      "Loss:  1.2317642\n",
      "Accuracy:  0.57\n",
      "Invariance:  0.17\n",
      "Loss:  1.2234318\n",
      "Accuracy:  0.57\n",
      "Invariance:  0.17\n",
      "Loss:  1.2154596\n",
      "Accuracy:  0.57\n",
      "Invariance:  0.17\n",
      "Loss:  1.2078689\n",
      "Accuracy:  0.57\n",
      "Invariance:  0.17\n",
      "Loss:  1.2006042\n",
      "Accuracy:  0.57\n",
      "Invariance:  0.17\n",
      "Loss:  1.1936488\n",
      "Accuracy:  0.58\n",
      "Invariance:  0.17\n",
      "Loss:  1.186977\n",
      "Accuracy:  0.58\n",
      "Invariance:  0.16\n",
      "Loss:  1.1805836\n",
      "Accuracy:  0.58\n",
      "Invariance:  0.16\n",
      "Loss:  1.1744756\n",
      "Accuracy:  0.58\n",
      "Invariance:  0.16\n",
      "Loss:  1.1685832\n",
      "Accuracy:  0.58\n",
      "Invariance:  0.16\n",
      "Loss:  1.1629136\n",
      "Accuracy:  0.58\n",
      "Invariance:  0.16\n",
      "Loss:  1.1574578\n",
      "Accuracy:  0.59\n",
      "Invariance:  0.16\n",
      "Loss:  1.1521915\n",
      "Accuracy:  0.59\n",
      "Invariance:  0.16\n",
      "Loss:  1.1471058\n",
      "Accuracy:  0.59\n",
      "Invariance:  0.16\n",
      "Loss:  1.1421976\n",
      "Accuracy:  0.59\n",
      "Invariance:  0.16\n",
      "Loss:  1.1374428\n",
      "Accuracy:  0.59\n",
      "Invariance:  0.16\n",
      "Loss:  1.1328629\n",
      "Accuracy:  0.59\n",
      "Invariance:  0.16\n",
      "Loss:  1.1284448\n",
      "Accuracy:  0.59\n",
      "Invariance:  0.16\n",
      "Loss:  1.1241807\n",
      "Accuracy:  0.6\n",
      "Invariance:  0.16\n",
      "Loss:  1.120044\n",
      "Accuracy:  0.6\n",
      "Invariance:  0.16\n",
      "Loss:  1.1160429\n",
      "Accuracy:  0.6\n",
      "Invariance:  0.16\n",
      "Loss:  1.1121674\n",
      "Accuracy:  0.6\n",
      "Invariance:  0.16\n",
      "Loss:  1.1084082\n",
      "Accuracy:  0.6\n",
      "Invariance:  0.16\n",
      "Loss:  1.1047491\n",
      "Accuracy:  0.6\n",
      "Invariance:  0.16\n",
      "Loss:  1.1011866\n",
      "Accuracy:  0.6\n",
      "Invariance:  0.16\n",
      "Loss:  1.0977288\n",
      "Accuracy:  0.6\n",
      "Invariance:  0.16\n",
      "Loss:  1.0943692\n",
      "Accuracy:  0.6\n",
      "Invariance:  0.16\n",
      "Loss:  1.0911032\n",
      "Accuracy:  0.6\n",
      "Invariance:  0.16\n",
      "Loss:  1.0879244\n",
      "Accuracy:  0.61\n",
      "Invariance:  0.16\n",
      "Loss:  1.0848433\n",
      "Accuracy:  0.61\n",
      "Invariance:  0.16\n",
      "Loss:  1.0818458\n",
      "Accuracy:  0.61\n",
      "Invariance:  0.16\n",
      "Loss:  1.0789365\n",
      "Accuracy:  0.61\n",
      "Invariance:  0.16\n",
      "Loss:  1.0761015\n",
      "Accuracy:  0.61\n",
      "Invariance:  0.16\n",
      "Loss:  1.0733389\n"
     ]
    }
   ],
   "source": [
    "model = InvariantNN()\n",
    "# model.l1.weight.data = torch.Tensor(W(64,rot_mat(28)))\n",
    "optimizer = torch.optim.SGD(model.parameters(), lr=1e-4, momentum=0.9)\n",
    "\n",
    "x0 = torch.Tensor(trainX)\n",
    "y0 = torch.Tensor(trainy)\n",
    "\n",
    "rotated_data = rotate(img = x0, angle = 110)\n",
    "loss_history = []\n",
    "accuracy = []\n",
    "\n",
    "for i in range(400):\n",
    "    l_inv = 0\n",
    "    l_acc = 1\n",
    "    optimizer.zero_grad()\n",
    "    \n",
    "    pred1 = model(x0)\n",
    "    pred2 = model(rotated_data)\n",
    "    avg_pred = torch.sum(pred1, axis = 0)/6000\n",
    "    \n",
    "    _, arg1 = torch.max(pred1,1)\n",
    "    _, arg2 = torch.max(pred2,1)\n",
    "    \n",
    "    \n",
    "    acc = (arg1 == y0.long()).sum().item()/len(x0)\n",
    "    inv = (arg1 == arg2).sum().item()/len(x0)   \n",
    "    \n",
    "    loss = loss_CE(pred1, y0.long()) #- 0.001*loss_CE( avg_pred , uniform_dist )\n",
    "    \n",
    "    \n",
    "    if i%5 == 1:\n",
    "        print(\"Accuracy: \" , round(acc, 2))\n",
    "        print(\"Invariance: \", round(inv, 2))\n",
    "        print(\"Loss: \" , loss.detach().numpy())\n",
    "          \n",
    "    loss_history.append(loss.detach().numpy())\n",
    "    accuracy.append(acc)\n",
    "    \n",
    "    loss.backward()\n",
    "    optimizer.step()"
   ]
  },
  {
   "cell_type": "code",
   "execution_count": 38,
   "id": "d2a61382",
   "metadata": {},
   "outputs": [
    {
     "name": "stdout",
     "output_type": "stream",
     "text": [
      "Accuracy:  0.12263\n",
      "Invariance:  1.0\n",
      "Loss:  5.6825933\n"
     ]
    },
    {
     "data": {
      "image/png": "[encoded data removed]",
      "text/plain": [
       "<Figure size 640x480 with 2 Axes>"
      ]
     },
     "metadata": {},
     "output_type": "display_data"
    }
   ],
   "source": [
    "model = InvariantNN()\n",
    "model.l1.weight.data = torch.Tensor(W(64,28))\n",
    "\n",
    "x0 = torch.Tensor(trainX)\n",
    "y0 = torch.Tensor(trainy)\n",
    "\n",
    "rotated_data = rotate(img = x0, angle = 270)\n",
    "\n",
    "pred1 = model(x0)\n",
    "pred2 = model(rotated_data)\n",
    "avg_pred = torch.sum(pred1, axis = 0)/6000\n",
    "\n",
    "_, arg1 = torch.max(pred1,1)\n",
    "_, arg2 = torch.max(pred2,1)\n",
    "\n",
    "acc = (arg1 == y0.long()).sum().item()/len(x0)\n",
    "inv = (arg1 == arg2).sum().item()/len(x0) \n",
    "loss = loss_CE(pred1, pred2) + loss_CE(pred1, y0.long()) #- 0.001*loss_CE( avg_pred , uniform_dist )\n",
    "\n",
    "print(\"Accuracy: \" , round(acc, 5))\n",
    "print(\"Invariance: \", round(inv, 9))\n",
    "print(\"Loss: \" , loss.detach().numpy())\n",
    "\n",
    "cm = confusion_matrix(arg1, arg2)\n",
    "disp = ConfusionMatrixDisplay(confusion_matrix=cm)\n",
    "disp.plot()\n",
    "plt.show()"
   ]
  },
  {
   "cell_type": "code",
   "execution_count": null,
   "id": "e3c2ffb8",
   "metadata": {},
   "outputs": [],
   "source": []
  },
  {
   "cell_type": "code",
   "execution_count": null,
   "id": "e4627a21",
   "metadata": {},
   "outputs": [],
   "source": [
    "import torch\n",
    "import torch.nn as nn\n",
    "import torch.optim as optim\n",
    "\n",
    "# Definizione di una rete neurale di esempio\n",
    "class SimpleNN(nn.Module):\n",
    "    def __init__(self):\n",
    "        super(SimpleNN, self).__init__()\n",
    "        self.linear1 = nn.Linear(10, 5)\n",
    "        self.linear2 = nn.Linear(5, 1)\n",
    "    \n",
    "    def forward(self, x):\n",
    "        x = torch.relu(self.linear1(x))\n",
    "        return self.linear2(x)\n",
    "\n",
    "# Funzione per concatenare i gradienti di tutti i parametri in un unico vettore\n",
    "def get_concatenated_gradients(grad_dict):\n",
    "    return torch.cat([g.flatten() for g in grad_dict.values() if g is not None])\n",
    "\n",
    "# Funzione per ricostruire i gradienti dai vettori concatenati\n",
    "def set_gradients_from_vector(model, grad_vector, grad_dict):\n",
    "    offset = 0\n",
    "    for name, param in model.named_parameters():\n",
    "        if grad_dict[name] is not None:\n",
    "            grad_shape = grad_dict[name].shape\n",
    "            grad_size = grad_dict[name].numel()\n",
    "            param.grad = grad_vector[offset:offset + grad_size].view(grad_shape)\n",
    "            offset += grad_size\n",
    "\n",
    "# Inizializziamo il modello e l'ottimizzatore\n",
    "model = SimpleNN()\n",
    "optimizer = optim.SGD(model.parameters(), lr=0.01)\n",
    "\n",
    "# Creiamo due insiemi di input differenti\n",
    "x1 = torch.randn(3, 10)\n",
    "x2 = torch.randn(3, 10)\n",
    "\n",
    "# Creiamo dei target casuali per calcolare la loss\n",
    "target1 = torch.randn(3, 1)\n",
    "target2 = torch.randn(3, 1)\n",
    "\n",
    "# STEP 1: Calcolo dei gradienti rispetto ai pesi per il primo input `x1`\n",
    "output1 = model(x1)\n",
    "loss1 = nn.functional.mse_loss(output1, target1)\n",
    "optimizer.zero_grad()\n",
    "loss1.backward(retain_graph=True)\n",
    "grads1 = {name: param.grad.clone() for name, param in model.named_parameters()}\n",
    "\n",
    "# STEP 2: Calcolo dei gradienti rispetto ai pesi per il secondo input `x2`\n",
    "output2 = model(x2)\n",
    "loss2 = nn.functional.mse_loss(output2, target2)\n",
    "optimizer.zero_grad()\n",
    "loss2.backward()\n",
    "grads2 = {name: param.grad.clone() for name, param in model.named_parameters()}\n",
    "\n",
    "# Concateniamo i gradienti in un unico vettore\n",
    "grad1_vec = get_concatenated_gradients(grads1)\n",
    "grad2_vec = get_concatenated_gradients(grads2)\n",
    "\n",
    "# STEP 3: Calcolo della componente ortogonale di `grad1_vec` rispetto a `grad2_vec`\n",
    "with torch.no_grad():\n",
    "    dot_product = torch.dot(grad1_vec, grad2_vec)\n",
    "    norm_grad2_sq = torch.norm(grad2_vec) ** 2\n",
    "\n",
    "    # Evitiamo la divisione per zero\n",
    "    if norm_grad2_sq > 0:\n",
    "        # Calcoliamo la proiezione di `grad1_vec` su `grad2_vec`\n",
    "        projection = (dot_product / norm_grad2_sq) * grad2_vec\n",
    "        # Calcoliamo la componente ortogonale\n",
    "        ortho_component = grad1_vec - projection\n",
    "    else:\n",
    "        ortho_component = grad1_vec\n",
    "\n",
    "    # Ricostruiamo i gradienti nel modello usando la componente ortogonale\n",
    "    set_gradients_from_vector(model, ortho_component, grads1)\n",
    "\n",
    "# STEP 4: Eseguiamo l'aggiornamento dei pesi usando la componente ortogonale\n",
    "optimizer.step()\n",
    "\n",
    "# Stampa dei pesi aggiornati (opzionale)\n",
    "print(\"Pesi aggiornati:\")\n",
    "for name, param in model.named_parameters():\n",
    "    print(f\"{name}: {param.data}\")\n"
   ]
  }
 ],
 "metadata": {
  "kernelspec": {
   "display_name": "Python 3 (ipykernel)",
   "language": "python",
   "name": "python3"
  },
  "language_info": {
   "codemirror_mode": {
    "name": "ipython",
    "version": 3
   },
   "file_extension": ".py",
   "mimetype": "text/x-python",
   "name": "python",
   "nbconvert_exporter": "python",
   "pygments_lexer": "ipython3",
   "version": "3.9.13"
  }
 },
 "nbformat": 4,
 "nbformat_minor": 5
}
