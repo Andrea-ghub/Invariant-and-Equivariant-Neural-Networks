{
 "cells": [
  {
   "cell_type": "code",
   "execution_count": 1,
   "id": "705e0549",
   "metadata": {},
   "outputs": [],
   "source": [
    "import torch\n",
    "import geoopt\n",
    "from geoopt.optim import RiemannianSGD, RiemannianAdam\n",
    "from tensorflow.keras.datasets import mnist\n",
    "import matplotlib.pyplot as plt\n",
    "from torchvision.transforms.functional import rotate\n",
    "\n",
    "import numpy as np\n",
    "from torch.func import grad\n",
    "from scipy.linalg import lstsq, null_space"
   ]
  },
  {
   "cell_type": "code",
   "execution_count": 2,
   "id": "9ebcac26",
   "metadata": {},
   "outputs": [],
   "source": [
    "## Questo è il notebook dove facciamo le cose sul primo layer"
   ]
  },
  {
   "cell_type": "markdown",
   "id": "952f95bf",
   "metadata": {},
   "source": [
    "TODO:\n",
    "* controllare se comb lin di vettori del kernel è in media sempre lo stesso vettore"
   ]
  },
  {
   "cell_type": "code",
   "execution_count": 3,
   "id": "d13bf8da",
   "metadata": {},
   "outputs": [
    {
     "name": "stdout",
     "output_type": "stream",
     "text": [
      "Train: X=(60000, 28, 28), y=(60000,)\n",
      "Test: X=(10000, 28, 28), y=(10000,)\n"
     ]
    },
    {
     "data": {
      "image/png": "[encoded data removed]",
      "text/plain": [
       "<Figure size 640x480 with 9 Axes>"
      ]
     },
     "metadata": {},
     "output_type": "display_data"
    }
   ],
   "source": [
    "# load dataset\n",
    "(trainX, trainy), (testX, testy) = mnist.load_data()\n",
    "trainX = trainX/255\n",
    "# summarize loaded dataset\n",
    "print('Train: X=%s, y=%s' % (trainX.shape, trainy.shape))\n",
    "print('Test: X=%s, y=%s' % (testX.shape, testy.shape))\n",
    "# plot first few images\n",
    "for i in range(9):\n",
    "    # define subplot\n",
    "    plt.subplot(330 + 1 + i)\n",
    "    # plot raw pixel data\n",
    "    plt.imshow(trainX[i], cmap=plt.get_cmap('gray'))\n",
    "# show the figure\n",
    "plt.show()"
   ]
  },
  {
   "cell_type": "code",
   "execution_count": 39,
   "id": "18cc89d7",
   "metadata": {},
   "outputs": [],
   "source": [
    "def G(d): # questa è  rot_mat\n",
    "    mat = np.zeros(d**4).reshape(d**2,d**2)\n",
    "    for j in range(d):\n",
    "        for i in range(d):\n",
    "            k = (i+1)*d-j\n",
    "            h = i+(j)*d+1\n",
    "\n",
    "            mat[h-1][k-1] = 1\n",
    "    return mat\n",
    "\n",
    "def W(output_dim, d = 4):\n",
    "    kernel = null_space((np.identity(d*d) -  G(d)).T).T\n",
    "    W = []\n",
    "    for j in range(output_dim):\n",
    "        vec = np.zeros(d**2)\n",
    "        for k in kernel:\n",
    "            vec = (np.random.random()-0.5)*2*k + vec # kernel[j]\n",
    "        W.append(list(vec/np.linalg.norm(vec)))\n",
    "    W = np.array(W)\n",
    "    return np.array(W)"
   ]
  },
  {
   "cell_type": "code",
   "execution_count": 40,
   "id": "d5926d61",
   "metadata": {},
   "outputs": [],
   "source": [
    "def NN(x, thetas):\n",
    "    W1, b1, W2, b2 = deflatten(thetas, get_shapes([W1_i, b1_i, W2_i,b2_i]))\n",
    "    out = W2 @ torch.nn.LeakyReLU()(W1 @ x + b1) + b2\n",
    "    return out"
   ]
  },
  {
   "cell_type": "code",
   "execution_count": 41,
   "id": "d9b277c9",
   "metadata": {},
   "outputs": [],
   "source": [
    "# Funzione che definisce la varietà: sfera unitaria centrata in 0\n",
    "def g(thetas):\n",
    "    W1, b1, W2, b2 = deflatten(thetas, get_shapes([W1_i, b1_i, W2_i,b2_i]))\n",
    "    d = int(np.sqrt(W1.shape[1]))\n",
    "    ker_equation = torch.Tensor(W1) @ (torch.eye(d*d) -  torch.Tensor(G(d)))\n",
    "    \n",
    "    norm = (ker_equation.norm())**2\n",
    "    return norm # sfera unitaria\n",
    "\n",
    "# Gradiente di f\n",
    "def dg(thetas):\n",
    "    gradient = grad(g)(thetas)\n",
    "    return gradient #+ 1e-5*(gradient.norm()==0)\n",
    "\n",
    "def flatten(weights_list):\n",
    "    flatten_weights = []\n",
    "    for weight in weights_list:\n",
    "        flatten_weights.append(weight.flatten())\n",
    "        \n",
    "    return np.concatenate(flatten_weights)\n",
    "\n",
    "def deflatten(weights_flat, shapes):\n",
    "    weigths_list = []\n",
    "    shape_counter = 0\n",
    "    for shape in shapes:\n",
    "        weight = torch.Tensor(weights_flat[shape_counter: shape_counter + np.prod(shape)])\n",
    "        shape_counter = shape_counter + np.prod(shape)\n",
    "        \n",
    "        weigths_list.append(weight.reshape(shape))\n",
    "            \n",
    "    return weigths_list\n",
    "\n",
    "def get_shapes(weights_list):\n",
    "    shapes = []\n",
    "    for weight in weights_list:\n",
    "        shapes.append(weight.shape)\n",
    "    return(shapes)\n",
    "\n",
    "# Classe LevelSetManifold già implementata sopra\n",
    "class LevelSetManifold(geoopt.manifolds.Manifold):\n",
    "    \n",
    "    ndim = 1\n",
    "    name = \"Caste\"\n",
    "    \n",
    "    def __init__(self, f, df, lr_proj = 1):\n",
    "        super().__init__()\n",
    "        self.f = f\n",
    "        self.df = df\n",
    "        self.lr_proj = lr_proj\n",
    "\n",
    "    def _check_point_on_manifold(self, x, atol=1e-8, rtol=1e-8):\n",
    "        return torch.abs(self.f(x)) < atol\n",
    "\n",
    "    def _check_vector_on_tangent(self, x, u, atol=1e-8, rtol=1e-8):\n",
    "        grad_f = self.df(x)\n",
    "        return torch.abs(u @ grad_f).sum() < atol\n",
    "    \n",
    "    def projx(self,x):\n",
    "        if self._check_point_on_manifold(x):\n",
    "            return x\n",
    "        for r in range(100):\n",
    "            x = self.single_projx(x)\n",
    "#             print(\"g: \", self.f(x))\n",
    "#             print(\"dg: \", self.df(x).norm())\n",
    "            if r == 99:\n",
    "                print(f\"Retraction applied {r + 1} times\")\n",
    "            if self._check_point_on_manifold(x):\n",
    "#                 print(f\"Retraction applied {r + 1} times\")\n",
    "                break\n",
    "        return x\n",
    "    \n",
    "    def single_projx(self, x):\n",
    "        grad_f = self.df(x)\n",
    "        f_val = self.f(x)\n",
    "        return x - self.lr_proj*(f_val / grad_f.norm()**2 * grad_f)\n",
    "\n",
    "    def proju(self, x, u):\n",
    "        grad_f = self.df(x)\n",
    "        return u - (u @ grad_f) / grad_f.norm()**2 * grad_f\n",
    "\n",
    "    def inner(self, x, u, v=None):\n",
    "        if v is None:\n",
    "            v = u\n",
    "        return (u * v).sum()\n",
    "\n",
    "    def expmap(self, x, u):\n",
    "        return self.retr(x, u)\n",
    "\n",
    "    def egrad2rgrad(self, x, u):\n",
    "        return self.proju(x, u)\n",
    "\n",
    "    def retr(self, x, u):\n",
    "        x_new = x + u\n",
    "        return self.projx(x_new)\n",
    "\n"
   ]
  },
  {
   "cell_type": "code",
   "execution_count": 70,
   "id": "3cde28a2",
   "metadata": {},
   "outputs": [],
   "source": [
    "quale = [100, 800] #range(100)\n",
    "\n",
    "mnist_vector = torch.Tensor(trainX) #torch.randint(0, 256, (1,28,28)).float()/256\n",
    "mnist_vector_rotated_90 = rotate(img=mnist_vector, angle=90)[quale].reshape(784,len(quale))\n",
    "mnist_vector_rotated_180 = rotate(img=mnist_vector, angle=180)[quale].reshape(784,len(quale))\n",
    "mnist_vector_rotated_270 = rotate(img=mnist_vector, angle=270)[quale].reshape(784,len(quale))\n",
    "mnist_vector = mnist_vector[quale].reshape(784,len(quale))"
   ]
  },
  {
   "cell_type": "code",
   "execution_count": 71,
   "id": "f24e22e0",
   "metadata": {},
   "outputs": [],
   "source": [
    "W1_i = (torch.rand((64,784)).float() - 0.5)*2 # W(64, d = 28) \n",
    "b1_i = (torch.rand((64,1)).float() - 0.5)*2\n",
    "\n",
    "W2_i = (torch.rand((10,64)).float() - 0.5)*2\n",
    "b2_i = (torch.rand((10,1)).float() - 0.5)*2"
   ]
  },
  {
   "cell_type": "code",
   "execution_count": 72,
   "id": "aaed2286",
   "metadata": {},
   "outputs": [
    {
     "data": {
      "text/plain": [
       "tensor(33445.0977, grad_fn=<PowBackward0>)"
      ]
     },
     "execution_count": 72,
     "metadata": {},
     "output_type": "execute_result"
    }
   ],
   "source": [
    "# Creiamo la varietà\n",
    "manifold = LevelSetManifold(g, dg, 1)\n",
    "# Test del parametro manifold\n",
    "\n",
    "theta = flatten([W1_i, b1_i, W2_i, b2_i])\n",
    "theta = geoopt.ManifoldParameter(theta , manifold=manifold)\n",
    "g(theta)"
   ]
  },
  {
   "cell_type": "code",
   "execution_count": 49,
   "id": "35913e15",
   "metadata": {},
   "outputs": [
    {
     "data": {
      "text/plain": [
       "tensor(634.4689, grad_fn=<LinalgVectorNormBackward0>)"
      ]
     },
     "execution_count": 49,
     "metadata": {},
     "output_type": "execute_result"
    }
   ],
   "source": [
    "torch.norm(dg(theta))"
   ]
  },
  {
   "cell_type": "code",
   "execution_count": 73,
   "id": "725c30ea",
   "metadata": {},
   "outputs": [
    {
     "name": "stdout",
     "output_type": "stream",
     "text": [
      "\n",
      "\n",
      "\n",
      "############## Training phase ################\n",
      "Epoch 1 \n",
      " Loss: 43.62450408935547 \n",
      " Acc: 0.0 \n",
      " g(theta): 9.794324e-09 \n",
      " Invariance:  0.3333333333333333 \n",
      "\n",
      "Epoch 51 \n",
      " Loss: 13.633121490478516 \n",
      " Acc: 0.5 \n",
      " g(theta): 6.715634e-09 \n",
      " Invariance:  0.3333333333333333 \n",
      "\n",
      "Epoch 101 \n",
      " Loss: 8.819049835205078 \n",
      " Acc: 0.5 \n",
      " g(theta): 3.324679e-09 \n",
      " Invariance:  0.5 \n",
      "\n",
      "Epoch 151 \n",
      " Loss: 4.993361473083496 \n",
      " Acc: 0.5 \n",
      " g(theta): 3.113052e-09 \n",
      " Invariance:  0.3333333333333333 \n",
      "\n",
      "Epoch 201 \n",
      " Loss: 1.4847394227981567 \n",
      " Acc: 0.5 \n",
      " g(theta): 9.974335e-09 \n",
      " Invariance:  0.3333333333333333 \n",
      "\n",
      "Epoch 251 \n",
      " Loss: 0.18388491868972778 \n",
      " Acc: 1.0 \n",
      " g(theta): 2.871961e-09 \n",
      " Invariance:  0.16666666666666666 \n",
      "\n",
      "Epoch 301 \n",
      " Loss: 0.08484531939029694 \n",
      " Acc: 1.0 \n",
      " g(theta): 8.242925e-09 \n",
      " Invariance:  0.3333333333333333 \n",
      "\n",
      "Epoch 351 \n",
      " Loss: 0.056067608296871185 \n",
      " Acc: 1.0 \n",
      " g(theta): 5.770167e-09 \n",
      " Invariance:  0.3333333333333333 \n",
      "\n",
      "\n",
      "\n",
      "\n",
      "Punto finale: Parameter on Caste manifold containing:\n",
      "Parameter(ManifoldParameter([-0.2236,  0.3713, -0.0813,  ..., -0.5281,  0.7129,\n",
      "                    0.6146], requires_grad=True))\n",
      "Appartiene alla varietà? tensor(True)\n"
     ]
    },
    {
     "data": {
      "image/png": "[encoded data removed]",
      "text/plain": [
       "<Figure size 640x480 with 1 Axes>"
      ]
     },
     "metadata": {},
     "output_type": "display_data"
    }
   ],
   "source": [
    "print(\"\\n\\n\")\n",
    "\n",
    "# # Verifica che il parametro iniziale appartenga alla varietà\n",
    "# assert manifold._check_point_on_manifold(theta.data), \"Il punto iniziale non è sulla varietà\"\n",
    "\n",
    "def loss_fn(mnist_vector, theta):\n",
    "    return torch.nn.CrossEntropyLoss()(NN(mnist_vector, theta).T, torch.Tensor(trainy[quale]).long())\n",
    "\n",
    "# Ottimizzatore Riemanniano\n",
    "optimizer = RiemannianSGD([theta], lr=0.00025)\n",
    "\n",
    "# Ciclo di ottimizzazione\n",
    "g_during_train = []\n",
    "loss_history = []\n",
    "acc_history = []\n",
    "inv_history = []\n",
    "print(\"############## Training phase ################\")\n",
    "for epoch in range(400):\n",
    "    outputs = NN(mnist_vector,theta)\n",
    "    _, predicted = torch.max(outputs.data, 0)\n",
    "    correct = (predicted == torch.Tensor(trainy[quale])).sum().item()\n",
    "    \n",
    "    _, pred_90 = torch.max(NN(mnist_vector_rotated_90, theta), 0)\n",
    "    _, pred_180 = torch.max(NN(mnist_vector_rotated_180, theta), 0)\n",
    "    _, pred_270 = torch.max(NN(mnist_vector_rotated_270, theta), 0)\n",
    "    \n",
    "    inv1 = (predicted == pred_90).sum().item()\n",
    "    inv2 = (predicted == pred_180).sum().item()\n",
    "    inv3 = (predicted == pred_270).sum().item()\n",
    "    \n",
    "    inv = (inv1 + inv2 + inv3)/(3*len(quale))\n",
    "    \n",
    "    acc = correct/len(quale)\n",
    "    optimizer.zero_grad()\n",
    "    loss = loss_fn(mnist_vector, theta)\n",
    "    loss.backward()\n",
    "    optimizer.step()\n",
    "    if epoch%50 == 0:\n",
    "        print(\"Epoch\",  epoch + 1, \"\\n\",\n",
    "              \"Loss:\", loss.item(), \"\\n\",\n",
    "              \"Acc:\", acc, \"\\n\",\n",
    "              \"g(theta):\", round(float(g(theta).data.numpy()),15), \"\\n\",\n",
    "              \"Invariance: \", inv, \"\\n\",)\n",
    "    loss_history.append(loss.item())\n",
    "    g_during_train.append(g(theta).data.numpy())\n",
    "    acc_history.append(acc)\n",
    "    inv_history.append(inv)\n",
    "    \n",
    "# plt.plot(g_during_train)\n",
    "plt.plot(acc_history)\n",
    "plt.plot(np.array(loss_history)/np.max(loss_history))\n",
    "plt.plot(inv_history)\n",
    "print(\"\\n\\n\")\n",
    "\n",
    "# Risultato finale\n",
    "print(\"Punto finale:\", theta)\n",
    "print(\"Appartiene alla varietà?\", manifold._check_point_on_manifold(theta))"
   ]
  },
  {
   "cell_type": "code",
   "execution_count": null,
   "id": "b2843525",
   "metadata": {
    "scrolled": false
   },
   "outputs": [],
   "source": [
    "# for x,y in zip(NN(mnist_vector,theta).T, trainy[quale]):\n",
    "#     print(x,y)"
   ]
  },
  {
   "cell_type": "code",
   "execution_count": 74,
   "id": "c8851222",
   "metadata": {},
   "outputs": [
    {
     "data": {
      "text/plain": [
       "tensor([ -1.3269, -16.5082,   1.0430,   7.5066,   5.2907,  13.1280,   9.6308,\n",
       "        -12.5706,   2.1441,   5.8469], grad_fn=<SelectBackward0>)"
      ]
     },
     "execution_count": 74,
     "metadata": {},
     "output_type": "execute_result"
    }
   ],
   "source": [
    "NN(mnist_vector, theta).T[0]"
   ]
  },
  {
   "cell_type": "code",
   "execution_count": 75,
   "id": "ac5707a6",
   "metadata": {},
   "outputs": [
    {
     "data": {
      "text/plain": [
       "tensor([  5.7979, -14.6987,  -0.2277,   5.5278,   8.2759,  12.5078,   5.5245,\n",
       "        -13.3641,   1.6681,   8.5792], grad_fn=<SelectBackward0>)"
      ]
     },
     "execution_count": 75,
     "metadata": {},
     "output_type": "execute_result"
    }
   ],
   "source": [
    "NN(mnist_vector_rotated_90, theta).T[0]"
   ]
  },
  {
   "cell_type": "code",
   "execution_count": 76,
   "id": "bc542633",
   "metadata": {},
   "outputs": [
    {
     "data": {
      "text/plain": [
       "tensor([  1.1453, -16.6811,   1.1177,  11.9051,  13.2283,   8.1097,   0.1399,\n",
       "         -7.2260,   3.3920,  11.2632], grad_fn=<SelectBackward0>)"
      ]
     },
     "execution_count": 76,
     "metadata": {},
     "output_type": "execute_result"
    }
   ],
   "source": [
    "NN(mnist_vector_rotated_180, theta).T[0]"
   ]
  },
  {
   "cell_type": "code",
   "execution_count": 77,
   "id": "022923d5",
   "metadata": {},
   "outputs": [
    {
     "data": {
      "text/plain": [
       "tensor([  8.0693, -19.3953,   2.6905,   5.6560,   7.2325,   8.5467,   1.4345,\n",
       "        -16.2141,  21.8667,   7.6937], grad_fn=<SelectBackward0>)"
      ]
     },
     "execution_count": 77,
     "metadata": {},
     "output_type": "execute_result"
    }
   ],
   "source": [
    "NN(mnist_vector_rotated_270, theta).T[0]"
   ]
  },
  {
   "cell_type": "code",
   "execution_count": null,
   "id": "ccbb17b8",
   "metadata": {},
   "outputs": [],
   "source": []
  }
 ],
 "metadata": {
  "kernelspec": {
   "display_name": "Python 3 (ipykernel)",
   "language": "python",
   "name": "python3"
  },
  "language_info": {
   "codemirror_mode": {
    "name": "ipython",
    "version": 3
   },
   "file_extension": ".py",
   "mimetype": "text/x-python",
   "name": "python",
   "nbconvert_exporter": "python",
   "pygments_lexer": "ipython3",
   "version": "3.9.13"
  }
 },
 "nbformat": 4,
 "nbformat_minor": 5
}
