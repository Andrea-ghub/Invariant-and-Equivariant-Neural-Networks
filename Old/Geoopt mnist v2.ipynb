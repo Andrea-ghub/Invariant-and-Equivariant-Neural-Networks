{
 "cells": [
  {
   "cell_type": "code",
   "execution_count": 1,
   "id": "705e0549",
   "metadata": {},
   "outputs": [],
   "source": [
    "import torch\n",
    "import geoopt\n",
    "from geoopt.optim import RiemannianSGD, RiemannianAdam\n",
    "from tensorflow.keras.datasets import mnist\n",
    "import matplotlib.pyplot as plt\n",
    "from torchvision.transforms.functional import rotate\n",
    "\n",
    "import numpy as np\n",
    "from torch.func import grad\n",
    "from scipy.linalg import lstsq, null_space"
   ]
  },
  {
   "cell_type": "code",
   "execution_count": 2,
   "id": "44fdfc25",
   "metadata": {},
   "outputs": [],
   "source": [
    "## Questo è il notebook dove facciamo le cose sul primo layer"
   ]
  },
  {
   "cell_type": "markdown",
   "id": "23a7d63f",
   "metadata": {},
   "source": [
    "TODO:\n",
    "* controllare se comb lin di vettori del kernel è in media sempre lo stesso vettore"
   ]
  },
  {
   "cell_type": "code",
   "execution_count": 3,
   "id": "d13bf8da",
   "metadata": {},
   "outputs": [
    {
     "name": "stdout",
     "output_type": "stream",
     "text": [
      "Train: X=(60000, 28, 28), y=(60000,)\n",
      "Test: X=(10000, 28, 28), y=(10000,)\n"
     ]
    },
    {
     "data": {
      "image/png": "[encoded data removed]",
      "text/plain": [
       "<Figure size 640x480 with 9 Axes>"
      ]
     },
     "metadata": {},
     "output_type": "display_data"
    }
   ],
   "source": [
    "# load dataset\n",
    "(trainX, trainy), (testX, testy) = mnist.load_data()\n",
    "trainX = trainX/255\n",
    "# summarize loaded dataset\n",
    "print('Train: X=%s, y=%s' % (trainX.shape, trainy.shape))\n",
    "print('Test: X=%s, y=%s' % (testX.shape, testy.shape))\n",
    "# plot first few images\n",
    "for i in range(9):\n",
    "    # define subplot\n",
    "    plt.subplot(330 + 1 + i)\n",
    "    # plot raw pixel data\n",
    "    plt.imshow(trainX[i], cmap=plt.get_cmap('gray'))\n",
    "# show the figure\n",
    "plt.show()"
   ]
  },
  {
   "cell_type": "code",
   "execution_count": 4,
   "id": "52fee388",
   "metadata": {},
   "outputs": [],
   "source": [
    "def G(d): # questa è  rot_mat\n",
    "    mat = np.zeros(d**4).reshape(d**2,d**2)\n",
    "    for j in range(d):\n",
    "        for i in range(d):\n",
    "            k = (i+1)*d-j\n",
    "            h = i+(j)*d+1\n",
    "\n",
    "            mat[h-1][k-1] = 1\n",
    "    return mat\n",
    "\n",
    "def W(output_dim, d = 4):\n",
    "    kernel = null_space((np.identity(d*d) -  G(d)).T).T\n",
    "    W = []\n",
    "    for j in range(output_dim):\n",
    "        vec = np.zeros(d**2)\n",
    "        for k in kernel:\n",
    "            vec = (np.random.random()-0.5)*100*k + vec # kernel[j]\n",
    "        W.append(list(vec/np.linalg.norm(vec)))\n",
    "    W = np.array(W)\n",
    "    return np.array(W)"
   ]
  },
  {
   "cell_type": "code",
   "execution_count": 6,
   "id": "34b3f4cd",
   "metadata": {},
   "outputs": [],
   "source": [
    "def NN(x, thetas):\n",
    "    W1, b1, W2, b2 = deflatten(thetas, get_shapes([W1_i, b1_i, W2_i,b2_i]))\n",
    "    out = W2 @ torch.nn.LeakyReLU()(W1 @ x + b1) + b2\n",
    "    return out"
   ]
  },
  {
   "cell_type": "code",
   "execution_count": 7,
   "id": "d9b277c9",
   "metadata": {},
   "outputs": [],
   "source": [
    "# Funzione che definisce la varietà: sfera unitaria centrata in 0\n",
    "def g(thetas):\n",
    "    W1, b1, W2, b2 = deflatten(thetas, get_shapes([W1_i, b1_i, W2_i,b2_i]))\n",
    "    d = int(np.sqrt(W1.shape[1]))\n",
    "    ker_equation = torch.Tensor(W1) @ (torch.eye(d*d) -  torch.Tensor(G(d)))\n",
    "    \n",
    "    norm = (ker_equation.norm())**2\n",
    "    return norm # sfera unitaria\n",
    "\n",
    "# Gradiente di f\n",
    "def dg(thetas):\n",
    "    gradient = grad(g)(thetas)\n",
    "    return gradient #+ 1e-5*(gradient.norm()==0)\n",
    "\n",
    "def flatten(weights_list):\n",
    "    flatten_weights = []\n",
    "    for weight in weights_list:\n",
    "        flatten_weights.append(weight.flatten())\n",
    "        \n",
    "    return np.concatenate(flatten_weights)\n",
    "\n",
    "def deflatten(weights_flat, shapes):\n",
    "    weigths_list = []\n",
    "    shape_counter = 0\n",
    "    for shape in shapes:\n",
    "        weight = torch.Tensor(weights_flat[shape_counter: shape_counter + np.prod(shape)])\n",
    "        shape_counter = shape_counter + np.prod(shape)\n",
    "        \n",
    "        weigths_list.append(weight.reshape(shape))\n",
    "            \n",
    "    return weigths_list\n",
    "\n",
    "def get_shapes(weights_list):\n",
    "    shapes = []\n",
    "    for weight in weights_list:\n",
    "        shapes.append(weight.shape)\n",
    "    return(shapes)\n",
    "\n",
    "# Classe LevelSetManifold già implementata sopra\n",
    "class LevelSetManifold(geoopt.manifolds.Manifold):\n",
    "    \n",
    "    ndim = 1\n",
    "    name = \"Caste\"\n",
    "    \n",
    "    def __init__(self, f, df, lr_proj = 1):\n",
    "        super().__init__()\n",
    "        self.f = f\n",
    "        self.df = df\n",
    "        self.lr_proj = lr_proj\n",
    "\n",
    "    def _check_point_on_manifold(self, x, atol=1e-7, rtol=1e-7):\n",
    "        return torch.abs(self.f(x)) < atol\n",
    "\n",
    "    def _check_vector_on_tangent(self, x, u, atol=1e-7, rtol=1e-7):\n",
    "        grad_f = self.df(x)\n",
    "        return torch.abs(u @ grad_f).sum() < atol\n",
    "    \n",
    "    def projx(self,x):\n",
    "        if self._check_point_on_manifold(x):\n",
    "            return x\n",
    "        for r in range(10):\n",
    "            x = self.single_projx(x)\n",
    "#             print(\"g: \", self.f(x))\n",
    "#             print(\"dg: \", self.df(x).norm())\n",
    "            if r == 9:\n",
    "                print(f\"Retraction applied {r + 1} times\")\n",
    "            if self._check_point_on_manifold(x):\n",
    "                print(f\"Retraction applied {r + 1} times\")\n",
    "                break\n",
    "        return x\n",
    "    \n",
    "    def single_projx(self, x):\n",
    "        grad_f = self.df(x)\n",
    "        f_val = self.f(x)\n",
    "        return x - self.lr_proj*(f_val / grad_f.norm()**2 * grad_f)\n",
    "\n",
    "    def proju(self, x, u):\n",
    "        grad_f = self.df(x)\n",
    "        return u - (u @ grad_f) / grad_f.norm()**2 * grad_f\n",
    "\n",
    "    def inner(self, x, u, v=None):\n",
    "        if v is None:\n",
    "            v = u\n",
    "        return (u * v).sum()\n",
    "\n",
    "    def expmap(self, x, u):\n",
    "        return self.retr(x, u)\n",
    "\n",
    "    def egrad2rgrad(self, x, u):\n",
    "        return self.proju(x, u)\n",
    "\n",
    "    def retr(self, x, u):\n",
    "        x_new = x + u\n",
    "        return self.projx(x_new)\n",
    "\n"
   ]
  },
  {
   "cell_type": "code",
   "execution_count": 30,
   "id": "5cbeb619",
   "metadata": {},
   "outputs": [],
   "source": [
    "quale = [0,1]\n",
    "\n",
    "mnist_vector = torch.Tensor(trainX) #torch.randint(0, 256, (1,28,28)).float()/256\n",
    "mnist_vector_rotated_90 = rotate(img=mnist_vector, angle=90)[quale].reshape(784,len(quale))\n",
    "mnist_vector_rotated_180 = rotate(img=mnist_vector, angle=180)[quale].reshape(784,len(quale))\n",
    "mnist_vector_rotated_270 = rotate(img=mnist_vector, angle=270)[quale].reshape(784,len(quale))\n",
    "mnist_vector = mnist_vector[quale].reshape(784,len(quale))"
   ]
  },
  {
   "cell_type": "code",
   "execution_count": 32,
   "id": "8432db3e",
   "metadata": {},
   "outputs": [],
   "source": [
    "W1_i = (torch.rand((64,784)).float() - 0.5)*2 # W(64, d = 28) \n",
    "b1_i = (torch.rand((64,1)).float() - 0.5)*2\n",
    "\n",
    "W2_i = (torch.rand((10,64)).float() - 0.5)*2\n",
    "b2_i = (torch.rand((10,1)).float() - 0.5)*2"
   ]
  },
  {
   "cell_type": "code",
   "execution_count": 33,
   "id": "bab8b47b",
   "metadata": {},
   "outputs": [
    {
     "data": {
      "text/plain": [
       "tensor(33273.3164, grad_fn=<PowBackward0>)"
      ]
     },
     "execution_count": 33,
     "metadata": {},
     "output_type": "execute_result"
    }
   ],
   "source": [
    "# Creiamo la varietà\n",
    "manifold = LevelSetManifold(g, dg, 1)\n",
    "# Test del parametro manifold\n",
    "\n",
    "theta = flatten([W1_i, b1_i, W2_i, b2_i])\n",
    "theta = geoopt.ManifoldParameter(theta , manifold=manifold)\n",
    "g(theta)"
   ]
  },
  {
   "cell_type": "code",
   "execution_count": 34,
   "id": "95df7759",
   "metadata": {},
   "outputs": [
    {
     "data": {
      "text/plain": [
       "tensor(631.8226, grad_fn=<LinalgVectorNormBackward0>)"
      ]
     },
     "execution_count": 34,
     "metadata": {},
     "output_type": "execute_result"
    }
   ],
   "source": [
    "torch.norm(dg(theta))"
   ]
  },
  {
   "cell_type": "code",
   "execution_count": 35,
   "id": "cfd5756d",
   "metadata": {},
   "outputs": [
    {
     "data": {
      "text/plain": [
       "tensor(False)"
      ]
     },
     "execution_count": 35,
     "metadata": {},
     "output_type": "execute_result"
    }
   ],
   "source": [
    "manifold._check_point_on_manifold(theta.data)"
   ]
  },
  {
   "cell_type": "code",
   "execution_count": 36,
   "id": "725c30ea",
   "metadata": {},
   "outputs": [
    {
     "name": "stdout",
     "output_type": "stream",
     "text": [
      "\n",
      "\n",
      "\n",
      "############## Training phase ################\n",
      "Retraction applied 10 times\n",
      "Epoch 1 Loss: 22.736194610595703 theta: -0.3039562702178955 g(theta): 0.03991006\n",
      "Retraction applied 10 times\n",
      "Retraction applied 10 times\n",
      "Epoch 2 Loss: 13.6044340133667 theta: -0.3044086992740631 g(theta): 4e-08\n",
      "Retraction applied 6 times\n",
      "Epoch 3 Loss: 13.261760711669922 theta: -0.3044091463088989 g(theta): 1e-07\n",
      "Retraction applied 6 times\n",
      "Epoch 4 Loss: 12.946014404296875 theta: -0.30440905690193176 g(theta): 6e-08\n",
      "Retraction applied 6 times\n",
      "Epoch 5 Loss: 12.655898094177246 theta: -0.3044091761112213 g(theta): 6e-08\n",
      "Retraction applied 6 times\n",
      "Epoch 6 Loss: 12.379456520080566 theta: -0.30440905690193176 g(theta): 7e-08\n",
      "Retraction applied 6 times\n",
      "Epoch 7 Loss: 12.117799758911133 theta: -0.3044091761112213 g(theta): 7e-08\n",
      "Retraction applied 6 times\n",
      "Epoch 8 Loss: 11.865545272827148 theta: -0.30440908670425415 g(theta): 6e-08\n",
      "Retraction applied 6 times\n",
      "Epoch 9 Loss: 11.62304401397705 theta: -0.3044091761112213 g(theta): 7e-08\n",
      "Retraction applied 6 times\n",
      "Epoch 10 Loss: 11.385891914367676 theta: -0.30440908670425415 g(theta): 6e-08\n",
      "Retraction applied 6 times\n",
      "Epoch 11 Loss: 11.154659271240234 theta: -0.3044091761112213 g(theta): 6e-08\n",
      "Retraction applied 6 times\n",
      "Epoch 12 Loss: 10.927468299865723 theta: -0.30440908670425415 g(theta): 7e-08\n",
      "Retraction applied 6 times\n",
      "Epoch 13 Loss: 10.70346450805664 theta: -0.3044091761112213 g(theta): 6e-08\n",
      "Retraction applied 6 times\n",
      "Epoch 14 Loss: 10.492121696472168 theta: -0.30440908670425415 g(theta): 5e-08\n",
      "Retraction applied 6 times\n",
      "Epoch 15 Loss: 10.291110038757324 theta: -0.3044091761112213 g(theta): 5e-08\n",
      "Retraction applied 6 times\n",
      "Epoch 16 Loss: 10.091848373413086 theta: -0.30440908670425415 g(theta): 5e-08\n",
      "Retraction applied 6 times\n",
      "Epoch 17 Loss: 9.894386291503906 theta: -0.3044091761112213 g(theta): 5e-08\n",
      "Retraction applied 6 times\n",
      "Epoch 18 Loss: 9.698262214660645 theta: -0.30440908670425415 g(theta): 5e-08\n",
      "Retraction applied 6 times\n",
      "Epoch 19 Loss: 9.503458023071289 theta: -0.3044091761112213 g(theta): 5e-08\n",
      "Retraction applied 6 times\n",
      "Epoch 20 Loss: 9.309643745422363 theta: -0.30440908670425415 g(theta): 5e-08\n",
      "Retraction applied 6 times\n",
      "Epoch 21 Loss: 9.116825103759766 theta: -0.3044091761112213 g(theta): 5e-08\n",
      "Retraction applied 6 times\n",
      "Epoch 22 Loss: 8.92478084564209 theta: -0.30440908670425415 g(theta): 5e-08\n",
      "Retraction applied 6 times\n",
      "Epoch 23 Loss: 8.733512878417969 theta: -0.3044091761112213 g(theta): 5e-08\n",
      "Retraction applied 6 times\n",
      "Epoch 24 Loss: 8.542867660522461 theta: -0.30440908670425415 g(theta): 5e-08\n",
      "Retraction applied 6 times\n",
      "Epoch 25 Loss: 8.352850914001465 theta: -0.3044091761112213 g(theta): 5e-08\n",
      "Retraction applied 6 times\n",
      "Epoch 26 Loss: 8.163418769836426 theta: -0.30440908670425415 g(theta): 5e-08\n",
      "Retraction applied 6 times\n",
      "Epoch 27 Loss: 7.974489212036133 theta: -0.3044091761112213 g(theta): 5e-08\n",
      "Retraction applied 6 times\n",
      "Epoch 28 Loss: 7.786001205444336 theta: -0.30440908670425415 g(theta): 5e-08\n",
      "Retraction applied 6 times\n",
      "Epoch 29 Loss: 7.597965240478516 theta: -0.3044091761112213 g(theta): 5e-08\n",
      "Retraction applied 6 times\n",
      "Epoch 30 Loss: 7.410340309143066 theta: -0.30440908670425415 g(theta): 5e-08\n",
      "Retraction applied 6 times\n",
      "Epoch 31 Loss: 7.223153591156006 theta: -0.3044091761112213 g(theta): 5e-08\n",
      "Retraction applied 6 times\n",
      "Epoch 32 Loss: 7.036375522613525 theta: -0.30440908670425415 g(theta): 5e-08\n",
      "Retraction applied 6 times\n",
      "Epoch 33 Loss: 6.850027561187744 theta: -0.3044091761112213 g(theta): 5e-08\n",
      "Retraction applied 6 times\n",
      "Epoch 34 Loss: 6.664120197296143 theta: -0.30440908670425415 g(theta): 5e-08\n",
      "Retraction applied 6 times\n",
      "Epoch 35 Loss: 6.4786834716796875 theta: -0.3044091761112213 g(theta): 5e-08\n",
      "Retraction applied 6 times\n",
      "Epoch 36 Loss: 6.29373025894165 theta: -0.30440908670425415 g(theta): 5e-08\n",
      "Retraction applied 6 times\n",
      "Epoch 37 Loss: 6.109310626983643 theta: -0.3044091761112213 g(theta): 5e-08\n",
      "Retraction applied 6 times\n",
      "Epoch 38 Loss: 5.9254631996154785 theta: -0.30440908670425415 g(theta): 5e-08\n",
      "Retraction applied 6 times\n",
      "Epoch 39 Loss: 5.742246150970459 theta: -0.3044091761112213 g(theta): 5e-08\n",
      "Retraction applied 6 times\n",
      "Epoch 40 Loss: 5.559730529785156 theta: -0.30440908670425415 g(theta): 5e-08\n",
      "Retraction applied 6 times\n",
      "Epoch 41 Loss: 5.377995014190674 theta: -0.3044091761112213 g(theta): 5e-08\n",
      "Retraction applied 6 times\n",
      "Epoch 42 Loss: 5.197135925292969 theta: -0.30440908670425415 g(theta): 5e-08\n",
      "Retraction applied 6 times\n",
      "Epoch 43 Loss: 5.017256736755371 theta: -0.3044091761112213 g(theta): 5e-08\n",
      "Retraction applied 6 times\n",
      "Epoch 44 Loss: 4.838481903076172 theta: -0.30440908670425415 g(theta): 5e-08\n",
      "Retraction applied 6 times\n",
      "Epoch 45 Loss: 4.660947799682617 theta: -0.3044091761112213 g(theta): 5e-08\n",
      "Retraction applied 6 times\n",
      "Epoch 46 Loss: 4.484814643859863 theta: -0.30440908670425415 g(theta): 5e-08\n",
      "Retraction applied 6 times\n",
      "Epoch 47 Loss: 4.31023645401001 theta: -0.3044091761112213 g(theta): 5e-08\n",
      "Retraction applied 6 times\n",
      "Epoch 48 Loss: 4.137403964996338 theta: -0.30440908670425415 g(theta): 5e-08\n",
      "Retraction applied 6 times\n",
      "Epoch 49 Loss: 3.966486692428589 theta: -0.3044091761112213 g(theta): 5e-08\n",
      "Retraction applied 6 times\n",
      "Epoch 50 Loss: 3.797696590423584 theta: -0.30440908670425415 g(theta): 5e-08\n",
      "Retraction applied 6 times\n",
      "Epoch 51 Loss: 3.63120436668396 theta: -0.3044091761112213 g(theta): 4e-08\n",
      "Retraction applied 6 times\n",
      "Epoch 52 Loss: 3.467214822769165 theta: -0.30440908670425415 g(theta): 4e-08\n",
      "Retraction applied 6 times\n",
      "Epoch 53 Loss: 3.3058714866638184 theta: -0.3044091761112213 g(theta): 4e-08\n",
      "Retraction applied 6 times\n",
      "Epoch 54 Loss: 3.1473677158355713 theta: -0.30440908670425415 g(theta): 4e-08\n",
      "Retraction applied 6 times\n",
      "Epoch 55 Loss: 2.9917805194854736 theta: -0.3044091761112213 g(theta): 4e-08\n",
      "Retraction applied 6 times\n",
      "Epoch 56 Loss: 2.839263439178467 theta: -0.30440908670425415 g(theta): 4e-08\n",
      "Retraction applied 6 times\n",
      "Epoch 57 Loss: 2.689838409423828 theta: -0.3044091761112213 g(theta): 4e-08\n",
      "Retraction applied 6 times\n",
      "Epoch 58 Loss: 2.54361891746521 theta: -0.30440908670425415 g(theta): 4e-08\n",
      "Retraction applied 6 times\n",
      "Epoch 59 Loss: 2.400567054748535 theta: -0.3044091761112213 g(theta): 4e-08\n",
      "Retraction applied 6 times\n",
      "Epoch 60 Loss: 2.260786294937134 theta: -0.30440908670425415 g(theta): 4e-08\n",
      "Retraction applied 6 times\n",
      "Epoch 61 Loss: 2.1242144107818604 theta: -0.3044091761112213 g(theta): 4e-08\n",
      "Retraction applied 6 times\n",
      "Epoch 62 Loss: 1.9909906387329102 theta: -0.30440908670425415 g(theta): 4e-08\n",
      "Retraction applied 6 times\n",
      "Epoch 63 Loss: 1.8610841035842896 theta: -0.3044091761112213 g(theta): 3e-08\n",
      "Retraction applied 6 times\n",
      "Epoch 64 Loss: 1.7347081899642944 theta: -0.30440908670425415 g(theta): 3e-08\n",
      "Retraction applied 6 times\n",
      "Epoch 65 Loss: 1.6119178533554077 theta: -0.3044091761112213 g(theta): 3e-08\n",
      "Retraction applied 6 times\n",
      "Epoch 66 Loss: 1.493045449256897 theta: -0.30440908670425415 g(theta): 3e-08\n",
      "Retraction applied 6 times\n",
      "Epoch 67 Loss: 1.3782711029052734 theta: -0.3044091761112213 g(theta): 3e-08\n",
      "Retraction applied 6 times\n",
      "Epoch 68 Loss: 1.2703828811645508 theta: -0.30440908670425415 g(theta): 3e-08\n",
      "Retraction applied 5 times\n",
      "Epoch 69 Loss: 1.1736294031143188 theta: -0.3044092357158661 g(theta): 9e-08\n",
      "Retraction applied 5 times\n",
      "Epoch 70 Loss: 1.0808864831924438 theta: -0.30440905690193176 g(theta): 9e-08\n",
      "Retraction applied 5 times\n",
      "Epoch 71 Loss: 0.9931354522705078 theta: -0.3044092059135437 g(theta): 8e-08\n",
      "Retraction applied 5 times\n",
      "Epoch 72 Loss: 0.9107719659805298 theta: -0.30440905690193176 g(theta): 8e-08\n",
      "Retraction applied 5 times\n",
      "Epoch 73 Loss: 0.8333239555358887 theta: -0.3044092059135437 g(theta): 7e-08\n",
      "Retraction applied 5 times\n",
      "Epoch 74 Loss: 0.7615714073181152 theta: -0.30440905690193176 g(theta): 7e-08\n",
      "Retraction applied 5 times\n",
      "Epoch 75 Loss: 0.695114016532898 theta: -0.3044092059135437 g(theta): 6e-08\n",
      "Retraction applied 5 times\n",
      "Epoch 76 Loss: 0.6343487501144409 theta: -0.30440905690193176 g(theta): 6e-08\n",
      "Retraction applied 5 times\n",
      "Epoch 77 Loss: 0.578847348690033 theta: -0.3044092059135437 g(theta): 5e-08\n",
      "Retraction applied 5 times\n",
      "Epoch 78 Loss: 0.5286758542060852 theta: -0.30440905690193176 g(theta): 5e-08\n",
      "Retraction applied 5 times\n",
      "Epoch 79 Loss: 0.4833461046218872 theta: -0.3044092059135437 g(theta): 4e-08\n"
     ]
    },
    {
     "name": "stdout",
     "output_type": "stream",
     "text": [
      "Retraction applied 5 times\n",
      "Epoch 80 Loss: 0.4427030086517334 theta: -0.30440905690193176 g(theta): 4e-08\n",
      "Retraction applied 5 times\n",
      "Epoch 81 Loss: 0.40623903274536133 theta: -0.3044092059135437 g(theta): 3e-08\n",
      "Retraction applied 5 times\n",
      "Epoch 82 Loss: 0.3736838102340698 theta: -0.30440905690193176 g(theta): 3e-08\n",
      "Retraction applied 5 times\n",
      "Epoch 83 Loss: 0.3445690870285034 theta: -0.3044092059135437 g(theta): 3e-08\n",
      "Retraction applied 4 times\n",
      "Epoch 84 Loss: 0.31859081983566284 theta: -0.304408997297287 g(theta): 1e-07\n",
      "Retraction applied 4 times\n",
      "Epoch 85 Loss: 0.2950393557548523 theta: -0.3044092655181885 g(theta): 8e-08\n",
      "Retraction applied 4 times\n",
      "Epoch 86 Loss: 0.2743488550186157 theta: -0.3044090270996094 g(theta): 7e-08\n",
      "Retraction applied 4 times\n",
      "Epoch 87 Loss: 0.25575992465019226 theta: -0.3044092357158661 g(theta): 7e-08\n",
      "Retraction applied 4 times\n",
      "Epoch 88 Loss: 0.23980097472667694 theta: -0.30440905690193176 g(theta): 5e-08\n",
      "Retraction applied 4 times\n",
      "Epoch 89 Loss: 0.22597278654575348 theta: -0.3044092059135437 g(theta): 5e-08\n",
      "Retraction applied 4 times\n",
      "Epoch 90 Loss: 0.21342061460018158 theta: -0.30440905690193176 g(theta): 4e-08\n",
      "Retraction applied 4 times\n",
      "Epoch 91 Loss: 0.20197820663452148 theta: -0.3044092059135437 g(theta): 4e-08\n",
      "Retraction applied 4 times\n",
      "Epoch 92 Loss: 0.19146722555160522 theta: -0.30440905690193176 g(theta): 4e-08\n",
      "Retraction applied 4 times\n",
      "Epoch 93 Loss: 0.18189427256584167 theta: -0.3044092059135437 g(theta): 3e-08\n",
      "Retraction applied 4 times\n",
      "Epoch 94 Loss: 0.17309685051441193 theta: -0.30440905690193176 g(theta): 3e-08\n",
      "Retraction applied 4 times\n",
      "Epoch 95 Loss: 0.16498182713985443 theta: -0.3044092059135437 g(theta): 3e-08\n",
      "Retraction applied 3 times\n",
      "Epoch 96 Loss: 0.15753324329853058 theta: -0.304408997297287 g(theta): 1e-07\n",
      "Retraction applied 3 times\n",
      "Epoch 97 Loss: 0.15042640268802643 theta: -0.3044092357158661 g(theta): 5e-08\n",
      "Retraction applied 3 times\n",
      "Epoch 98 Loss: 0.14420613646507263 theta: -0.3044090270996094 g(theta): 8e-08\n",
      "Retraction applied 3 times\n",
      "Epoch 99 Loss: 0.1381649374961853 theta: -0.3044092357158661 g(theta): 5e-08\n",
      "Retraction applied 3 times\n",
      "Epoch 100 Loss: 0.1327778697013855 theta: -0.3044090270996094 g(theta): 5e-08\n",
      "\n",
      "\n",
      "\n",
      "Punto finale: Parameter on Caste manifold containing:\n",
      "Parameter(ManifoldParameter([-0.5435, -0.3044, -0.6487,  ...,  0.2131, -0.0790,\n",
      "                   -0.7712], requires_grad=True))\n",
      "Appartiene alla varietà? tensor(True)\n"
     ]
    },
    {
     "data": {
      "image/png": "[encoded data removed]",
      "text/plain": [
       "<Figure size 640x480 with 1 Axes>"
      ]
     },
     "metadata": {},
     "output_type": "display_data"
    }
   ],
   "source": [
    "print(\"\\n\\n\")\n",
    "\n",
    "# # Verifica che il parametro iniziale appartenga alla varietà\n",
    "# assert manifold._check_point_on_manifold(theta.data), \"Il punto iniziale non è sulla varietà\"\n",
    "\n",
    "def loss_fn(mnist_vector, theta):\n",
    "    return torch.nn.CrossEntropyLoss()(NN(mnist_vector, theta).T, torch.Tensor(trainy[quale]).long())\n",
    "\n",
    "# Ottimizzatore Riemanniano\n",
    "optimizer = RiemannianSGD([theta], lr=0.0005)\n",
    "\n",
    "# Ciclo di ottimizzazione\n",
    "g_during_train = []\n",
    "loss_history = []\n",
    "print(\"############## Training phase ################\")\n",
    "for epoch in range(100):\n",
    "    optimizer.zero_grad()\n",
    "    loss = loss_fn(mnist_vector, theta)\n",
    "    loss.backward()\n",
    "    optimizer.step()\n",
    "    if epoch%1 == 0:\n",
    "        print(\"Epoch\",  epoch + 1, \n",
    "              \"Loss:\", loss.item(),\n",
    "              \"theta:\", theta.data[1].item(),\n",
    "              \"g(theta):\", round(float(g(theta).data.numpy()),8))\n",
    "    loss_history.append(loss.item())\n",
    "    g_during_train.append(g(theta).data.numpy())\n",
    "# plt.plot(g_during_train)\n",
    "plt.plot(loss_history)\n",
    "print(\"\\n\\n\")\n",
    "\n",
    "# Risultato finale\n",
    "print(\"Punto finale:\", theta)\n",
    "print(\"Appartiene alla varietà?\", manifold._check_point_on_manifold(theta))"
   ]
  },
  {
   "cell_type": "code",
   "execution_count": 37,
   "id": "b2843525",
   "metadata": {
    "scrolled": false
   },
   "outputs": [
    {
     "data": {
      "text/plain": [
       "tensor([[  6.0821,   9.8845],\n",
       "        [  4.9150,   6.2667],\n",
       "        [ -6.3950,  -4.6463],\n",
       "        [ -1.1976,  -1.9874],\n",
       "        [  2.3909,   7.6281],\n",
       "        [ 13.0130,   7.6332],\n",
       "        [-10.4237, -14.5575],\n",
       "        [-18.1666, -18.6684],\n",
       "        [  5.5321,   6.9222],\n",
       "        [ -8.4836,  -7.0703]], grad_fn=<AddBackward0>)"
      ]
     },
     "execution_count": 37,
     "metadata": {},
     "output_type": "execute_result"
    }
   ],
   "source": [
    "# x = torch.randint(0, 256, (1,28,28)).float()\n",
    "# x_90 = rotate(img=x, angle=90).reshape(784,1)\n",
    "# x_180 = rotate(img=x, angle=180).reshape(784,1)\n",
    "# x = x.reshape(784,1)\n",
    "\n",
    "NN(mnist_vector,theta)"
   ]
  },
  {
   "cell_type": "code",
   "execution_count": 38,
   "id": "ac5707a6",
   "metadata": {},
   "outputs": [
    {
     "data": {
      "text/plain": [
       "tensor([[  7.8597,  12.4025],\n",
       "        [ 13.4001,   2.7423],\n",
       "        [ -7.3965,  -1.2496],\n",
       "        [ -0.3839,   2.8846],\n",
       "        [ 12.9949,  14.0376],\n",
       "        [ 12.2599,   7.3389],\n",
       "        [-13.1155, -13.6958],\n",
       "        [-10.4449, -11.7429],\n",
       "        [  9.8628,  10.7877],\n",
       "        [-18.0701, -11.0274]], grad_fn=<AddBackward0>)"
      ]
     },
     "execution_count": 38,
     "metadata": {},
     "output_type": "execute_result"
    }
   ],
   "source": [
    "NN(mnist_vector_rotated_90, theta)"
   ]
  },
  {
   "cell_type": "code",
   "execution_count": 39,
   "id": "bc542633",
   "metadata": {},
   "outputs": [
    {
     "data": {
      "text/plain": [
       "tensor([[ 11.8902,  13.1279],\n",
       "        [ 12.9183,  19.7332],\n",
       "        [ -7.7564,   0.2741],\n",
       "        [  1.0827,  -0.8489],\n",
       "        [ 14.3210,  21.2904],\n",
       "        [  9.2134,   9.2094],\n",
       "        [-13.1927,  -9.9705],\n",
       "        [-16.9546, -10.7227],\n",
       "        [ 14.5133,  11.1272],\n",
       "        [-16.5114, -24.6756]], grad_fn=<AddBackward0>)"
      ]
     },
     "execution_count": 39,
     "metadata": {},
     "output_type": "execute_result"
    }
   ],
   "source": [
    "NN(mnist_vector_rotated_180, theta)"
   ]
  },
  {
   "cell_type": "code",
   "execution_count": 40,
   "id": "022923d5",
   "metadata": {},
   "outputs": [
    {
     "data": {
      "text/plain": [
       "tensor([[  4.9663,   9.1556],\n",
       "        [ 15.2315,  12.9078],\n",
       "        [ -2.8140,  -5.2756],\n",
       "        [  0.8437,  -1.1350],\n",
       "        [  2.9704,   7.3618],\n",
       "        [ 15.4901,  18.9053],\n",
       "        [-14.9971, -12.8510],\n",
       "        [-24.1024, -18.7959],\n",
       "        [  5.8460,  11.7081],\n",
       "        [-10.4986, -17.0963]], grad_fn=<AddBackward0>)"
      ]
     },
     "execution_count": 40,
     "metadata": {},
     "output_type": "execute_result"
    }
   ],
   "source": [
    "NN(mnist_vector_rotated_270, theta)"
   ]
  },
  {
   "cell_type": "code",
   "execution_count": 18,
   "id": "3a2de1f2",
   "metadata": {},
   "outputs": [
    {
     "data": {
      "text/plain": [
       "[torch.Size([64, 784]),\n",
       " torch.Size([64, 1]),\n",
       " torch.Size([10, 64]),\n",
       " torch.Size([10, 1])]"
      ]
     },
     "execution_count": 18,
     "metadata": {},
     "output_type": "execute_result"
    }
   ],
   "source": [
    "get_shapes([W1_i, b1_i, W2_i,b2_i])"
   ]
  },
  {
   "cell_type": "code",
   "execution_count": 19,
   "id": "8e886413",
   "metadata": {},
   "outputs": [
    {
     "ename": "NameError",
     "evalue": "name 'x' is not defined",
     "output_type": "error",
     "traceback": [
      "\u001b[1;31m---------------------------------------------------------------------------\u001b[0m",
      "\u001b[1;31mNameError\u001b[0m                                 Traceback (most recent call last)",
      "Input \u001b[1;32mIn [19]\u001b[0m, in \u001b[0;36m<cell line: 2>\u001b[1;34m()\u001b[0m\n\u001b[0;32m      1\u001b[0m W1, b1, W2, b2 \u001b[38;5;241m=\u001b[39m deflatten(theta, get_shapes([W1_i, b1_i, W2_i,b2_i]))\n\u001b[1;32m----> 2\u001b[0m y \u001b[38;5;241m=\u001b[39m \u001b[43mx\u001b[49m\u001b[38;5;241m.\u001b[39mflatten()\n\u001b[0;32m      3\u001b[0m y \u001b[38;5;241m=\u001b[39m y\u001b[38;5;241m.\u001b[39mreshape(\u001b[38;5;241m784\u001b[39m,\u001b[38;5;241m1\u001b[39m)\n\u001b[0;32m      4\u001b[0m \u001b[38;5;28mprint\u001b[39m(y\u001b[38;5;241m.\u001b[39mshape)\n",
      "\u001b[1;31mNameError\u001b[0m: name 'x' is not defined"
     ]
    }
   ],
   "source": [
    "W1, b1, W2, b2 = deflatten(theta, get_shapes([W1_i, b1_i, W2_i,b2_i]))\n",
    "y = x.flatten()\n",
    "y = y.reshape(784,1)\n",
    "print(y.shape)\n",
    "N0 = (W1 @ y + b1)\n",
    "print(N0.shape)\n",
    "N1 =  torch.nn.LeakyReLU()(N0)\n",
    "N2 = W2 @ N1 + b2\n",
    "print(N2.shape)"
   ]
  },
  {
   "cell_type": "code",
   "execution_count": null,
   "id": "a79d1cd1",
   "metadata": {},
   "outputs": [],
   "source": [
    "def NN(x, thetas):\n",
    "    W1, b1, W2, b2 = deflatten(thetas, get_shapes([W1_i, b1_i, W2_i,b2_i]))\n",
    "    out = W2 @ torch.nn.LeakyReLU()(W1 @ x + b1) + b2\n",
    "    return out"
   ]
  }
 ],
 "metadata": {
  "kernelspec": {
   "display_name": "Python 3 (ipykernel)",
   "language": "python",
   "name": "python3"
  },
  "language_info": {
   "codemirror_mode": {
    "name": "ipython",
    "version": 3
   },
   "file_extension": ".py",
   "mimetype": "text/x-python",
   "name": "python",
   "nbconvert_exporter": "python",
   "pygments_lexer": "ipython3",
   "version": "3.9.13"
  }
 },
 "nbformat": 4,
 "nbformat_minor": 5
}
